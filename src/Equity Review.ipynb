{
 "cells": [
  {
   "cell_type": "code",
   "execution_count": null,
   "id": "7bfa1dac",
   "metadata": {},
   "outputs": [],
   "source": [
    "# Import libraries for loading data, analysis and visualization\n",
    "import plotly.express as px\n",
    "import plotly.graph_objects as go\n",
    "import pandas as pd\n",
    "import numpy as np\n",
    "from pathlib import Path\n",
    "from os.path import join"
   ]
  },
  {
   "cell_type": "markdown",
   "id": "70b590e0",
   "metadata": {},
   "source": [
    "# Load review data"
   ]
  },
  {
   "cell_type": "code",
   "execution_count": null,
   "id": "a2c5a926",
   "metadata": {},
   "outputs": [],
   "source": [
    "path = Path.cwd()\n",
    "ROOT_DIR = path.parent.absolute()"
   ]
  },
  {
   "cell_type": "code",
   "execution_count": null,
   "id": "f75dbbef",
   "metadata": {},
   "outputs": [],
   "source": [
    "# Root for data directory\n",
    "r_fp = join(ROOT_DIR, 'data')\n",
    "\n",
    "# All papers\n",
    "all_papers = pd.read_csv(join(r_fp, 'all_papers.csv'))\n",
    "\n",
    "# Papers that measure equity\n",
    "eqm = pd.read_csv(join(r_fp, 'measure_equity.csv'))"
   ]
  },
  {
   "cell_type": "code",
   "execution_count": null,
   "id": "7b5c5826",
   "metadata": {},
   "outputs": [],
   "source": [
    "# Drop rows & columns that are all na from csv\n",
    "all_papers = all_papers.dropna(how='all')\n",
    "all_papers = all_papers.dropna(axis=1, how='all')\n",
    "\n",
    "eqm = eqm.dropna(how='all')\n",
    "eqm = eqm.dropna(axis=1, how='all')"
   ]
  },
  {
   "cell_type": "markdown",
   "id": "3c180597",
   "metadata": {},
   "source": [
    "# Summarize review"
   ]
  },
  {
   "cell_type": "code",
   "execution_count": null,
   "id": "13be5892",
   "metadata": {},
   "outputs": [],
   "source": [
    "# Get drop columns\n",
    "# There are columns where \"Yes\" values indicate \n",
    "# papers should not be included in our review sample\n",
    "drop_no_equity = all_papers['drop_no_equity'] == 'Yes'\n",
    "drop_no_dist_equity = all_papers['drop_no_dist_equity'] == 'Yes'\n",
    "drop_no_flood = all_papers['drop_no_flood'] == 'Yes'\n",
    "drop_no_eng = all_papers['drop_no_eng'] == 'Yes'\n",
    "drop_equity_use_not_fair = all_papers['drop_equity_use_not_fair'] == 'Yes'\n",
    "drop_not_quant = all_papers['drop_not_quant'] == 'Yes'\n",
    "\n",
    "# Keep track in dataframes and print rows in each\n",
    "# no_acc_df = all_papers.loc[drop_no_acc]\n",
    "no_eq_df = all_papers.loc[drop_no_equity]\n",
    "no_dist_eq = all_papers.loc[drop_no_dist_equity]\n",
    "no_flood = all_papers.loc[drop_no_flood]\n",
    "no_eng = all_papers.loc[drop_no_eng]\n",
    "eq_not_fair = all_papers.loc[drop_equity_use_not_fair]\n",
    "\n",
    "drop_types = ['No Equity', 'No Outcome Equity',\n",
    "              'No Flood Focus', 'No English', 'No Equity As Fairness']\n",
    "dfs = [no_eq_df, no_dist_eq, no_flood,\n",
    "       no_eng, eq_not_fair]\n",
    "\n",
    "for dt, df in zip(drop_types, dfs):\n",
    "    print('Dropped ' + str(len(df)) + ' Papers Because ' + dt)\n",
    "    \n",
    "# Equity measured/defined filling in na values\n",
    "all_papers['eq_m'] = np.where(all_papers['equity_measure_flood'] == 'Yes',\n",
    "                              'Yes', 'No')\n",
    "all_papers['eq_d'] = np.where(all_papers['equity_defined'] == 'Yes',\n",
    "                              'Yes', 'No')\n",
    "    \n",
    "# Subset df to qualitative/review entries\n",
    "# And quantitative entries that are the \"true\" review\n",
    "qual_df = all_papers.loc[drop_not_quant &\n",
    "                         (~drop_no_equity) &\n",
    "                         (~drop_no_dist_equity) &\n",
    "                         (~drop_no_flood) & (~drop_no_eng) &\n",
    "                         (~drop_equity_use_not_fair)]\n",
    "qut_df = all_papers.loc[(all_papers['analysis_type'] == 'Quantitative') &\n",
    "                        (~drop_no_equity) &\n",
    "                        (~drop_no_dist_equity) &\n",
    "                        (~drop_no_flood) & (~drop_no_eng) &\n",
    "                        (~drop_equity_use_not_fair)]\n",
    "\n",
    "# Print rows in each\n",
    "print(str(len(qual_df)) + ' Qualitative/Review/Theory/Comment Papers')\n",
    "print(str(len(qut_df)) + ' Quantitative Papers')\n",
    "\n",
    "# Check mutual exclusive coding\n",
    "mut_ex = (len(all_papers) - len(qut_df) - len(qual_df) - \n",
    "          len(no_eq_df) - len(no_dist_eq) - len(no_flood) - len(no_eng) -\n",
    "          len(eq_not_fair))\n",
    "print('Mutually Exclusive Coding if 0: ' + str(mut_ex))"
   ]
  },
  {
   "cell_type": "markdown",
   "id": "70d0367c",
   "metadata": {},
   "source": [
    "## Summarize review sample definitions"
   ]
  },
  {
   "cell_type": "code",
   "execution_count": null,
   "id": "10de3eef",
   "metadata": {},
   "outputs": [],
   "source": [
    "# Get boolean flag for quantitative and qualitative assessments\n",
    "qut_df['emp_s'] = 'Quantitative'\n",
    "qual_df['emp_s'] = 'Qualitative'\n",
    "\n",
    "# Subset to qual and quant papers that were coded\n",
    "sub_papers = pd.concat([qut_df, qual_df], axis=0)"
   ]
  },
  {
   "cell_type": "code",
   "execution_count": null,
   "id": "c1bb5912",
   "metadata": {},
   "outputs": [],
   "source": [
    "print(\"Proportion of Papers with Equity Defined\")\n",
    "print(sub_papers.groupby(['eq_d']).size()/len(sub_papers))\n",
    "print(\"Number of Papers with Equity Defined\")\n",
    "print(sub_papers.groupby(['eq_d']).size())\n",
    "\n",
    "print(\"Propotion of Papers with Different Equity Definition Codes\")\n",
    "print(sub_papers.groupby(['equity_defined_cat']).size()/len(sub_papers))\n",
    "\n",
    "print(\"Number of Papers with Different Equity Definition Codes\")\n",
    "print(sub_papers.groupby(['equity_defined_cat']).size())"
   ]
  },
  {
   "cell_type": "markdown",
   "id": "7de6e4f2",
   "metadata": {},
   "source": [
    "## Summarize qualitative papers definitions"
   ]
  },
  {
   "cell_type": "code",
   "execution_count": null,
   "id": "6cc47009",
   "metadata": {},
   "outputs": [],
   "source": [
    "print(\"Proportion of Papers with Equity Defined\")\n",
    "print(qual_df.groupby(['eq_d']).size()/len(qual_df))\n",
    "print(\"Number of Papers with Equity Defined\")\n",
    "print(qual_df.groupby(['eq_d']).size())\n",
    "\n",
    "print(\"Propotion of Papers with Different Equity Definition Scores\")\n",
    "print(qual_df.groupby(['equity_defined_cat']).size()/len(qual_df))\n",
    "\n",
    "print(\"Number of Papers with Different Equity Definition Scores\")\n",
    "print(qual_df.groupby(['equity_defined_cat']).size())"
   ]
  },
  {
   "cell_type": "markdown",
   "id": "90ef4873",
   "metadata": {},
   "source": [
    "## Summarize quantitative papers definitions"
   ]
  },
  {
   "cell_type": "code",
   "execution_count": null,
   "id": "ba707f4b",
   "metadata": {},
   "outputs": [],
   "source": [
    "print(\"Proportion of Papers with Equity Defined\")\n",
    "print(qut_df.groupby(['eq_d']).size()/len(qut_df))\n",
    "print(\"Number of Papers with Equity Defined\")\n",
    "print(qut_df.groupby(['eq_d']).size())\n",
    "\n",
    "print(\"Propotion of Papers with Different Equity Definition Scores\")\n",
    "print(qut_df.groupby(['equity_defined_cat']).size()/len(qut_df))\n",
    "\n",
    "print(\"Number of Papers with Different Equity Definition Scores\")\n",
    "print(qut_df.groupby(['equity_defined_cat']).size())\n",
    "\n",
    "print(\"Number of Assessments That Measure Equity by Definition\")\n",
    "print((qut_df.groupby(['equity_defined_cat', 'eq_m']).size()))\n",
    "\n",
    "print(\"Proportion of Assessments That Measure Equity by Definition\")\n",
    "print((qut_df.groupby(['equity_defined_cat', 'eq_m']).size()/\n",
    "       qut_df.groupby(['equity_defined_cat']).size()))"
   ]
  },
  {
   "cell_type": "markdown",
   "id": "804ff568",
   "metadata": {},
   "source": [
    "# Map equity indicators onto taxonomy"
   ]
  },
  {
   "cell_type": "code",
   "execution_count": null,
   "id": "bcc697e2",
   "metadata": {},
   "outputs": [],
   "source": [
    "import plotly.graph_objects as go\n",
    "\n",
    "eqm_plot = eqm[eqm['equity_why'] != 'None']\n",
    "\n",
    "# Create dimensions\n",
    "what_dim = go.parcats.Dimension(\n",
    "    values=eqm_plot['what_dist'],\n",
    ")\n",
    "\n",
    "whom_dim = go.parcats.Dimension(\n",
    "    values=eqm_plot['whom_dist'],\n",
    ")\n",
    "\n",
    "other_dim = go.parcats.Dimension(\n",
    "    values=eqm_plot['other_dist'],\n",
    ")\n",
    "\n",
    "why_dim = go.parcats.Dimension(\n",
    "    values=eqm_plot['equity_why'],\n",
    ")\n",
    "\n",
    "\n",
    "# Create parcats trace\n",
    "# From https://cran.r-project.org/web/packages/khroma/vignettes/tol.html\n",
    "# use teal from 'vibrant'\n",
    "# Which will contrast in next plot with #BBBBBB 'grey'\n",
    "color = '#009988'\n",
    "fig = go.Figure(data = [go.Parcats(dimensions=[what_dim,\n",
    "                                               whom_dim,\n",
    "                                               other_dim,\n",
    "                                               why_dim],\n",
    "        line={'color': color},\n",
    "        hoveron='color', hoverinfo='count',\n",
    "        tickfont={'size': 16, 'family': 'Times'},\n",
    "        arrangement='freeform')]\n",
    "              )\n",
    "fig.update_layout(\n",
    "    autosize=True)\n",
    "\n",
    "fig.show()"
   ]
  },
  {
   "cell_type": "code",
   "execution_count": null,
   "id": "f599cb74",
   "metadata": {},
   "outputs": [],
   "source": [
    "# Total number of equity indicators\n",
    "len(eqm_plot)"
   ]
  },
  {
   "cell_type": "code",
   "execution_count": null,
   "id": "9b75806e",
   "metadata": {},
   "outputs": [],
   "source": [
    "# Total number of papers with equity indicators\n",
    "len(eqm_plot['doi'].unique())"
   ]
  },
  {
   "cell_type": "code",
   "execution_count": null,
   "id": "b677d4af",
   "metadata": {},
   "outputs": [],
   "source": [
    "# Seeing how many studies use multiple equity indicators, and how many of them\n",
    "eqm_plot.groupby(['doi']).size().value_counts()"
   ]
  },
  {
   "cell_type": "code",
   "execution_count": null,
   "id": "c770fdf6",
   "metadata": {},
   "outputs": [],
   "source": [
    "# Looking at the papers with multiple equity indicators\n",
    "eqm_plot.groupby(['doi']).size().sort_values(ascending=False).head(4)"
   ]
  },
  {
   "cell_type": "code",
   "execution_count": null,
   "id": "6db03b16",
   "metadata": {},
   "outputs": [],
   "source": [
    "# Outcomes #s\n",
    "eqm_plot.groupby(['what_dist']).size()"
   ]
  },
  {
   "cell_type": "code",
   "execution_count": null,
   "id": "29452c43",
   "metadata": {},
   "outputs": [],
   "source": [
    "# Scales #s\n",
    "eqm_plot.groupby(['whom_dist']).size()"
   ]
  },
  {
   "cell_type": "code",
   "execution_count": null,
   "id": "c4d11ef3",
   "metadata": {},
   "outputs": [],
   "source": [
    "# Other #s\n",
    "eqm_plot.groupby(['other_dist']).size()"
   ]
  },
  {
   "cell_type": "code",
   "execution_count": null,
   "id": "dbd1fde4",
   "metadata": {},
   "outputs": [],
   "source": [
    "# Why #s\n",
    "eqm_plot.groupby(['equity_why']).size()"
   ]
  },
  {
   "cell_type": "code",
   "execution_count": null,
   "id": "483b1193",
   "metadata": {},
   "outputs": [],
   "source": [
    "# Total summary\n",
    "eqm_plot.groupby(['what_dist',\n",
    "                  'whom_dist',\n",
    "                  'other_dist',\n",
    "                  'equity_why']).size()"
   ]
  },
  {
   "cell_type": "code",
   "execution_count": null,
   "id": "995e7e63",
   "metadata": {},
   "outputs": [],
   "source": [
    "# What and why summary\n",
    "eqm_plot.groupby(['what_dist',\n",
    "                  'equity_why']).size()"
   ]
  },
  {
   "cell_type": "code",
   "execution_count": null,
   "id": "bf20b291",
   "metadata": {},
   "outputs": [],
   "source": [
    "import plotly.graph_objects as go\n",
    "\n",
    "# Replot with small text for editing outside\n",
    "# plotly defaults\n",
    "\n",
    "# Create dimensions\n",
    "what_dim = go.parcats.Dimension(\n",
    "    values=eqm_plot['what_dist'],\n",
    ")\n",
    "\n",
    "whom_dim = go.parcats.Dimension(\n",
    "    values=eqm_plot['whom_dist'].str[0],\n",
    ")\n",
    "\n",
    "other_dim = go.parcats.Dimension(\n",
    "    values=eqm_plot['other_dist'].str[0],\n",
    ")\n",
    "\n",
    "why_dim = go.parcats.Dimension(\n",
    "    values=eqm_plot['equity_why'],\n",
    ")\n",
    "\n",
    "\n",
    "# Create parcats trace\n",
    "# From https://cran.r-project.org/web/packages/khroma/vignettes/tol.html\n",
    "# use teal from 'vibrant'\n",
    "# Which will contrast in next plot with #BBBBBB 'grey'\n",
    "color = '#009988'\n",
    "fig = go.Figure(data = [go.Parcats(dimensions=[what_dim,\n",
    "                                               whom_dim,\n",
    "                                               other_dim,\n",
    "                                               why_dim],\n",
    "        line={'color': color},\n",
    "        hoveron='color', hoverinfo='count',\n",
    "        tickfont={'size': 1, 'family': 'Times'},\n",
    "        arrangement='freeform')]\n",
    "              )\n",
    "fig.update_layout(\n",
    "    autosize=True)\n",
    "\n",
    "fig.show()"
   ]
  },
  {
   "cell_type": "markdown",
   "id": "e8c2979a",
   "metadata": {},
   "source": [
    "# Compare equity indicators with similar measurements"
   ]
  },
  {
   "cell_type": "code",
   "execution_count": null,
   "id": "f896d8a6",
   "metadata": {},
   "outputs": [],
   "source": [
    "# Explode on other_dist since there are some measurements\n",
    "# classified with semicolons for other characteristics\n",
    "eqm_e = eqm.assign(other_dist_a=eqm['other_dist'].str.split(';'))\n",
    "eqm_e = eqm_e.explode('other_dist_a')\n",
    "eqm_e['other_dist_a'] = eqm_e['other_dist_a'].str.strip()"
   ]
  },
  {
   "cell_type": "code",
   "execution_count": null,
   "id": "1044ebea",
   "metadata": {},
   "outputs": [],
   "source": [
    "len(eqm_e)"
   ]
  },
  {
   "cell_type": "code",
   "execution_count": null,
   "id": "ecca7cca",
   "metadata": {},
   "outputs": [],
   "source": [
    "# Link eqm_e dataframe with whether a study defined equity or not\n",
    "# All studies with equity indicators do this\n",
    "# Not always the case for similar measurements even\n",
    "# if they say results have equity implications\n",
    "eq_defs = dict(zip(sub_papers['doi'],\n",
    "                   sub_papers['equity_defined_cat']))\n",
    "eqm_e['eq_d'] = eqm_e['doi'].map(eq_defs)\n",
    "\n",
    "eqm_e['eq_fair'] = 'Unclear'\n",
    "eqm_e.loc[eqm_e['eq_d'] == 1,\n",
    "        'eq_fair'] = 'Inequality'\n",
    "eqm_e.loc[eqm_e['eq_d'] == 2,\n",
    "        'eq_fair'] = 'Env. Justice'\n",
    "eqm_e.loc[eqm_e['eq_d'] == 3,\n",
    "        'eq_fair'] = 'Dist. Justice'\n",
    "\n",
    "eqm_e['whom_dist_p'] = eqm_e['whom_dist'].copy()\n",
    "eqm_e.loc[eqm_e['whom_dist'] == 'Zip Codes',\n",
    "        'whom_dist_p'] = 'Small Census Areas'\n",
    "eqm_e.loc[eqm_e['whom_dist'] == 'County',\n",
    "        'whom_dist_p'] = 'Large Areas'\n",
    "eqm_e.loc[eqm_e['whom_dist'] == 'Regions',\n",
    "        'whom_dist_p'] = 'Large Areas'\n",
    "\n",
    "# Color by indicators\n",
    "import plotly.graph_objects as go\n",
    "\n",
    "\n",
    "# Create dimensions\n",
    "def_dim = go.parcats.Dimension(\n",
    "    values=eqm_e['eq_fair'],\n",
    ")\n",
    "\n",
    "what_dim = go.parcats.Dimension(\n",
    "    values=eqm_e['what_dist'],\n",
    ")\n",
    "\n",
    "whom_dim = go.parcats.Dimension(\n",
    "    values=eqm_e['whom_dist_p'],\n",
    ")\n",
    "\n",
    "other_dim = go.parcats.Dimension(\n",
    "    values=eqm_e['other_dist_a'],\n",
    ")\n",
    "\n",
    "# Create parcats trace\n",
    "color = np.where(eqm_e['equity_why'] == 'None',\n",
    "                  0, 1)\n",
    "colorscale = [[0, '#BBBBBB'], [1, '#009988']]\n",
    "\n",
    "fig = go.Figure(data = [go.Parcats(dimensions=[def_dim,\n",
    "                                               what_dim,\n",
    "                                               whom_dim,\n",
    "                                               other_dim],\n",
    "        line={'color': color,\n",
    "              'colorscale': colorscale},\n",
    "        hoveron='color', hoverinfo='count',\n",
    "        tickfont={'size': 16, 'family': 'Times'},\n",
    "        arrangement='freeform')]\n",
    "              )\n",
    "fig.update_layout(\n",
    "    autosize=True)\n",
    "\n",
    "fig.show()"
   ]
  },
  {
   "cell_type": "code",
   "execution_count": null,
   "id": "d41b9459",
   "metadata": {},
   "outputs": [],
   "source": [
    "eqm_e.groupby(['eq_fair', 'what_dist',\n",
    "               'whom_dist_p', 'other_dist_a']).size()"
   ]
  },
  {
   "cell_type": "code",
   "execution_count": null,
   "id": "fb74a700",
   "metadata": {},
   "outputs": [],
   "source": [
    "eqm_e.groupby(['eq_fair', 'equity_why']).size()"
   ]
  },
  {
   "cell_type": "code",
   "execution_count": null,
   "id": "339d8705",
   "metadata": {},
   "outputs": [],
   "source": [
    "len(eqm_e[eqm_e['equity_why'] == 'None']['doi'].unique())"
   ]
  },
  {
   "cell_type": "code",
   "execution_count": null,
   "id": "973c1046",
   "metadata": {},
   "outputs": [],
   "source": [
    "len(eqm_e[eqm_e['equity_why'] == 'None'])"
   ]
  },
  {
   "cell_type": "code",
   "execution_count": null,
   "id": "b6123c63",
   "metadata": {},
   "outputs": [],
   "source": [
    "# Redo for touch up\n",
    "\n",
    "import plotly.graph_objects as go\n",
    "\n",
    "\n",
    "# Create dimensions\n",
    "def_dim = go.parcats.Dimension(\n",
    "    values=eqm_e['eq_fair'],\n",
    ")\n",
    "\n",
    "what_dim = go.parcats.Dimension(\n",
    "    values=eqm_e['what_dist'].str[-3:],\n",
    ")\n",
    "\n",
    "whom_dim = go.parcats.Dimension(\n",
    "    values=eqm_e['whom_dist_p'].str[0],\n",
    ")\n",
    "\n",
    "other_dim = go.parcats.Dimension(\n",
    "    values=eqm_e['other_dist_a'],\n",
    ")\n",
    "\n",
    "# Create parcats trace\n",
    "color = np.where(eqm_e['equity_why'] == 'None',\n",
    "                  0, 1)\n",
    "colorscale = [[0, '#BBBBBB'], [1, '#009988']]\n",
    "\n",
    "fig = go.Figure(data = [go.Parcats(dimensions=[def_dim,\n",
    "                                               what_dim,\n",
    "                                               whom_dim,\n",
    "                                               other_dim],\n",
    "        line={'color': color,\n",
    "              'colorscale': colorscale},\n",
    "        hoveron='color', hoverinfo='count',\n",
    "        tickfont={'size': 1, 'family': 'Times'},\n",
    "        arrangement='freeform')]\n",
    "              )\n",
    "fig.update_layout(\n",
    "    autosize=True)\n",
    "\n",
    "fig.show()"
   ]
  },
  {
   "cell_type": "code",
   "execution_count": null,
   "id": "a9f248fc",
   "metadata": {},
   "outputs": [],
   "source": []
  }
 ],
 "metadata": {
  "kernelspec": {
   "display_name": "eqmeas",
   "language": "python",
   "name": "eqmeas"
  },
  "language_info": {
   "codemirror_mode": {
    "name": "ipython",
    "version": 3
   },
   "file_extension": ".py",
   "mimetype": "text/x-python",
   "name": "python",
   "nbconvert_exporter": "python",
   "pygments_lexer": "ipython3",
   "version": "3.10.9"
  }
 },
 "nbformat": 4,
 "nbformat_minor": 5
}
