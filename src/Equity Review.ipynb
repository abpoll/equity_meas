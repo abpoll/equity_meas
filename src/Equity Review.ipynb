{
 "cells": [
  {
   "cell_type": "code",
   "execution_count": 1,
   "id": "7bfa1dac",
   "metadata": {},
   "outputs": [],
   "source": [
    "# Import libraries for loading data, analysis and visualization\n",
    "import plotly.express as px\n",
    "import plotly.graph_objects as go\n",
    "import pandas as pd\n",
    "import numpy as np\n",
    "from pathlib import Path\n",
    "from os.path import join"
   ]
  },
  {
   "cell_type": "markdown",
   "id": "70b590e0",
   "metadata": {},
   "source": [
    "# Load review data"
   ]
  },
  {
   "cell_type": "code",
   "execution_count": 2,
   "id": "a2c5a926",
   "metadata": {},
   "outputs": [],
   "source": [
    "path = Path.cwd()\n",
    "ROOT_DIR = path.parent.absolute()"
   ]
  },
  {
   "cell_type": "code",
   "execution_count": 3,
   "id": "f75dbbef",
   "metadata": {},
   "outputs": [],
   "source": [
    "# Root for data directory\n",
    "r_fp = join(ROOT_DIR, 'data')\n",
    "\n",
    "# All papers\n",
    "all_papers = pd.read_csv(join(r_fp, 'all_papers.csv'))\n",
    "\n",
    "# Papers that measure equity\n",
    "eqm = pd.read_csv(join(r_fp, 'measure_equity.csv'))"
   ]
  },
  {
   "cell_type": "code",
   "execution_count": 4,
   "id": "7b5c5826",
   "metadata": {},
   "outputs": [],
   "source": [
    "# Drop rows & columns that are all na from csv\n",
    "all_papers = all_papers.dropna(how='all')\n",
    "all_papers = all_papers.dropna(axis=1, how='all')\n",
    "\n",
    "eqm = eqm.dropna(how='all')\n",
    "eqm = eqm.dropna(axis=1, how='all')"
   ]
  },
  {
   "cell_type": "code",
   "execution_count": 25,
   "id": "0c1f5efa",
   "metadata": {},
   "outputs": [],
   "source": [
    "# Update census areas to small census areas\n",
    "eqm.loc[eqm['whom_dist'] == 'Census Areas',\n",
    "        'whom_dist'] = 'Small Census Areas'"
   ]
  },
  {
   "cell_type": "markdown",
   "id": "3c180597",
   "metadata": {},
   "source": [
    "# Summarize review"
   ]
  },
  {
   "cell_type": "code",
   "execution_count": 5,
   "id": "13be5892",
   "metadata": {},
   "outputs": [
    {
     "name": "stdout",
     "output_type": "stream",
     "text": [
      "Dropped 1 Papers Because No Equity\n",
      "Dropped 1 Papers Because No Outcome Equity\n",
      "Dropped 35 Papers Because No Flood Focus\n",
      "Dropped 1 Papers Because No English\n",
      "Dropped 17 Papers Because No Equity As Fairness\n",
      "68 Qualitative/Review/Theory/Comment Papers\n",
      "99 Quantitative Papers\n",
      "Mutually Exclusive Coding if 0: 0\n"
     ]
    }
   ],
   "source": [
    "# Get drop columns\n",
    "# There are columns where \"Yes\" values indicate \n",
    "# papers should not be included in our review sample\n",
    "drop_no_equity = all_papers['drop_no_equity'] == 'Yes'\n",
    "drop_no_dist_equity = all_papers['drop_no_dist_equity'] == 'Yes'\n",
    "drop_no_flood = all_papers['drop_no_flood'] == 'Yes'\n",
    "drop_no_eng = all_papers['drop_no_eng'] == 'Yes'\n",
    "drop_equity_use_not_fair = all_papers['drop_equity_use_not_fair'] == 'Yes'\n",
    "drop_not_quant = all_papers['drop_not_quant'] == 'Yes'\n",
    "\n",
    "# Keep track in dataframes and print rows in each\n",
    "# no_acc_df = all_papers.loc[drop_no_acc]\n",
    "no_eq_df = all_papers.loc[drop_no_equity]\n",
    "no_dist_eq = all_papers.loc[drop_no_dist_equity]\n",
    "no_flood = all_papers.loc[drop_no_flood]\n",
    "no_eng = all_papers.loc[drop_no_eng]\n",
    "eq_not_fair = all_papers.loc[drop_equity_use_not_fair]\n",
    "\n",
    "drop_types = ['No Equity', 'No Outcome Equity',\n",
    "              'No Flood Focus', 'No English', 'No Equity As Fairness']\n",
    "dfs = [no_eq_df, no_dist_eq, no_flood,\n",
    "       no_eng, eq_not_fair]\n",
    "\n",
    "for dt, df in zip(drop_types, dfs):\n",
    "    print('Dropped ' + str(len(df)) + ' Papers Because ' + dt)\n",
    "    \n",
    "# Equity measured/defined filling in na values\n",
    "all_papers['eq_m'] = np.where(all_papers['equity_measure_flood'] == 'Yes',\n",
    "                              'Yes', 'No')\n",
    "all_papers['eq_d'] = np.where(all_papers['equity_defined'] == 'Yes',\n",
    "                              'Yes', 'No')\n",
    "    \n",
    "# Subset df to qualitative/review entries\n",
    "# And quantitative entries that are the \"true\" review\n",
    "qual_df = all_papers.loc[drop_not_quant &\n",
    "                         (~drop_no_equity) &\n",
    "                         (~drop_no_dist_equity) &\n",
    "                         (~drop_no_flood) & (~drop_no_eng) &\n",
    "                         (~drop_equity_use_not_fair)]\n",
    "qut_df = all_papers.loc[(all_papers['analysis_type'] == 'Quantitative') &\n",
    "                        (~drop_no_equity) &\n",
    "                        (~drop_no_dist_equity) &\n",
    "                        (~drop_no_flood) & (~drop_no_eng) &\n",
    "                        (~drop_equity_use_not_fair)]\n",
    "\n",
    "# Print rows in each\n",
    "print(str(len(qual_df)) + ' Qualitative/Review/Theory/Comment Papers')\n",
    "print(str(len(qut_df)) + ' Quantitative Papers')\n",
    "\n",
    "# Check mutual exclusive coding\n",
    "mut_ex = (len(all_papers) - len(qut_df) - len(qual_df) - \n",
    "          len(no_eq_df) - len(no_dist_eq) - len(no_flood) - len(no_eng) -\n",
    "          len(eq_not_fair))\n",
    "print('Mutually Exclusive Coding if 0: ' + str(mut_ex))"
   ]
  },
  {
   "cell_type": "markdown",
   "id": "70d0367c",
   "metadata": {},
   "source": [
    "## Summarize review sample definitions"
   ]
  },
  {
   "cell_type": "code",
   "execution_count": 6,
   "id": "10de3eef",
   "metadata": {},
   "outputs": [
    {
     "name": "stderr",
     "output_type": "stream",
     "text": [
      "/tmp/ipykernel_394762/1049013165.py:2: SettingWithCopyWarning: \n",
      "A value is trying to be set on a copy of a slice from a DataFrame.\n",
      "Try using .loc[row_indexer,col_indexer] = value instead\n",
      "\n",
      "See the caveats in the documentation: https://pandas.pydata.org/pandas-docs/stable/user_guide/indexing.html#returning-a-view-versus-a-copy\n",
      "  qut_df['emp_s'] = 'Quantitative'\n",
      "/tmp/ipykernel_394762/1049013165.py:3: SettingWithCopyWarning: \n",
      "A value is trying to be set on a copy of a slice from a DataFrame.\n",
      "Try using .loc[row_indexer,col_indexer] = value instead\n",
      "\n",
      "See the caveats in the documentation: https://pandas.pydata.org/pandas-docs/stable/user_guide/indexing.html#returning-a-view-versus-a-copy\n",
      "  qual_df['emp_s'] = 'Qualitative'\n"
     ]
    }
   ],
   "source": [
    "# Get boolean flag for quantitative and qualitative assessments\n",
    "qut_df['emp_s'] = 'Quantitative'\n",
    "qual_df['emp_s'] = 'Qualitative'\n",
    "\n",
    "# Subset to qual and quant papers that were coded\n",
    "sub_papers = pd.concat([qut_df, qual_df], axis=0)"
   ]
  },
  {
   "cell_type": "code",
   "execution_count": 7,
   "id": "c1bb5912",
   "metadata": {},
   "outputs": [
    {
     "name": "stdout",
     "output_type": "stream",
     "text": [
      "Proportion of Papers with Equity Defined\n",
      "eq_d\n",
      "No     0.520958\n",
      "Yes    0.479042\n",
      "dtype: float64\n",
      "Number of Papers with Equity Defined\n",
      "eq_d\n",
      "No     87\n",
      "Yes    80\n",
      "dtype: int64\n",
      "Propotion of Papers with Different Equity Definition Codes\n",
      "equity_defined_cat\n",
      "0.0    0.682635\n",
      "1.0    0.077844\n",
      "2.0    0.125749\n",
      "3.0    0.077844\n",
      "4.0    0.017964\n",
      "5.0    0.017964\n",
      "dtype: float64\n",
      "Number of Papers with Different Equity Definition Codes\n",
      "equity_defined_cat\n",
      "0.0    114\n",
      "1.0     13\n",
      "2.0     21\n",
      "3.0     13\n",
      "4.0      3\n",
      "5.0      3\n",
      "dtype: int64\n"
     ]
    }
   ],
   "source": [
    "print(\"Proportion of Papers with Equity Defined\")\n",
    "print(sub_papers.groupby(['eq_d']).size()/len(sub_papers))\n",
    "print(\"Number of Papers with Equity Defined\")\n",
    "print(sub_papers.groupby(['eq_d']).size())\n",
    "\n",
    "print(\"Propotion of Papers with Different Equity Definition Codes\")\n",
    "print(sub_papers.groupby(['equity_defined_cat']).size()/len(sub_papers))\n",
    "\n",
    "print(\"Number of Papers with Different Equity Definition Codes\")\n",
    "print(sub_papers.groupby(['equity_defined_cat']).size())"
   ]
  },
  {
   "cell_type": "markdown",
   "id": "7de6e4f2",
   "metadata": {},
   "source": [
    "## Summarize qualitative papers definitions"
   ]
  },
  {
   "cell_type": "code",
   "execution_count": 8,
   "id": "6cc47009",
   "metadata": {},
   "outputs": [
    {
     "name": "stdout",
     "output_type": "stream",
     "text": [
      "Proportion of Papers with Equity Defined\n",
      "eq_d\n",
      "No     0.514706\n",
      "Yes    0.485294\n",
      "dtype: float64\n",
      "Number of Papers with Equity Defined\n",
      "eq_d\n",
      "No     35\n",
      "Yes    33\n",
      "dtype: int64\n",
      "Propotion of Papers with Different Equity Definition Scores\n",
      "equity_defined_cat\n",
      "0.0    0.661765\n",
      "1.0    0.044118\n",
      "2.0    0.088235\n",
      "3.0    0.132353\n",
      "4.0    0.044118\n",
      "5.0    0.029412\n",
      "dtype: float64\n",
      "Number of Papers with Different Equity Definition Scores\n",
      "equity_defined_cat\n",
      "0.0    45\n",
      "1.0     3\n",
      "2.0     6\n",
      "3.0     9\n",
      "4.0     3\n",
      "5.0     2\n",
      "dtype: int64\n"
     ]
    }
   ],
   "source": [
    "print(\"Proportion of Papers with Equity Defined\")\n",
    "print(qual_df.groupby(['eq_d']).size()/len(qual_df))\n",
    "print(\"Number of Papers with Equity Defined\")\n",
    "print(qual_df.groupby(['eq_d']).size())\n",
    "\n",
    "print(\"Propotion of Papers with Different Equity Definition Scores\")\n",
    "print(qual_df.groupby(['equity_defined_cat']).size()/len(qual_df))\n",
    "\n",
    "print(\"Number of Papers with Different Equity Definition Scores\")\n",
    "print(qual_df.groupby(['equity_defined_cat']).size())"
   ]
  },
  {
   "cell_type": "markdown",
   "id": "90ef4873",
   "metadata": {},
   "source": [
    "## Summarize quantitative papers definitions"
   ]
  },
  {
   "cell_type": "code",
   "execution_count": 9,
   "id": "ba707f4b",
   "metadata": {},
   "outputs": [
    {
     "name": "stdout",
     "output_type": "stream",
     "text": [
      "Proportion of Papers with Equity Defined\n",
      "eq_d\n",
      "No     0.525253\n",
      "Yes    0.474747\n",
      "dtype: float64\n",
      "Number of Papers with Equity Defined\n",
      "eq_d\n",
      "No     52\n",
      "Yes    47\n",
      "dtype: int64\n",
      "Propotion of Papers with Different Equity Definition Scores\n",
      "equity_defined_cat\n",
      "0.0    0.696970\n",
      "1.0    0.101010\n",
      "2.0    0.151515\n",
      "3.0    0.040404\n",
      "5.0    0.010101\n",
      "dtype: float64\n",
      "Number of Papers with Different Equity Definition Scores\n",
      "equity_defined_cat\n",
      "0.0    69\n",
      "1.0    10\n",
      "2.0    15\n",
      "3.0     4\n",
      "5.0     1\n",
      "dtype: int64\n",
      "Number of Assessments That Measure Equity by Definition\n",
      "equity_defined_cat  eq_m\n",
      "0.0                 No      52\n",
      "                    Yes     17\n",
      "1.0                 No       3\n",
      "                    Yes      7\n",
      "2.0                 No       1\n",
      "                    Yes     14\n",
      "3.0                 Yes      4\n",
      "5.0                 No       1\n",
      "dtype: int64\n",
      "Proportion of Assessments That Measure Equity by Definition\n",
      "equity_defined_cat  eq_m\n",
      "0.0                 No      0.753623\n",
      "                    Yes     0.246377\n",
      "1.0                 No      0.300000\n",
      "                    Yes     0.700000\n",
      "2.0                 No      0.066667\n",
      "                    Yes     0.933333\n",
      "3.0                 Yes     1.000000\n",
      "5.0                 No      1.000000\n",
      "dtype: float64\n"
     ]
    }
   ],
   "source": [
    "print(\"Proportion of Papers with Equity Defined\")\n",
    "print(qut_df.groupby(['eq_d']).size()/len(qut_df))\n",
    "print(\"Number of Papers with Equity Defined\")\n",
    "print(qut_df.groupby(['eq_d']).size())\n",
    "\n",
    "print(\"Propotion of Papers with Different Equity Definition Scores\")\n",
    "print(qut_df.groupby(['equity_defined_cat']).size()/len(qut_df))\n",
    "\n",
    "print(\"Number of Papers with Different Equity Definition Scores\")\n",
    "print(qut_df.groupby(['equity_defined_cat']).size())\n",
    "\n",
    "print(\"Number of Assessments That Measure Equity by Definition\")\n",
    "print((qut_df.groupby(['equity_defined_cat', 'eq_m']).size()))\n",
    "\n",
    "print(\"Proportion of Assessments That Measure Equity by Definition\")\n",
    "print((qut_df.groupby(['equity_defined_cat', 'eq_m']).size()/\n",
    "       qut_df.groupby(['equity_defined_cat']).size()))"
   ]
  },
  {
   "cell_type": "markdown",
   "id": "804ff568",
   "metadata": {},
   "source": [
    "# Map equity metrics onto taxonomy"
   ]
  },
  {
   "cell_type": "code",
   "execution_count": 26,
   "id": "bcc697e2",
   "metadata": {},
   "outputs": [
    {
     "data": {
      "application/vnd.plotly.v1+json": {
       "config": {
        "plotlyServerURL": "https://plot.ly"
       },
       "data": [
        {
         "arrangement": "freeform",
         "dimensions": [
          {
           "values": [
            "Risk",
            "Benefits",
            "Benefits",
            "Risk",
            "Benefits",
            "Benefits",
            "Benefits",
            "Benefits",
            "Benefits",
            "Benefits",
            "Benefits",
            "Benefits",
            "Exposure",
            "Recovery",
            "Vulnerability",
            "Risk",
            "Benefits",
            "Benefits",
            "Benefits",
            "Benefits",
            "Benefits",
            "Benefits",
            "Benefits",
            "Recovery",
            "Adaptation Funding",
            "Exposure",
            "Adaptation Impact"
           ]
          },
          {
           "values": [
            "Small Census Areas",
            "Individuals",
            "Individuals",
            "Large Areas",
            "Large Areas",
            "Large Areas",
            "Large Areas",
            "Large Areas",
            "Large Areas",
            "Large Areas",
            "Large Areas",
            "Individuals",
            "Individuals",
            "Individuals",
            "Individuals",
            "Regions",
            "Regions",
            "Individuals",
            "Individuals",
            "Individuals",
            "Individuals",
            "Individuals",
            "Individuals",
            "Individuals",
            "Small Census Areas",
            "Small Census Areas",
            "Individuals"
           ]
          },
          {
           "values": [
            "Invoke a Moral Principle",
            "Invoke a Moral Principle",
            "Ad Hoc",
            "Invoke a Moral Principle",
            "Invoke a Moral Principle",
            "Invoke a Moral Principle",
            "Invoke a Moral Principle",
            "Invoke a Moral Principle",
            "Invoke a Moral Principle",
            "Invoke a Moral Principle",
            "Invoke a Moral Principle",
            "Invoke a Moral Principle",
            "Invoke a Moral Principle",
            "Invoke a Moral Principle",
            "Not Stated",
            "Not Stated",
            "Not Stated",
            "Invoke a Moral Principle",
            "Invoke a Moral Principle",
            "Invoke a Moral Principle",
            "Invoke a Moral Principle",
            "Invoke a Moral Principle",
            "Invoke a Moral Principle",
            "Not Stated",
            "Interpret a Policy Mandate",
            "Not Stated",
            "Reflect Community Preferences"
           ]
          }
         ],
         "hoverinfo": "count",
         "hoveron": "color",
         "line": {
          "color": [
           1,
           1,
           1,
           1,
           1,
           1,
           1,
           1,
           1,
           1,
           1,
           1,
           1,
           1,
           0,
           0,
           0,
           1,
           1,
           1,
           1,
           1,
           1,
           0,
           1,
           0,
           1
          ],
          "colorscale": [
           [
            0,
            "#D3D3D3"
           ],
           [
            1,
            "#009E73"
           ]
          ]
         },
         "tickfont": {
          "family": "Times",
          "size": 16
         },
         "type": "parcats"
        }
       ],
       "layout": {
        "autosize": true,
        "template": {
         "data": {
          "bar": [
           {
            "error_x": {
             "color": "#2a3f5f"
            },
            "error_y": {
             "color": "#2a3f5f"
            },
            "marker": {
             "line": {
              "color": "#E5ECF6",
              "width": 0.5
             },
             "pattern": {
              "fillmode": "overlay",
              "size": 10,
              "solidity": 0.2
             }
            },
            "type": "bar"
           }
          ],
          "barpolar": [
           {
            "marker": {
             "line": {
              "color": "#E5ECF6",
              "width": 0.5
             },
             "pattern": {
              "fillmode": "overlay",
              "size": 10,
              "solidity": 0.2
             }
            },
            "type": "barpolar"
           }
          ],
          "carpet": [
           {
            "aaxis": {
             "endlinecolor": "#2a3f5f",
             "gridcolor": "white",
             "linecolor": "white",
             "minorgridcolor": "white",
             "startlinecolor": "#2a3f5f"
            },
            "baxis": {
             "endlinecolor": "#2a3f5f",
             "gridcolor": "white",
             "linecolor": "white",
             "minorgridcolor": "white",
             "startlinecolor": "#2a3f5f"
            },
            "type": "carpet"
           }
          ],
          "choropleth": [
           {
            "colorbar": {
             "outlinewidth": 0,
             "ticks": ""
            },
            "type": "choropleth"
           }
          ],
          "contour": [
           {
            "colorbar": {
             "outlinewidth": 0,
             "ticks": ""
            },
            "colorscale": [
             [
              0,
              "#0d0887"
             ],
             [
              0.1111111111111111,
              "#46039f"
             ],
             [
              0.2222222222222222,
              "#7201a8"
             ],
             [
              0.3333333333333333,
              "#9c179e"
             ],
             [
              0.4444444444444444,
              "#bd3786"
             ],
             [
              0.5555555555555556,
              "#d8576b"
             ],
             [
              0.6666666666666666,
              "#ed7953"
             ],
             [
              0.7777777777777778,
              "#fb9f3a"
             ],
             [
              0.8888888888888888,
              "#fdca26"
             ],
             [
              1,
              "#f0f921"
             ]
            ],
            "type": "contour"
           }
          ],
          "contourcarpet": [
           {
            "colorbar": {
             "outlinewidth": 0,
             "ticks": ""
            },
            "type": "contourcarpet"
           }
          ],
          "heatmap": [
           {
            "colorbar": {
             "outlinewidth": 0,
             "ticks": ""
            },
            "colorscale": [
             [
              0,
              "#0d0887"
             ],
             [
              0.1111111111111111,
              "#46039f"
             ],
             [
              0.2222222222222222,
              "#7201a8"
             ],
             [
              0.3333333333333333,
              "#9c179e"
             ],
             [
              0.4444444444444444,
              "#bd3786"
             ],
             [
              0.5555555555555556,
              "#d8576b"
             ],
             [
              0.6666666666666666,
              "#ed7953"
             ],
             [
              0.7777777777777778,
              "#fb9f3a"
             ],
             [
              0.8888888888888888,
              "#fdca26"
             ],
             [
              1,
              "#f0f921"
             ]
            ],
            "type": "heatmap"
           }
          ],
          "heatmapgl": [
           {
            "colorbar": {
             "outlinewidth": 0,
             "ticks": ""
            },
            "colorscale": [
             [
              0,
              "#0d0887"
             ],
             [
              0.1111111111111111,
              "#46039f"
             ],
             [
              0.2222222222222222,
              "#7201a8"
             ],
             [
              0.3333333333333333,
              "#9c179e"
             ],
             [
              0.4444444444444444,
              "#bd3786"
             ],
             [
              0.5555555555555556,
              "#d8576b"
             ],
             [
              0.6666666666666666,
              "#ed7953"
             ],
             [
              0.7777777777777778,
              "#fb9f3a"
             ],
             [
              0.8888888888888888,
              "#fdca26"
             ],
             [
              1,
              "#f0f921"
             ]
            ],
            "type": "heatmapgl"
           }
          ],
          "histogram": [
           {
            "marker": {
             "pattern": {
              "fillmode": "overlay",
              "size": 10,
              "solidity": 0.2
             }
            },
            "type": "histogram"
           }
          ],
          "histogram2d": [
           {
            "colorbar": {
             "outlinewidth": 0,
             "ticks": ""
            },
            "colorscale": [
             [
              0,
              "#0d0887"
             ],
             [
              0.1111111111111111,
              "#46039f"
             ],
             [
              0.2222222222222222,
              "#7201a8"
             ],
             [
              0.3333333333333333,
              "#9c179e"
             ],
             [
              0.4444444444444444,
              "#bd3786"
             ],
             [
              0.5555555555555556,
              "#d8576b"
             ],
             [
              0.6666666666666666,
              "#ed7953"
             ],
             [
              0.7777777777777778,
              "#fb9f3a"
             ],
             [
              0.8888888888888888,
              "#fdca26"
             ],
             [
              1,
              "#f0f921"
             ]
            ],
            "type": "histogram2d"
           }
          ],
          "histogram2dcontour": [
           {
            "colorbar": {
             "outlinewidth": 0,
             "ticks": ""
            },
            "colorscale": [
             [
              0,
              "#0d0887"
             ],
             [
              0.1111111111111111,
              "#46039f"
             ],
             [
              0.2222222222222222,
              "#7201a8"
             ],
             [
              0.3333333333333333,
              "#9c179e"
             ],
             [
              0.4444444444444444,
              "#bd3786"
             ],
             [
              0.5555555555555556,
              "#d8576b"
             ],
             [
              0.6666666666666666,
              "#ed7953"
             ],
             [
              0.7777777777777778,
              "#fb9f3a"
             ],
             [
              0.8888888888888888,
              "#fdca26"
             ],
             [
              1,
              "#f0f921"
             ]
            ],
            "type": "histogram2dcontour"
           }
          ],
          "mesh3d": [
           {
            "colorbar": {
             "outlinewidth": 0,
             "ticks": ""
            },
            "type": "mesh3d"
           }
          ],
          "parcoords": [
           {
            "line": {
             "colorbar": {
              "outlinewidth": 0,
              "ticks": ""
             }
            },
            "type": "parcoords"
           }
          ],
          "pie": [
           {
            "automargin": true,
            "type": "pie"
           }
          ],
          "scatter": [
           {
            "fillpattern": {
             "fillmode": "overlay",
             "size": 10,
             "solidity": 0.2
            },
            "type": "scatter"
           }
          ],
          "scatter3d": [
           {
            "line": {
             "colorbar": {
              "outlinewidth": 0,
              "ticks": ""
             }
            },
            "marker": {
             "colorbar": {
              "outlinewidth": 0,
              "ticks": ""
             }
            },
            "type": "scatter3d"
           }
          ],
          "scattercarpet": [
           {
            "marker": {
             "colorbar": {
              "outlinewidth": 0,
              "ticks": ""
             }
            },
            "type": "scattercarpet"
           }
          ],
          "scattergeo": [
           {
            "marker": {
             "colorbar": {
              "outlinewidth": 0,
              "ticks": ""
             }
            },
            "type": "scattergeo"
           }
          ],
          "scattergl": [
           {
            "marker": {
             "colorbar": {
              "outlinewidth": 0,
              "ticks": ""
             }
            },
            "type": "scattergl"
           }
          ],
          "scattermapbox": [
           {
            "marker": {
             "colorbar": {
              "outlinewidth": 0,
              "ticks": ""
             }
            },
            "type": "scattermapbox"
           }
          ],
          "scatterpolar": [
           {
            "marker": {
             "colorbar": {
              "outlinewidth": 0,
              "ticks": ""
             }
            },
            "type": "scatterpolar"
           }
          ],
          "scatterpolargl": [
           {
            "marker": {
             "colorbar": {
              "outlinewidth": 0,
              "ticks": ""
             }
            },
            "type": "scatterpolargl"
           }
          ],
          "scatterternary": [
           {
            "marker": {
             "colorbar": {
              "outlinewidth": 0,
              "ticks": ""
             }
            },
            "type": "scatterternary"
           }
          ],
          "surface": [
           {
            "colorbar": {
             "outlinewidth": 0,
             "ticks": ""
            },
            "colorscale": [
             [
              0,
              "#0d0887"
             ],
             [
              0.1111111111111111,
              "#46039f"
             ],
             [
              0.2222222222222222,
              "#7201a8"
             ],
             [
              0.3333333333333333,
              "#9c179e"
             ],
             [
              0.4444444444444444,
              "#bd3786"
             ],
             [
              0.5555555555555556,
              "#d8576b"
             ],
             [
              0.6666666666666666,
              "#ed7953"
             ],
             [
              0.7777777777777778,
              "#fb9f3a"
             ],
             [
              0.8888888888888888,
              "#fdca26"
             ],
             [
              1,
              "#f0f921"
             ]
            ],
            "type": "surface"
           }
          ],
          "table": [
           {
            "cells": {
             "fill": {
              "color": "#EBF0F8"
             },
             "line": {
              "color": "white"
             }
            },
            "header": {
             "fill": {
              "color": "#C8D4E3"
             },
             "line": {
              "color": "white"
             }
            },
            "type": "table"
           }
          ]
         },
         "layout": {
          "annotationdefaults": {
           "arrowcolor": "#2a3f5f",
           "arrowhead": 0,
           "arrowwidth": 1
          },
          "autotypenumbers": "strict",
          "coloraxis": {
           "colorbar": {
            "outlinewidth": 0,
            "ticks": ""
           }
          },
          "colorscale": {
           "diverging": [
            [
             0,
             "#8e0152"
            ],
            [
             0.1,
             "#c51b7d"
            ],
            [
             0.2,
             "#de77ae"
            ],
            [
             0.3,
             "#f1b6da"
            ],
            [
             0.4,
             "#fde0ef"
            ],
            [
             0.5,
             "#f7f7f7"
            ],
            [
             0.6,
             "#e6f5d0"
            ],
            [
             0.7,
             "#b8e186"
            ],
            [
             0.8,
             "#7fbc41"
            ],
            [
             0.9,
             "#4d9221"
            ],
            [
             1,
             "#276419"
            ]
           ],
           "sequential": [
            [
             0,
             "#0d0887"
            ],
            [
             0.1111111111111111,
             "#46039f"
            ],
            [
             0.2222222222222222,
             "#7201a8"
            ],
            [
             0.3333333333333333,
             "#9c179e"
            ],
            [
             0.4444444444444444,
             "#bd3786"
            ],
            [
             0.5555555555555556,
             "#d8576b"
            ],
            [
             0.6666666666666666,
             "#ed7953"
            ],
            [
             0.7777777777777778,
             "#fb9f3a"
            ],
            [
             0.8888888888888888,
             "#fdca26"
            ],
            [
             1,
             "#f0f921"
            ]
           ],
           "sequentialminus": [
            [
             0,
             "#0d0887"
            ],
            [
             0.1111111111111111,
             "#46039f"
            ],
            [
             0.2222222222222222,
             "#7201a8"
            ],
            [
             0.3333333333333333,
             "#9c179e"
            ],
            [
             0.4444444444444444,
             "#bd3786"
            ],
            [
             0.5555555555555556,
             "#d8576b"
            ],
            [
             0.6666666666666666,
             "#ed7953"
            ],
            [
             0.7777777777777778,
             "#fb9f3a"
            ],
            [
             0.8888888888888888,
             "#fdca26"
            ],
            [
             1,
             "#f0f921"
            ]
           ]
          },
          "colorway": [
           "#636efa",
           "#EF553B",
           "#00cc96",
           "#ab63fa",
           "#FFA15A",
           "#19d3f3",
           "#FF6692",
           "#B6E880",
           "#FF97FF",
           "#FECB52"
          ],
          "font": {
           "color": "#2a3f5f"
          },
          "geo": {
           "bgcolor": "white",
           "lakecolor": "white",
           "landcolor": "#E5ECF6",
           "showlakes": true,
           "showland": true,
           "subunitcolor": "white"
          },
          "hoverlabel": {
           "align": "left"
          },
          "hovermode": "closest",
          "mapbox": {
           "style": "light"
          },
          "paper_bgcolor": "white",
          "plot_bgcolor": "#E5ECF6",
          "polar": {
           "angularaxis": {
            "gridcolor": "white",
            "linecolor": "white",
            "ticks": ""
           },
           "bgcolor": "#E5ECF6",
           "radialaxis": {
            "gridcolor": "white",
            "linecolor": "white",
            "ticks": ""
           }
          },
          "scene": {
           "xaxis": {
            "backgroundcolor": "#E5ECF6",
            "gridcolor": "white",
            "gridwidth": 2,
            "linecolor": "white",
            "showbackground": true,
            "ticks": "",
            "zerolinecolor": "white"
           },
           "yaxis": {
            "backgroundcolor": "#E5ECF6",
            "gridcolor": "white",
            "gridwidth": 2,
            "linecolor": "white",
            "showbackground": true,
            "ticks": "",
            "zerolinecolor": "white"
           },
           "zaxis": {
            "backgroundcolor": "#E5ECF6",
            "gridcolor": "white",
            "gridwidth": 2,
            "linecolor": "white",
            "showbackground": true,
            "ticks": "",
            "zerolinecolor": "white"
           }
          },
          "shapedefaults": {
           "line": {
            "color": "#2a3f5f"
           }
          },
          "ternary": {
           "aaxis": {
            "gridcolor": "white",
            "linecolor": "white",
            "ticks": ""
           },
           "baxis": {
            "gridcolor": "white",
            "linecolor": "white",
            "ticks": ""
           },
           "bgcolor": "#E5ECF6",
           "caxis": {
            "gridcolor": "white",
            "linecolor": "white",
            "ticks": ""
           }
          },
          "title": {
           "x": 0.05
          },
          "xaxis": {
           "automargin": true,
           "gridcolor": "white",
           "linecolor": "white",
           "ticks": "",
           "title": {
            "standoff": 15
           },
           "zerolinecolor": "white",
           "zerolinewidth": 2
          },
          "yaxis": {
           "automargin": true,
           "gridcolor": "white",
           "linecolor": "white",
           "ticks": "",
           "title": {
            "standoff": 15
           },
           "zerolinecolor": "white",
           "zerolinewidth": 2
          }
         }
        }
       }
      },
      "text/html": [
       "<div>                            <div id=\"a2135b4d-c526-4464-8040-181c177846b1\" class=\"plotly-graph-div\" style=\"height:525px; width:100%;\"></div>            <script type=\"text/javascript\">                require([\"plotly\"], function(Plotly) {                    window.PLOTLYENV=window.PLOTLYENV || {};                                    if (document.getElementById(\"a2135b4d-c526-4464-8040-181c177846b1\")) {                    Plotly.newPlot(                        \"a2135b4d-c526-4464-8040-181c177846b1\",                        [{\"arrangement\":\"freeform\",\"dimensions\":[{\"values\":[\"Risk\",\"Benefits\",\"Benefits\",\"Risk\",\"Benefits\",\"Benefits\",\"Benefits\",\"Benefits\",\"Benefits\",\"Benefits\",\"Benefits\",\"Benefits\",\"Exposure\",\"Recovery\",\"Vulnerability\",\"Risk\",\"Benefits\",\"Benefits\",\"Benefits\",\"Benefits\",\"Benefits\",\"Benefits\",\"Benefits\",\"Recovery\",\"Adaptation Funding\",\"Exposure\",\"Adaptation Impact\"]},{\"values\":[\"Small Census Areas\",\"Individuals\",\"Individuals\",\"Large Areas\",\"Large Areas\",\"Large Areas\",\"Large Areas\",\"Large Areas\",\"Large Areas\",\"Large Areas\",\"Large Areas\",\"Individuals\",\"Individuals\",\"Individuals\",\"Individuals\",\"Regions\",\"Regions\",\"Individuals\",\"Individuals\",\"Individuals\",\"Individuals\",\"Individuals\",\"Individuals\",\"Individuals\",\"Small Census Areas\",\"Small Census Areas\",\"Individuals\"]},{\"values\":[\"Invoke a Moral Principle\",\"Invoke a Moral Principle\",\"Ad Hoc\",\"Invoke a Moral Principle\",\"Invoke a Moral Principle\",\"Invoke a Moral Principle\",\"Invoke a Moral Principle\",\"Invoke a Moral Principle\",\"Invoke a Moral Principle\",\"Invoke a Moral Principle\",\"Invoke a Moral Principle\",\"Invoke a Moral Principle\",\"Invoke a Moral Principle\",\"Invoke a Moral Principle\",\"Not Stated\",\"Not Stated\",\"Not Stated\",\"Invoke a Moral Principle\",\"Invoke a Moral Principle\",\"Invoke a Moral Principle\",\"Invoke a Moral Principle\",\"Invoke a Moral Principle\",\"Invoke a Moral Principle\",\"Not Stated\",\"Interpret a Policy Mandate\",\"Not Stated\",\"Reflect Community Preferences\"]}],\"hoverinfo\":\"count\",\"hoveron\":\"color\",\"line\":{\"color\":[1,1,1,1,1,1,1,1,1,1,1,1,1,1,0,0,0,1,1,1,1,1,1,0,1,0,1],\"colorscale\":[[0,\"#D3D3D3\"],[1,\"#009E73\"]]},\"tickfont\":{\"family\":\"Times\",\"size\":16},\"type\":\"parcats\"}],                        {\"template\":{\"data\":{\"histogram2dcontour\":[{\"type\":\"histogram2dcontour\",\"colorbar\":{\"outlinewidth\":0,\"ticks\":\"\"},\"colorscale\":[[0.0,\"#0d0887\"],[0.1111111111111111,\"#46039f\"],[0.2222222222222222,\"#7201a8\"],[0.3333333333333333,\"#9c179e\"],[0.4444444444444444,\"#bd3786\"],[0.5555555555555556,\"#d8576b\"],[0.6666666666666666,\"#ed7953\"],[0.7777777777777778,\"#fb9f3a\"],[0.8888888888888888,\"#fdca26\"],[1.0,\"#f0f921\"]]}],\"choropleth\":[{\"type\":\"choropleth\",\"colorbar\":{\"outlinewidth\":0,\"ticks\":\"\"}}],\"histogram2d\":[{\"type\":\"histogram2d\",\"colorbar\":{\"outlinewidth\":0,\"ticks\":\"\"},\"colorscale\":[[0.0,\"#0d0887\"],[0.1111111111111111,\"#46039f\"],[0.2222222222222222,\"#7201a8\"],[0.3333333333333333,\"#9c179e\"],[0.4444444444444444,\"#bd3786\"],[0.5555555555555556,\"#d8576b\"],[0.6666666666666666,\"#ed7953\"],[0.7777777777777778,\"#fb9f3a\"],[0.8888888888888888,\"#fdca26\"],[1.0,\"#f0f921\"]]}],\"heatmap\":[{\"type\":\"heatmap\",\"colorbar\":{\"outlinewidth\":0,\"ticks\":\"\"},\"colorscale\":[[0.0,\"#0d0887\"],[0.1111111111111111,\"#46039f\"],[0.2222222222222222,\"#7201a8\"],[0.3333333333333333,\"#9c179e\"],[0.4444444444444444,\"#bd3786\"],[0.5555555555555556,\"#d8576b\"],[0.6666666666666666,\"#ed7953\"],[0.7777777777777778,\"#fb9f3a\"],[0.8888888888888888,\"#fdca26\"],[1.0,\"#f0f921\"]]}],\"heatmapgl\":[{\"type\":\"heatmapgl\",\"colorbar\":{\"outlinewidth\":0,\"ticks\":\"\"},\"colorscale\":[[0.0,\"#0d0887\"],[0.1111111111111111,\"#46039f\"],[0.2222222222222222,\"#7201a8\"],[0.3333333333333333,\"#9c179e\"],[0.4444444444444444,\"#bd3786\"],[0.5555555555555556,\"#d8576b\"],[0.6666666666666666,\"#ed7953\"],[0.7777777777777778,\"#fb9f3a\"],[0.8888888888888888,\"#fdca26\"],[1.0,\"#f0f921\"]]}],\"contourcarpet\":[{\"type\":\"contourcarpet\",\"colorbar\":{\"outlinewidth\":0,\"ticks\":\"\"}}],\"contour\":[{\"type\":\"contour\",\"colorbar\":{\"outlinewidth\":0,\"ticks\":\"\"},\"colorscale\":[[0.0,\"#0d0887\"],[0.1111111111111111,\"#46039f\"],[0.2222222222222222,\"#7201a8\"],[0.3333333333333333,\"#9c179e\"],[0.4444444444444444,\"#bd3786\"],[0.5555555555555556,\"#d8576b\"],[0.6666666666666666,\"#ed7953\"],[0.7777777777777778,\"#fb9f3a\"],[0.8888888888888888,\"#fdca26\"],[1.0,\"#f0f921\"]]}],\"surface\":[{\"type\":\"surface\",\"colorbar\":{\"outlinewidth\":0,\"ticks\":\"\"},\"colorscale\":[[0.0,\"#0d0887\"],[0.1111111111111111,\"#46039f\"],[0.2222222222222222,\"#7201a8\"],[0.3333333333333333,\"#9c179e\"],[0.4444444444444444,\"#bd3786\"],[0.5555555555555556,\"#d8576b\"],[0.6666666666666666,\"#ed7953\"],[0.7777777777777778,\"#fb9f3a\"],[0.8888888888888888,\"#fdca26\"],[1.0,\"#f0f921\"]]}],\"mesh3d\":[{\"type\":\"mesh3d\",\"colorbar\":{\"outlinewidth\":0,\"ticks\":\"\"}}],\"scatter\":[{\"fillpattern\":{\"fillmode\":\"overlay\",\"size\":10,\"solidity\":0.2},\"type\":\"scatter\"}],\"parcoords\":[{\"type\":\"parcoords\",\"line\":{\"colorbar\":{\"outlinewidth\":0,\"ticks\":\"\"}}}],\"scatterpolargl\":[{\"type\":\"scatterpolargl\",\"marker\":{\"colorbar\":{\"outlinewidth\":0,\"ticks\":\"\"}}}],\"bar\":[{\"error_x\":{\"color\":\"#2a3f5f\"},\"error_y\":{\"color\":\"#2a3f5f\"},\"marker\":{\"line\":{\"color\":\"#E5ECF6\",\"width\":0.5},\"pattern\":{\"fillmode\":\"overlay\",\"size\":10,\"solidity\":0.2}},\"type\":\"bar\"}],\"scattergeo\":[{\"type\":\"scattergeo\",\"marker\":{\"colorbar\":{\"outlinewidth\":0,\"ticks\":\"\"}}}],\"scatterpolar\":[{\"type\":\"scatterpolar\",\"marker\":{\"colorbar\":{\"outlinewidth\":0,\"ticks\":\"\"}}}],\"histogram\":[{\"marker\":{\"pattern\":{\"fillmode\":\"overlay\",\"size\":10,\"solidity\":0.2}},\"type\":\"histogram\"}],\"scattergl\":[{\"type\":\"scattergl\",\"marker\":{\"colorbar\":{\"outlinewidth\":0,\"ticks\":\"\"}}}],\"scatter3d\":[{\"type\":\"scatter3d\",\"line\":{\"colorbar\":{\"outlinewidth\":0,\"ticks\":\"\"}},\"marker\":{\"colorbar\":{\"outlinewidth\":0,\"ticks\":\"\"}}}],\"scattermapbox\":[{\"type\":\"scattermapbox\",\"marker\":{\"colorbar\":{\"outlinewidth\":0,\"ticks\":\"\"}}}],\"scatterternary\":[{\"type\":\"scatterternary\",\"marker\":{\"colorbar\":{\"outlinewidth\":0,\"ticks\":\"\"}}}],\"scattercarpet\":[{\"type\":\"scattercarpet\",\"marker\":{\"colorbar\":{\"outlinewidth\":0,\"ticks\":\"\"}}}],\"carpet\":[{\"aaxis\":{\"endlinecolor\":\"#2a3f5f\",\"gridcolor\":\"white\",\"linecolor\":\"white\",\"minorgridcolor\":\"white\",\"startlinecolor\":\"#2a3f5f\"},\"baxis\":{\"endlinecolor\":\"#2a3f5f\",\"gridcolor\":\"white\",\"linecolor\":\"white\",\"minorgridcolor\":\"white\",\"startlinecolor\":\"#2a3f5f\"},\"type\":\"carpet\"}],\"table\":[{\"cells\":{\"fill\":{\"color\":\"#EBF0F8\"},\"line\":{\"color\":\"white\"}},\"header\":{\"fill\":{\"color\":\"#C8D4E3\"},\"line\":{\"color\":\"white\"}},\"type\":\"table\"}],\"barpolar\":[{\"marker\":{\"line\":{\"color\":\"#E5ECF6\",\"width\":0.5},\"pattern\":{\"fillmode\":\"overlay\",\"size\":10,\"solidity\":0.2}},\"type\":\"barpolar\"}],\"pie\":[{\"automargin\":true,\"type\":\"pie\"}]},\"layout\":{\"autotypenumbers\":\"strict\",\"colorway\":[\"#636efa\",\"#EF553B\",\"#00cc96\",\"#ab63fa\",\"#FFA15A\",\"#19d3f3\",\"#FF6692\",\"#B6E880\",\"#FF97FF\",\"#FECB52\"],\"font\":{\"color\":\"#2a3f5f\"},\"hovermode\":\"closest\",\"hoverlabel\":{\"align\":\"left\"},\"paper_bgcolor\":\"white\",\"plot_bgcolor\":\"#E5ECF6\",\"polar\":{\"bgcolor\":\"#E5ECF6\",\"angularaxis\":{\"gridcolor\":\"white\",\"linecolor\":\"white\",\"ticks\":\"\"},\"radialaxis\":{\"gridcolor\":\"white\",\"linecolor\":\"white\",\"ticks\":\"\"}},\"ternary\":{\"bgcolor\":\"#E5ECF6\",\"aaxis\":{\"gridcolor\":\"white\",\"linecolor\":\"white\",\"ticks\":\"\"},\"baxis\":{\"gridcolor\":\"white\",\"linecolor\":\"white\",\"ticks\":\"\"},\"caxis\":{\"gridcolor\":\"white\",\"linecolor\":\"white\",\"ticks\":\"\"}},\"coloraxis\":{\"colorbar\":{\"outlinewidth\":0,\"ticks\":\"\"}},\"colorscale\":{\"sequential\":[[0.0,\"#0d0887\"],[0.1111111111111111,\"#46039f\"],[0.2222222222222222,\"#7201a8\"],[0.3333333333333333,\"#9c179e\"],[0.4444444444444444,\"#bd3786\"],[0.5555555555555556,\"#d8576b\"],[0.6666666666666666,\"#ed7953\"],[0.7777777777777778,\"#fb9f3a\"],[0.8888888888888888,\"#fdca26\"],[1.0,\"#f0f921\"]],\"sequentialminus\":[[0.0,\"#0d0887\"],[0.1111111111111111,\"#46039f\"],[0.2222222222222222,\"#7201a8\"],[0.3333333333333333,\"#9c179e\"],[0.4444444444444444,\"#bd3786\"],[0.5555555555555556,\"#d8576b\"],[0.6666666666666666,\"#ed7953\"],[0.7777777777777778,\"#fb9f3a\"],[0.8888888888888888,\"#fdca26\"],[1.0,\"#f0f921\"]],\"diverging\":[[0,\"#8e0152\"],[0.1,\"#c51b7d\"],[0.2,\"#de77ae\"],[0.3,\"#f1b6da\"],[0.4,\"#fde0ef\"],[0.5,\"#f7f7f7\"],[0.6,\"#e6f5d0\"],[0.7,\"#b8e186\"],[0.8,\"#7fbc41\"],[0.9,\"#4d9221\"],[1,\"#276419\"]]},\"xaxis\":{\"gridcolor\":\"white\",\"linecolor\":\"white\",\"ticks\":\"\",\"title\":{\"standoff\":15},\"zerolinecolor\":\"white\",\"automargin\":true,\"zerolinewidth\":2},\"yaxis\":{\"gridcolor\":\"white\",\"linecolor\":\"white\",\"ticks\":\"\",\"title\":{\"standoff\":15},\"zerolinecolor\":\"white\",\"automargin\":true,\"zerolinewidth\":2},\"scene\":{\"xaxis\":{\"backgroundcolor\":\"#E5ECF6\",\"gridcolor\":\"white\",\"linecolor\":\"white\",\"showbackground\":true,\"ticks\":\"\",\"zerolinecolor\":\"white\",\"gridwidth\":2},\"yaxis\":{\"backgroundcolor\":\"#E5ECF6\",\"gridcolor\":\"white\",\"linecolor\":\"white\",\"showbackground\":true,\"ticks\":\"\",\"zerolinecolor\":\"white\",\"gridwidth\":2},\"zaxis\":{\"backgroundcolor\":\"#E5ECF6\",\"gridcolor\":\"white\",\"linecolor\":\"white\",\"showbackground\":true,\"ticks\":\"\",\"zerolinecolor\":\"white\",\"gridwidth\":2}},\"shapedefaults\":{\"line\":{\"color\":\"#2a3f5f\"}},\"annotationdefaults\":{\"arrowcolor\":\"#2a3f5f\",\"arrowhead\":0,\"arrowwidth\":1},\"geo\":{\"bgcolor\":\"white\",\"landcolor\":\"#E5ECF6\",\"subunitcolor\":\"white\",\"showland\":true,\"showlakes\":true,\"lakecolor\":\"white\"},\"title\":{\"x\":0.05},\"mapbox\":{\"style\":\"light\"}}},\"autosize\":true},                        {\"responsive\": true}                    ).then(function(){\n",
       "                            \n",
       "var gd = document.getElementById('a2135b4d-c526-4464-8040-181c177846b1');\n",
       "var x = new MutationObserver(function (mutations, observer) {{\n",
       "        var display = window.getComputedStyle(gd).display;\n",
       "        if (!display || display === 'none') {{\n",
       "            console.log([gd, 'removed!']);\n",
       "            Plotly.purge(gd);\n",
       "            observer.disconnect();\n",
       "        }}\n",
       "}});\n",
       "\n",
       "// Listen for the removal of the full notebook cells\n",
       "var notebookContainer = gd.closest('#notebook-container');\n",
       "if (notebookContainer) {{\n",
       "    x.observe(notebookContainer, {childList: true});\n",
       "}}\n",
       "\n",
       "// Listen for the clearing of the current output cell\n",
       "var outputEl = gd.closest('.output');\n",
       "if (outputEl) {{\n",
       "    x.observe(outputEl, {childList: true});\n",
       "}}\n",
       "\n",
       "                        })                };                });            </script>        </div>"
      ]
     },
     "metadata": {},
     "output_type": "display_data"
    }
   ],
   "source": [
    "# 1) Equity in what\n",
    "# 2) Equity for whom\n",
    "# 3) Equity why\n",
    "# Color by ethically grounded\n",
    "import plotly.graph_objects as go\n",
    "\n",
    "eqm_plot = eqm[eqm['meas_scale'] == 'Yes']\n",
    "\n",
    "# Create dimensions\n",
    "what_dim = go.parcats.Dimension(\n",
    "    values=eqm_plot['what_dist'],\n",
    ")\n",
    "\n",
    "whom_dim = go.parcats.Dimension(\n",
    "    values=eqm_plot['whom_dist'],\n",
    ")\n",
    "\n",
    "why_dim = go.parcats.Dimension(\n",
    "    values=eqm_plot['equity_why'],\n",
    ")\n",
    "\n",
    "\n",
    "# Create parcats trace\n",
    "color = np.where(eqm_plot['equity_why'] == 'Not Stated',\n",
    "                  0, 1)\n",
    "colorscale = [[0, '#D3D3D3'], [1, '#009E73']]\n",
    "\n",
    "fig = go.Figure(data = [go.Parcats(dimensions=[what_dim,\n",
    "                                               whom_dim,\n",
    "                                               why_dim],\n",
    "        line={'color': color,\n",
    "              'colorscale': colorscale},\n",
    "        hoveron='color', hoverinfo='count',\n",
    "        tickfont={'size': 16, 'family': 'Times'},\n",
    "        arrangement='freeform')]\n",
    "              )\n",
    "fig.update_layout(\n",
    "    autosize=True)\n",
    "\n",
    "fig.show()"
   ]
  },
  {
   "cell_type": "code",
   "execution_count": 11,
   "id": "f599cb74",
   "metadata": {},
   "outputs": [
    {
     "data": {
      "text/plain": [
       "27"
      ]
     },
     "execution_count": 11,
     "metadata": {},
     "output_type": "execute_result"
    }
   ],
   "source": [
    "# Total number of equity metrics\n",
    "len(eqm_plot)"
   ]
  },
  {
   "cell_type": "code",
   "execution_count": 12,
   "id": "9b75806e",
   "metadata": {},
   "outputs": [
    {
     "data": {
      "text/plain": [
       "14"
      ]
     },
     "execution_count": 12,
     "metadata": {},
     "output_type": "execute_result"
    }
   ],
   "source": [
    "# Total number of papers with equity metrics\n",
    "len(eqm_plot['doi'].unique())"
   ]
  },
  {
   "cell_type": "code",
   "execution_count": 13,
   "id": "b677d4af",
   "metadata": {},
   "outputs": [
    {
     "data": {
      "text/plain": [
       "1    10\n",
       "2     2\n",
       "7     1\n",
       "6     1\n",
       "dtype: int64"
      ]
     },
     "execution_count": 13,
     "metadata": {},
     "output_type": "execute_result"
    }
   ],
   "source": [
    "# Seeing how many studies use multiple equity metrics, and how many of them\n",
    "eqm_plot.groupby(['doi']).size().value_counts()"
   ]
  },
  {
   "cell_type": "code",
   "execution_count": 14,
   "id": "c770fdf6",
   "metadata": {},
   "outputs": [
    {
     "data": {
      "text/plain": [
       "doi\n",
       "10.1007/s10584-022-03395-y         7\n",
       "10.1111/risa.13527                 6\n",
       "10.1016/j.gloenvcha.2020.102050    2\n",
       "10.3390/w12113152                  2\n",
       "dtype: int64"
      ]
     },
     "execution_count": 14,
     "metadata": {},
     "output_type": "execute_result"
    }
   ],
   "source": [
    "# Looking at the papers with multiple equity metrics\n",
    "eqm_plot.groupby(['doi']).size().sort_values(ascending=False).head(4)"
   ]
  },
  {
   "cell_type": "code",
   "execution_count": 15,
   "id": "6db03b16",
   "metadata": {},
   "outputs": [
    {
     "data": {
      "text/plain": [
       "what_dist\n",
       "Adaptation Funding    0.037037\n",
       "Adaptation Impact     0.037037\n",
       "Benefits              0.629630\n",
       "Exposure              0.074074\n",
       "Recovery              0.074074\n",
       "Risk                  0.111111\n",
       "Vulnerability         0.037037\n",
       "dtype: float64"
      ]
     },
     "execution_count": 15,
     "metadata": {},
     "output_type": "execute_result"
    }
   ],
   "source": [
    "# Outcomes proportions\n",
    "eqm_plot.groupby(['what_dist']).size()/len(eqm_plot)"
   ]
  },
  {
   "cell_type": "code",
   "execution_count": 16,
   "id": "29452c43",
   "metadata": {},
   "outputs": [
    {
     "data": {
      "text/plain": [
       "whom_dist\n",
       "Census Areas    0.111111\n",
       "Individuals     0.518519\n",
       "Large Areas     0.296296\n",
       "Regions         0.074074\n",
       "dtype: float64"
      ]
     },
     "execution_count": 16,
     "metadata": {},
     "output_type": "execute_result"
    }
   ],
   "source": [
    "# Scales proportions\n",
    "eqm_plot.groupby(['whom_dist']).size()/len(eqm_plot)"
   ]
  },
  {
   "cell_type": "code",
   "execution_count": 17,
   "id": "dbd1fde4",
   "metadata": {},
   "outputs": [
    {
     "data": {
      "text/plain": [
       "equity_why\n",
       "Ad Hoc                           0.037037\n",
       "Interpret a Policy Mandate       0.037037\n",
       "Invoke a Moral Principle         0.703704\n",
       "Not Stated                       0.185185\n",
       "Reflect Community Preferences    0.037037\n",
       "dtype: float64"
      ]
     },
     "execution_count": 17,
     "metadata": {},
     "output_type": "execute_result"
    }
   ],
   "source": [
    "# Why proportions\n",
    "eqm_plot.groupby(['equity_why']).size()/len(eqm_plot)"
   ]
  },
  {
   "cell_type": "code",
   "execution_count": 18,
   "id": "372bf836",
   "metadata": {},
   "outputs": [
    {
     "data": {
      "text/plain": [
       "equity_why\n",
       "Ad Hoc                            1\n",
       "Interpret a Policy Mandate        1\n",
       "Invoke a Moral Principle         19\n",
       "Not Stated                        5\n",
       "Reflect Community Preferences     1\n",
       "dtype: int64"
      ]
     },
     "execution_count": 18,
     "metadata": {},
     "output_type": "execute_result"
    }
   ],
   "source": [
    "# Why numbers\n",
    "eqm_plot.groupby(['equity_why']).size()"
   ]
  },
  {
   "cell_type": "code",
   "execution_count": 19,
   "id": "a1594890",
   "metadata": {},
   "outputs": [
    {
     "data": {
      "text/plain": [
       "what_dist\n",
       "Adaptation Funding    0.045455\n",
       "Adaptation Impact     0.045455\n",
       "Benefits              0.727273\n",
       "Exposure              0.045455\n",
       "Recovery              0.045455\n",
       "Risk                  0.090909\n",
       "dtype: float64"
      ]
     },
     "execution_count": 19,
     "metadata": {},
     "output_type": "execute_result"
    }
   ],
   "source": [
    "# Outcomes proportions for ethically grounded\n",
    "eqm_eth = eqm_plot[eqm_plot['equity_why'] != 'Not Stated']\n",
    "eqm_eth.groupby(['what_dist']).size()/len(eqm_eth)"
   ]
  },
  {
   "cell_type": "code",
   "execution_count": 20,
   "id": "93b2e1fa",
   "metadata": {},
   "outputs": [
    {
     "data": {
      "text/plain": [
       "whom_dist\n",
       "Census Areas    0.090909\n",
       "Individuals     0.545455\n",
       "Large Areas     0.363636\n",
       "dtype: float64"
      ]
     },
     "execution_count": 20,
     "metadata": {},
     "output_type": "execute_result"
    }
   ],
   "source": [
    "# Whom proportions for ethically grounded\n",
    "eqm_eth.groupby(['whom_dist']).size()/len(eqm_eth)"
   ]
  },
  {
   "cell_type": "code",
   "execution_count": 21,
   "id": "1b4a27aa",
   "metadata": {},
   "outputs": [
    {
     "data": {
      "text/plain": [
       "equity_why\n",
       "Ad Hoc                           0.045455\n",
       "Interpret a Policy Mandate       0.045455\n",
       "Invoke a Moral Principle         0.863636\n",
       "Reflect Community Preferences    0.045455\n",
       "dtype: float64"
      ]
     },
     "execution_count": 21,
     "metadata": {},
     "output_type": "execute_result"
    }
   ],
   "source": [
    "# Why proportions for ethically grounded\n",
    "eqm_eth.groupby(['equity_why']).size()/len(eqm_eth)"
   ]
  },
  {
   "cell_type": "code",
   "execution_count": 22,
   "id": "483b1193",
   "metadata": {},
   "outputs": [
    {
     "data": {
      "text/plain": [
       "what_dist           whom_dist     equity_why                   \n",
       "Adaptation Funding  Census Areas  Interpret a Policy Mandate       0.045455\n",
       "Adaptation Impact   Individuals   Reflect Community Preferences    0.045455\n",
       "Benefits            Individuals   Ad Hoc                           0.045455\n",
       "                                  Invoke a Moral Principle         0.363636\n",
       "                    Large Areas   Invoke a Moral Principle         0.318182\n",
       "Exposure            Individuals   Invoke a Moral Principle         0.045455\n",
       "Recovery            Individuals   Invoke a Moral Principle         0.045455\n",
       "Risk                Census Areas  Invoke a Moral Principle         0.045455\n",
       "                    Large Areas   Invoke a Moral Principle         0.045455\n",
       "dtype: float64"
      ]
     },
     "execution_count": 22,
     "metadata": {},
     "output_type": "execute_result"
    }
   ],
   "source": [
    "eqm_eth.groupby(['what_dist',\n",
    "                 'whom_dist',\n",
    "                 'equity_why']).size()/len(eqm_eth)"
   ]
  },
  {
   "cell_type": "code",
   "execution_count": 23,
   "id": "995e7e63",
   "metadata": {},
   "outputs": [
    {
     "data": {
      "text/plain": [
       "what_dist           equity_why                   \n",
       "Adaptation Funding  Interpret a Policy Mandate       0.045455\n",
       "Adaptation Impact   Reflect Community Preferences    0.045455\n",
       "Benefits            Ad Hoc                           0.045455\n",
       "                    Invoke a Moral Principle         0.681818\n",
       "Exposure            Invoke a Moral Principle         0.045455\n",
       "Recovery            Invoke a Moral Principle         0.045455\n",
       "Risk                Invoke a Moral Principle         0.090909\n",
       "dtype: float64"
      ]
     },
     "execution_count": 23,
     "metadata": {},
     "output_type": "execute_result"
    }
   ],
   "source": [
    "eqm_eth.groupby(['what_dist',\n",
    "                 'equity_why']).size()/len(eqm_eth)"
   ]
  },
  {
   "cell_type": "code",
   "execution_count": 27,
   "id": "bf20b291",
   "metadata": {},
   "outputs": [
    {
     "data": {
      "application/vnd.plotly.v1+json": {
       "config": {
        "plotlyServerURL": "https://plot.ly"
       },
       "data": [
        {
         "arrangement": "freeform",
         "dimensions": [
          {
           "values": [
            "Risk",
            "Benefits",
            "Benefits",
            "Risk",
            "Benefits",
            "Benefits",
            "Benefits",
            "Benefits",
            "Benefits",
            "Benefits",
            "Benefits",
            "Benefits",
            "Exposure",
            "Recovery",
            "Vulnerability",
            "Risk",
            "Benefits",
            "Benefits",
            "Benefits",
            "Benefits",
            "Benefits",
            "Benefits",
            "Benefits",
            "Recovery",
            "Adaptation Funding",
            "Exposure",
            "Adaptation Impact"
           ]
          },
          {
           "values": [
            "S",
            "I",
            "I",
            "L",
            "L",
            "L",
            "L",
            "L",
            "L",
            "L",
            "L",
            "I",
            "I",
            "I",
            "I",
            "R",
            "R",
            "I",
            "I",
            "I",
            "I",
            "I",
            "I",
            "I",
            "S",
            "S",
            "I"
           ]
          },
          {
           "values": [
            "Invoke a Moral Principle",
            "Invoke a Moral Principle",
            "Ad Hoc",
            "Invoke a Moral Principle",
            "Invoke a Moral Principle",
            "Invoke a Moral Principle",
            "Invoke a Moral Principle",
            "Invoke a Moral Principle",
            "Invoke a Moral Principle",
            "Invoke a Moral Principle",
            "Invoke a Moral Principle",
            "Invoke a Moral Principle",
            "Invoke a Moral Principle",
            "Invoke a Moral Principle",
            "Not Stated",
            "Not Stated",
            "Not Stated",
            "Invoke a Moral Principle",
            "Invoke a Moral Principle",
            "Invoke a Moral Principle",
            "Invoke a Moral Principle",
            "Invoke a Moral Principle",
            "Invoke a Moral Principle",
            "Not Stated",
            "Interpret a Policy Mandate",
            "Not Stated",
            "Reflect Community Preferences"
           ]
          }
         ],
         "hoverinfo": "count",
         "hoveron": "color",
         "line": {
          "color": [
           1,
           1,
           1,
           1,
           1,
           1,
           1,
           1,
           1,
           1,
           1,
           1,
           1,
           1,
           0,
           0,
           0,
           1,
           1,
           1,
           1,
           1,
           1,
           0,
           1,
           0,
           1
          ],
          "colorscale": [
           [
            0,
            "#D3D3D3"
           ],
           [
            1,
            "#009E73"
           ]
          ]
         },
         "tickfont": {
          "family": "Times",
          "size": 1
         },
         "type": "parcats"
        }
       ],
       "layout": {
        "autosize": true,
        "template": {
         "data": {
          "bar": [
           {
            "error_x": {
             "color": "#2a3f5f"
            },
            "error_y": {
             "color": "#2a3f5f"
            },
            "marker": {
             "line": {
              "color": "#E5ECF6",
              "width": 0.5
             },
             "pattern": {
              "fillmode": "overlay",
              "size": 10,
              "solidity": 0.2
             }
            },
            "type": "bar"
           }
          ],
          "barpolar": [
           {
            "marker": {
             "line": {
              "color": "#E5ECF6",
              "width": 0.5
             },
             "pattern": {
              "fillmode": "overlay",
              "size": 10,
              "solidity": 0.2
             }
            },
            "type": "barpolar"
           }
          ],
          "carpet": [
           {
            "aaxis": {
             "endlinecolor": "#2a3f5f",
             "gridcolor": "white",
             "linecolor": "white",
             "minorgridcolor": "white",
             "startlinecolor": "#2a3f5f"
            },
            "baxis": {
             "endlinecolor": "#2a3f5f",
             "gridcolor": "white",
             "linecolor": "white",
             "minorgridcolor": "white",
             "startlinecolor": "#2a3f5f"
            },
            "type": "carpet"
           }
          ],
          "choropleth": [
           {
            "colorbar": {
             "outlinewidth": 0,
             "ticks": ""
            },
            "type": "choropleth"
           }
          ],
          "contour": [
           {
            "colorbar": {
             "outlinewidth": 0,
             "ticks": ""
            },
            "colorscale": [
             [
              0,
              "#0d0887"
             ],
             [
              0.1111111111111111,
              "#46039f"
             ],
             [
              0.2222222222222222,
              "#7201a8"
             ],
             [
              0.3333333333333333,
              "#9c179e"
             ],
             [
              0.4444444444444444,
              "#bd3786"
             ],
             [
              0.5555555555555556,
              "#d8576b"
             ],
             [
              0.6666666666666666,
              "#ed7953"
             ],
             [
              0.7777777777777778,
              "#fb9f3a"
             ],
             [
              0.8888888888888888,
              "#fdca26"
             ],
             [
              1,
              "#f0f921"
             ]
            ],
            "type": "contour"
           }
          ],
          "contourcarpet": [
           {
            "colorbar": {
             "outlinewidth": 0,
             "ticks": ""
            },
            "type": "contourcarpet"
           }
          ],
          "heatmap": [
           {
            "colorbar": {
             "outlinewidth": 0,
             "ticks": ""
            },
            "colorscale": [
             [
              0,
              "#0d0887"
             ],
             [
              0.1111111111111111,
              "#46039f"
             ],
             [
              0.2222222222222222,
              "#7201a8"
             ],
             [
              0.3333333333333333,
              "#9c179e"
             ],
             [
              0.4444444444444444,
              "#bd3786"
             ],
             [
              0.5555555555555556,
              "#d8576b"
             ],
             [
              0.6666666666666666,
              "#ed7953"
             ],
             [
              0.7777777777777778,
              "#fb9f3a"
             ],
             [
              0.8888888888888888,
              "#fdca26"
             ],
             [
              1,
              "#f0f921"
             ]
            ],
            "type": "heatmap"
           }
          ],
          "heatmapgl": [
           {
            "colorbar": {
             "outlinewidth": 0,
             "ticks": ""
            },
            "colorscale": [
             [
              0,
              "#0d0887"
             ],
             [
              0.1111111111111111,
              "#46039f"
             ],
             [
              0.2222222222222222,
              "#7201a8"
             ],
             [
              0.3333333333333333,
              "#9c179e"
             ],
             [
              0.4444444444444444,
              "#bd3786"
             ],
             [
              0.5555555555555556,
              "#d8576b"
             ],
             [
              0.6666666666666666,
              "#ed7953"
             ],
             [
              0.7777777777777778,
              "#fb9f3a"
             ],
             [
              0.8888888888888888,
              "#fdca26"
             ],
             [
              1,
              "#f0f921"
             ]
            ],
            "type": "heatmapgl"
           }
          ],
          "histogram": [
           {
            "marker": {
             "pattern": {
              "fillmode": "overlay",
              "size": 10,
              "solidity": 0.2
             }
            },
            "type": "histogram"
           }
          ],
          "histogram2d": [
           {
            "colorbar": {
             "outlinewidth": 0,
             "ticks": ""
            },
            "colorscale": [
             [
              0,
              "#0d0887"
             ],
             [
              0.1111111111111111,
              "#46039f"
             ],
             [
              0.2222222222222222,
              "#7201a8"
             ],
             [
              0.3333333333333333,
              "#9c179e"
             ],
             [
              0.4444444444444444,
              "#bd3786"
             ],
             [
              0.5555555555555556,
              "#d8576b"
             ],
             [
              0.6666666666666666,
              "#ed7953"
             ],
             [
              0.7777777777777778,
              "#fb9f3a"
             ],
             [
              0.8888888888888888,
              "#fdca26"
             ],
             [
              1,
              "#f0f921"
             ]
            ],
            "type": "histogram2d"
           }
          ],
          "histogram2dcontour": [
           {
            "colorbar": {
             "outlinewidth": 0,
             "ticks": ""
            },
            "colorscale": [
             [
              0,
              "#0d0887"
             ],
             [
              0.1111111111111111,
              "#46039f"
             ],
             [
              0.2222222222222222,
              "#7201a8"
             ],
             [
              0.3333333333333333,
              "#9c179e"
             ],
             [
              0.4444444444444444,
              "#bd3786"
             ],
             [
              0.5555555555555556,
              "#d8576b"
             ],
             [
              0.6666666666666666,
              "#ed7953"
             ],
             [
              0.7777777777777778,
              "#fb9f3a"
             ],
             [
              0.8888888888888888,
              "#fdca26"
             ],
             [
              1,
              "#f0f921"
             ]
            ],
            "type": "histogram2dcontour"
           }
          ],
          "mesh3d": [
           {
            "colorbar": {
             "outlinewidth": 0,
             "ticks": ""
            },
            "type": "mesh3d"
           }
          ],
          "parcoords": [
           {
            "line": {
             "colorbar": {
              "outlinewidth": 0,
              "ticks": ""
             }
            },
            "type": "parcoords"
           }
          ],
          "pie": [
           {
            "automargin": true,
            "type": "pie"
           }
          ],
          "scatter": [
           {
            "fillpattern": {
             "fillmode": "overlay",
             "size": 10,
             "solidity": 0.2
            },
            "type": "scatter"
           }
          ],
          "scatter3d": [
           {
            "line": {
             "colorbar": {
              "outlinewidth": 0,
              "ticks": ""
             }
            },
            "marker": {
             "colorbar": {
              "outlinewidth": 0,
              "ticks": ""
             }
            },
            "type": "scatter3d"
           }
          ],
          "scattercarpet": [
           {
            "marker": {
             "colorbar": {
              "outlinewidth": 0,
              "ticks": ""
             }
            },
            "type": "scattercarpet"
           }
          ],
          "scattergeo": [
           {
            "marker": {
             "colorbar": {
              "outlinewidth": 0,
              "ticks": ""
             }
            },
            "type": "scattergeo"
           }
          ],
          "scattergl": [
           {
            "marker": {
             "colorbar": {
              "outlinewidth": 0,
              "ticks": ""
             }
            },
            "type": "scattergl"
           }
          ],
          "scattermapbox": [
           {
            "marker": {
             "colorbar": {
              "outlinewidth": 0,
              "ticks": ""
             }
            },
            "type": "scattermapbox"
           }
          ],
          "scatterpolar": [
           {
            "marker": {
             "colorbar": {
              "outlinewidth": 0,
              "ticks": ""
             }
            },
            "type": "scatterpolar"
           }
          ],
          "scatterpolargl": [
           {
            "marker": {
             "colorbar": {
              "outlinewidth": 0,
              "ticks": ""
             }
            },
            "type": "scatterpolargl"
           }
          ],
          "scatterternary": [
           {
            "marker": {
             "colorbar": {
              "outlinewidth": 0,
              "ticks": ""
             }
            },
            "type": "scatterternary"
           }
          ],
          "surface": [
           {
            "colorbar": {
             "outlinewidth": 0,
             "ticks": ""
            },
            "colorscale": [
             [
              0,
              "#0d0887"
             ],
             [
              0.1111111111111111,
              "#46039f"
             ],
             [
              0.2222222222222222,
              "#7201a8"
             ],
             [
              0.3333333333333333,
              "#9c179e"
             ],
             [
              0.4444444444444444,
              "#bd3786"
             ],
             [
              0.5555555555555556,
              "#d8576b"
             ],
             [
              0.6666666666666666,
              "#ed7953"
             ],
             [
              0.7777777777777778,
              "#fb9f3a"
             ],
             [
              0.8888888888888888,
              "#fdca26"
             ],
             [
              1,
              "#f0f921"
             ]
            ],
            "type": "surface"
           }
          ],
          "table": [
           {
            "cells": {
             "fill": {
              "color": "#EBF0F8"
             },
             "line": {
              "color": "white"
             }
            },
            "header": {
             "fill": {
              "color": "#C8D4E3"
             },
             "line": {
              "color": "white"
             }
            },
            "type": "table"
           }
          ]
         },
         "layout": {
          "annotationdefaults": {
           "arrowcolor": "#2a3f5f",
           "arrowhead": 0,
           "arrowwidth": 1
          },
          "autotypenumbers": "strict",
          "coloraxis": {
           "colorbar": {
            "outlinewidth": 0,
            "ticks": ""
           }
          },
          "colorscale": {
           "diverging": [
            [
             0,
             "#8e0152"
            ],
            [
             0.1,
             "#c51b7d"
            ],
            [
             0.2,
             "#de77ae"
            ],
            [
             0.3,
             "#f1b6da"
            ],
            [
             0.4,
             "#fde0ef"
            ],
            [
             0.5,
             "#f7f7f7"
            ],
            [
             0.6,
             "#e6f5d0"
            ],
            [
             0.7,
             "#b8e186"
            ],
            [
             0.8,
             "#7fbc41"
            ],
            [
             0.9,
             "#4d9221"
            ],
            [
             1,
             "#276419"
            ]
           ],
           "sequential": [
            [
             0,
             "#0d0887"
            ],
            [
             0.1111111111111111,
             "#46039f"
            ],
            [
             0.2222222222222222,
             "#7201a8"
            ],
            [
             0.3333333333333333,
             "#9c179e"
            ],
            [
             0.4444444444444444,
             "#bd3786"
            ],
            [
             0.5555555555555556,
             "#d8576b"
            ],
            [
             0.6666666666666666,
             "#ed7953"
            ],
            [
             0.7777777777777778,
             "#fb9f3a"
            ],
            [
             0.8888888888888888,
             "#fdca26"
            ],
            [
             1,
             "#f0f921"
            ]
           ],
           "sequentialminus": [
            [
             0,
             "#0d0887"
            ],
            [
             0.1111111111111111,
             "#46039f"
            ],
            [
             0.2222222222222222,
             "#7201a8"
            ],
            [
             0.3333333333333333,
             "#9c179e"
            ],
            [
             0.4444444444444444,
             "#bd3786"
            ],
            [
             0.5555555555555556,
             "#d8576b"
            ],
            [
             0.6666666666666666,
             "#ed7953"
            ],
            [
             0.7777777777777778,
             "#fb9f3a"
            ],
            [
             0.8888888888888888,
             "#fdca26"
            ],
            [
             1,
             "#f0f921"
            ]
           ]
          },
          "colorway": [
           "#636efa",
           "#EF553B",
           "#00cc96",
           "#ab63fa",
           "#FFA15A",
           "#19d3f3",
           "#FF6692",
           "#B6E880",
           "#FF97FF",
           "#FECB52"
          ],
          "font": {
           "color": "#2a3f5f"
          },
          "geo": {
           "bgcolor": "white",
           "lakecolor": "white",
           "landcolor": "#E5ECF6",
           "showlakes": true,
           "showland": true,
           "subunitcolor": "white"
          },
          "hoverlabel": {
           "align": "left"
          },
          "hovermode": "closest",
          "mapbox": {
           "style": "light"
          },
          "paper_bgcolor": "white",
          "plot_bgcolor": "#E5ECF6",
          "polar": {
           "angularaxis": {
            "gridcolor": "white",
            "linecolor": "white",
            "ticks": ""
           },
           "bgcolor": "#E5ECF6",
           "radialaxis": {
            "gridcolor": "white",
            "linecolor": "white",
            "ticks": ""
           }
          },
          "scene": {
           "xaxis": {
            "backgroundcolor": "#E5ECF6",
            "gridcolor": "white",
            "gridwidth": 2,
            "linecolor": "white",
            "showbackground": true,
            "ticks": "",
            "zerolinecolor": "white"
           },
           "yaxis": {
            "backgroundcolor": "#E5ECF6",
            "gridcolor": "white",
            "gridwidth": 2,
            "linecolor": "white",
            "showbackground": true,
            "ticks": "",
            "zerolinecolor": "white"
           },
           "zaxis": {
            "backgroundcolor": "#E5ECF6",
            "gridcolor": "white",
            "gridwidth": 2,
            "linecolor": "white",
            "showbackground": true,
            "ticks": "",
            "zerolinecolor": "white"
           }
          },
          "shapedefaults": {
           "line": {
            "color": "#2a3f5f"
           }
          },
          "ternary": {
           "aaxis": {
            "gridcolor": "white",
            "linecolor": "white",
            "ticks": ""
           },
           "baxis": {
            "gridcolor": "white",
            "linecolor": "white",
            "ticks": ""
           },
           "bgcolor": "#E5ECF6",
           "caxis": {
            "gridcolor": "white",
            "linecolor": "white",
            "ticks": ""
           }
          },
          "title": {
           "x": 0.05
          },
          "xaxis": {
           "automargin": true,
           "gridcolor": "white",
           "linecolor": "white",
           "ticks": "",
           "title": {
            "standoff": 15
           },
           "zerolinecolor": "white",
           "zerolinewidth": 2
          },
          "yaxis": {
           "automargin": true,
           "gridcolor": "white",
           "linecolor": "white",
           "ticks": "",
           "title": {
            "standoff": 15
           },
           "zerolinecolor": "white",
           "zerolinewidth": 2
          }
         }
        }
       }
      },
      "text/html": [
       "<div>                            <div id=\"65fd6891-4f29-4d2b-bb14-30b0db3cf055\" class=\"plotly-graph-div\" style=\"height:525px; width:100%;\"></div>            <script type=\"text/javascript\">                require([\"plotly\"], function(Plotly) {                    window.PLOTLYENV=window.PLOTLYENV || {};                                    if (document.getElementById(\"65fd6891-4f29-4d2b-bb14-30b0db3cf055\")) {                    Plotly.newPlot(                        \"65fd6891-4f29-4d2b-bb14-30b0db3cf055\",                        [{\"arrangement\":\"freeform\",\"dimensions\":[{\"values\":[\"Risk\",\"Benefits\",\"Benefits\",\"Risk\",\"Benefits\",\"Benefits\",\"Benefits\",\"Benefits\",\"Benefits\",\"Benefits\",\"Benefits\",\"Benefits\",\"Exposure\",\"Recovery\",\"Vulnerability\",\"Risk\",\"Benefits\",\"Benefits\",\"Benefits\",\"Benefits\",\"Benefits\",\"Benefits\",\"Benefits\",\"Recovery\",\"Adaptation Funding\",\"Exposure\",\"Adaptation Impact\"]},{\"values\":[\"S\",\"I\",\"I\",\"L\",\"L\",\"L\",\"L\",\"L\",\"L\",\"L\",\"L\",\"I\",\"I\",\"I\",\"I\",\"R\",\"R\",\"I\",\"I\",\"I\",\"I\",\"I\",\"I\",\"I\",\"S\",\"S\",\"I\"]},{\"values\":[\"Invoke a Moral Principle\",\"Invoke a Moral Principle\",\"Ad Hoc\",\"Invoke a Moral Principle\",\"Invoke a Moral Principle\",\"Invoke a Moral Principle\",\"Invoke a Moral Principle\",\"Invoke a Moral Principle\",\"Invoke a Moral Principle\",\"Invoke a Moral Principle\",\"Invoke a Moral Principle\",\"Invoke a Moral Principle\",\"Invoke a Moral Principle\",\"Invoke a Moral Principle\",\"Not Stated\",\"Not Stated\",\"Not Stated\",\"Invoke a Moral Principle\",\"Invoke a Moral Principle\",\"Invoke a Moral Principle\",\"Invoke a Moral Principle\",\"Invoke a Moral Principle\",\"Invoke a Moral Principle\",\"Not Stated\",\"Interpret a Policy Mandate\",\"Not Stated\",\"Reflect Community Preferences\"]}],\"hoverinfo\":\"count\",\"hoveron\":\"color\",\"line\":{\"color\":[1,1,1,1,1,1,1,1,1,1,1,1,1,1,0,0,0,1,1,1,1,1,1,0,1,0,1],\"colorscale\":[[0,\"#D3D3D3\"],[1,\"#009E73\"]]},\"tickfont\":{\"family\":\"Times\",\"size\":1},\"type\":\"parcats\"}],                        {\"template\":{\"data\":{\"histogram2dcontour\":[{\"type\":\"histogram2dcontour\",\"colorbar\":{\"outlinewidth\":0,\"ticks\":\"\"},\"colorscale\":[[0.0,\"#0d0887\"],[0.1111111111111111,\"#46039f\"],[0.2222222222222222,\"#7201a8\"],[0.3333333333333333,\"#9c179e\"],[0.4444444444444444,\"#bd3786\"],[0.5555555555555556,\"#d8576b\"],[0.6666666666666666,\"#ed7953\"],[0.7777777777777778,\"#fb9f3a\"],[0.8888888888888888,\"#fdca26\"],[1.0,\"#f0f921\"]]}],\"choropleth\":[{\"type\":\"choropleth\",\"colorbar\":{\"outlinewidth\":0,\"ticks\":\"\"}}],\"histogram2d\":[{\"type\":\"histogram2d\",\"colorbar\":{\"outlinewidth\":0,\"ticks\":\"\"},\"colorscale\":[[0.0,\"#0d0887\"],[0.1111111111111111,\"#46039f\"],[0.2222222222222222,\"#7201a8\"],[0.3333333333333333,\"#9c179e\"],[0.4444444444444444,\"#bd3786\"],[0.5555555555555556,\"#d8576b\"],[0.6666666666666666,\"#ed7953\"],[0.7777777777777778,\"#fb9f3a\"],[0.8888888888888888,\"#fdca26\"],[1.0,\"#f0f921\"]]}],\"heatmap\":[{\"type\":\"heatmap\",\"colorbar\":{\"outlinewidth\":0,\"ticks\":\"\"},\"colorscale\":[[0.0,\"#0d0887\"],[0.1111111111111111,\"#46039f\"],[0.2222222222222222,\"#7201a8\"],[0.3333333333333333,\"#9c179e\"],[0.4444444444444444,\"#bd3786\"],[0.5555555555555556,\"#d8576b\"],[0.6666666666666666,\"#ed7953\"],[0.7777777777777778,\"#fb9f3a\"],[0.8888888888888888,\"#fdca26\"],[1.0,\"#f0f921\"]]}],\"heatmapgl\":[{\"type\":\"heatmapgl\",\"colorbar\":{\"outlinewidth\":0,\"ticks\":\"\"},\"colorscale\":[[0.0,\"#0d0887\"],[0.1111111111111111,\"#46039f\"],[0.2222222222222222,\"#7201a8\"],[0.3333333333333333,\"#9c179e\"],[0.4444444444444444,\"#bd3786\"],[0.5555555555555556,\"#d8576b\"],[0.6666666666666666,\"#ed7953\"],[0.7777777777777778,\"#fb9f3a\"],[0.8888888888888888,\"#fdca26\"],[1.0,\"#f0f921\"]]}],\"contourcarpet\":[{\"type\":\"contourcarpet\",\"colorbar\":{\"outlinewidth\":0,\"ticks\":\"\"}}],\"contour\":[{\"type\":\"contour\",\"colorbar\":{\"outlinewidth\":0,\"ticks\":\"\"},\"colorscale\":[[0.0,\"#0d0887\"],[0.1111111111111111,\"#46039f\"],[0.2222222222222222,\"#7201a8\"],[0.3333333333333333,\"#9c179e\"],[0.4444444444444444,\"#bd3786\"],[0.5555555555555556,\"#d8576b\"],[0.6666666666666666,\"#ed7953\"],[0.7777777777777778,\"#fb9f3a\"],[0.8888888888888888,\"#fdca26\"],[1.0,\"#f0f921\"]]}],\"surface\":[{\"type\":\"surface\",\"colorbar\":{\"outlinewidth\":0,\"ticks\":\"\"},\"colorscale\":[[0.0,\"#0d0887\"],[0.1111111111111111,\"#46039f\"],[0.2222222222222222,\"#7201a8\"],[0.3333333333333333,\"#9c179e\"],[0.4444444444444444,\"#bd3786\"],[0.5555555555555556,\"#d8576b\"],[0.6666666666666666,\"#ed7953\"],[0.7777777777777778,\"#fb9f3a\"],[0.8888888888888888,\"#fdca26\"],[1.0,\"#f0f921\"]]}],\"mesh3d\":[{\"type\":\"mesh3d\",\"colorbar\":{\"outlinewidth\":0,\"ticks\":\"\"}}],\"scatter\":[{\"fillpattern\":{\"fillmode\":\"overlay\",\"size\":10,\"solidity\":0.2},\"type\":\"scatter\"}],\"parcoords\":[{\"type\":\"parcoords\",\"line\":{\"colorbar\":{\"outlinewidth\":0,\"ticks\":\"\"}}}],\"scatterpolargl\":[{\"type\":\"scatterpolargl\",\"marker\":{\"colorbar\":{\"outlinewidth\":0,\"ticks\":\"\"}}}],\"bar\":[{\"error_x\":{\"color\":\"#2a3f5f\"},\"error_y\":{\"color\":\"#2a3f5f\"},\"marker\":{\"line\":{\"color\":\"#E5ECF6\",\"width\":0.5},\"pattern\":{\"fillmode\":\"overlay\",\"size\":10,\"solidity\":0.2}},\"type\":\"bar\"}],\"scattergeo\":[{\"type\":\"scattergeo\",\"marker\":{\"colorbar\":{\"outlinewidth\":0,\"ticks\":\"\"}}}],\"scatterpolar\":[{\"type\":\"scatterpolar\",\"marker\":{\"colorbar\":{\"outlinewidth\":0,\"ticks\":\"\"}}}],\"histogram\":[{\"marker\":{\"pattern\":{\"fillmode\":\"overlay\",\"size\":10,\"solidity\":0.2}},\"type\":\"histogram\"}],\"scattergl\":[{\"type\":\"scattergl\",\"marker\":{\"colorbar\":{\"outlinewidth\":0,\"ticks\":\"\"}}}],\"scatter3d\":[{\"type\":\"scatter3d\",\"line\":{\"colorbar\":{\"outlinewidth\":0,\"ticks\":\"\"}},\"marker\":{\"colorbar\":{\"outlinewidth\":0,\"ticks\":\"\"}}}],\"scattermapbox\":[{\"type\":\"scattermapbox\",\"marker\":{\"colorbar\":{\"outlinewidth\":0,\"ticks\":\"\"}}}],\"scatterternary\":[{\"type\":\"scatterternary\",\"marker\":{\"colorbar\":{\"outlinewidth\":0,\"ticks\":\"\"}}}],\"scattercarpet\":[{\"type\":\"scattercarpet\",\"marker\":{\"colorbar\":{\"outlinewidth\":0,\"ticks\":\"\"}}}],\"carpet\":[{\"aaxis\":{\"endlinecolor\":\"#2a3f5f\",\"gridcolor\":\"white\",\"linecolor\":\"white\",\"minorgridcolor\":\"white\",\"startlinecolor\":\"#2a3f5f\"},\"baxis\":{\"endlinecolor\":\"#2a3f5f\",\"gridcolor\":\"white\",\"linecolor\":\"white\",\"minorgridcolor\":\"white\",\"startlinecolor\":\"#2a3f5f\"},\"type\":\"carpet\"}],\"table\":[{\"cells\":{\"fill\":{\"color\":\"#EBF0F8\"},\"line\":{\"color\":\"white\"}},\"header\":{\"fill\":{\"color\":\"#C8D4E3\"},\"line\":{\"color\":\"white\"}},\"type\":\"table\"}],\"barpolar\":[{\"marker\":{\"line\":{\"color\":\"#E5ECF6\",\"width\":0.5},\"pattern\":{\"fillmode\":\"overlay\",\"size\":10,\"solidity\":0.2}},\"type\":\"barpolar\"}],\"pie\":[{\"automargin\":true,\"type\":\"pie\"}]},\"layout\":{\"autotypenumbers\":\"strict\",\"colorway\":[\"#636efa\",\"#EF553B\",\"#00cc96\",\"#ab63fa\",\"#FFA15A\",\"#19d3f3\",\"#FF6692\",\"#B6E880\",\"#FF97FF\",\"#FECB52\"],\"font\":{\"color\":\"#2a3f5f\"},\"hovermode\":\"closest\",\"hoverlabel\":{\"align\":\"left\"},\"paper_bgcolor\":\"white\",\"plot_bgcolor\":\"#E5ECF6\",\"polar\":{\"bgcolor\":\"#E5ECF6\",\"angularaxis\":{\"gridcolor\":\"white\",\"linecolor\":\"white\",\"ticks\":\"\"},\"radialaxis\":{\"gridcolor\":\"white\",\"linecolor\":\"white\",\"ticks\":\"\"}},\"ternary\":{\"bgcolor\":\"#E5ECF6\",\"aaxis\":{\"gridcolor\":\"white\",\"linecolor\":\"white\",\"ticks\":\"\"},\"baxis\":{\"gridcolor\":\"white\",\"linecolor\":\"white\",\"ticks\":\"\"},\"caxis\":{\"gridcolor\":\"white\",\"linecolor\":\"white\",\"ticks\":\"\"}},\"coloraxis\":{\"colorbar\":{\"outlinewidth\":0,\"ticks\":\"\"}},\"colorscale\":{\"sequential\":[[0.0,\"#0d0887\"],[0.1111111111111111,\"#46039f\"],[0.2222222222222222,\"#7201a8\"],[0.3333333333333333,\"#9c179e\"],[0.4444444444444444,\"#bd3786\"],[0.5555555555555556,\"#d8576b\"],[0.6666666666666666,\"#ed7953\"],[0.7777777777777778,\"#fb9f3a\"],[0.8888888888888888,\"#fdca26\"],[1.0,\"#f0f921\"]],\"sequentialminus\":[[0.0,\"#0d0887\"],[0.1111111111111111,\"#46039f\"],[0.2222222222222222,\"#7201a8\"],[0.3333333333333333,\"#9c179e\"],[0.4444444444444444,\"#bd3786\"],[0.5555555555555556,\"#d8576b\"],[0.6666666666666666,\"#ed7953\"],[0.7777777777777778,\"#fb9f3a\"],[0.8888888888888888,\"#fdca26\"],[1.0,\"#f0f921\"]],\"diverging\":[[0,\"#8e0152\"],[0.1,\"#c51b7d\"],[0.2,\"#de77ae\"],[0.3,\"#f1b6da\"],[0.4,\"#fde0ef\"],[0.5,\"#f7f7f7\"],[0.6,\"#e6f5d0\"],[0.7,\"#b8e186\"],[0.8,\"#7fbc41\"],[0.9,\"#4d9221\"],[1,\"#276419\"]]},\"xaxis\":{\"gridcolor\":\"white\",\"linecolor\":\"white\",\"ticks\":\"\",\"title\":{\"standoff\":15},\"zerolinecolor\":\"white\",\"automargin\":true,\"zerolinewidth\":2},\"yaxis\":{\"gridcolor\":\"white\",\"linecolor\":\"white\",\"ticks\":\"\",\"title\":{\"standoff\":15},\"zerolinecolor\":\"white\",\"automargin\":true,\"zerolinewidth\":2},\"scene\":{\"xaxis\":{\"backgroundcolor\":\"#E5ECF6\",\"gridcolor\":\"white\",\"linecolor\":\"white\",\"showbackground\":true,\"ticks\":\"\",\"zerolinecolor\":\"white\",\"gridwidth\":2},\"yaxis\":{\"backgroundcolor\":\"#E5ECF6\",\"gridcolor\":\"white\",\"linecolor\":\"white\",\"showbackground\":true,\"ticks\":\"\",\"zerolinecolor\":\"white\",\"gridwidth\":2},\"zaxis\":{\"backgroundcolor\":\"#E5ECF6\",\"gridcolor\":\"white\",\"linecolor\":\"white\",\"showbackground\":true,\"ticks\":\"\",\"zerolinecolor\":\"white\",\"gridwidth\":2}},\"shapedefaults\":{\"line\":{\"color\":\"#2a3f5f\"}},\"annotationdefaults\":{\"arrowcolor\":\"#2a3f5f\",\"arrowhead\":0,\"arrowwidth\":1},\"geo\":{\"bgcolor\":\"white\",\"landcolor\":\"#E5ECF6\",\"subunitcolor\":\"white\",\"showland\":true,\"showlakes\":true,\"lakecolor\":\"white\"},\"title\":{\"x\":0.05},\"mapbox\":{\"style\":\"light\"}}},\"autosize\":true},                        {\"responsive\": true}                    ).then(function(){\n",
       "                            \n",
       "var gd = document.getElementById('65fd6891-4f29-4d2b-bb14-30b0db3cf055');\n",
       "var x = new MutationObserver(function (mutations, observer) {{\n",
       "        var display = window.getComputedStyle(gd).display;\n",
       "        if (!display || display === 'none') {{\n",
       "            console.log([gd, 'removed!']);\n",
       "            Plotly.purge(gd);\n",
       "            observer.disconnect();\n",
       "        }}\n",
       "}});\n",
       "\n",
       "// Listen for the removal of the full notebook cells\n",
       "var notebookContainer = gd.closest('#notebook-container');\n",
       "if (notebookContainer) {{\n",
       "    x.observe(notebookContainer, {childList: true});\n",
       "}}\n",
       "\n",
       "// Listen for the clearing of the current output cell\n",
       "var outputEl = gd.closest('.output');\n",
       "if (outputEl) {{\n",
       "    x.observe(outputEl, {childList: true});\n",
       "}}\n",
       "\n",
       "                        })                };                });            </script>        </div>"
      ]
     },
     "metadata": {},
     "output_type": "display_data"
    }
   ],
   "source": [
    "import plotly.graph_objects as go\n",
    "\n",
    "# Replot with small text for editing outside\n",
    "# plotly defaults\n",
    "\n",
    "# 1) Equity in what\n",
    "# 2) Equity for whom\n",
    "# 3) Equity why\n",
    "# Color by ethically grounded\n",
    "import plotly.graph_objects as go\n",
    "\n",
    "eqm_plot = eqm[eqm['meas_scale'] == 'Yes']\n",
    "\n",
    "# Create dimensions\n",
    "what_dim = go.parcats.Dimension(\n",
    "    values=eqm_plot['what_dist'],\n",
    ")\n",
    "\n",
    "whom_dim = go.parcats.Dimension(\n",
    "    # Helps for the image touch-up\n",
    "    values=eqm_plot['whom_dist'].str[0],\n",
    ")\n",
    "\n",
    "why_dim = go.parcats.Dimension(\n",
    "    values=eqm_plot['equity_why'],\n",
    ")\n",
    "\n",
    "\n",
    "# Create parcats trace\n",
    "color = np.where(eqm_plot['equity_why'] == 'Not Stated',\n",
    "                  0, 1)\n",
    "colorscale = [[0, '#D3D3D3'], [1, '#009E73']]\n",
    "\n",
    "fig = go.Figure(data = [go.Parcats(dimensions=[what_dim,\n",
    "                                               whom_dim,\n",
    "                                               why_dim],\n",
    "        line={'color': color,\n",
    "              'colorscale': colorscale},\n",
    "        hoveron='color', hoverinfo='count',\n",
    "        tickfont={'size': 1, 'family': 'Times'},\n",
    "        arrangement='freeform')]\n",
    "              )\n",
    "fig.update_layout(\n",
    "    autosize=True)\n",
    "\n",
    "fig.show()"
   ]
  },
  {
   "cell_type": "markdown",
   "id": "e8c2979a",
   "metadata": {},
   "source": [
    "# Compare equity metrics with non-equity metrics"
   ]
  },
  {
   "cell_type": "code",
   "execution_count": 30,
   "id": "ecca7cca",
   "metadata": {},
   "outputs": [
    {
     "data": {
      "application/vnd.plotly.v1+json": {
       "config": {
        "plotlyServerURL": "https://plot.ly"
       },
       "data": [
        {
         "arrangement": "freeform",
         "dimensions": [
          {
           "values": [
            "Env. Justice",
            "Env. Justice",
            "Env. Justice",
            "Env. Justice",
            "Env. Justice",
            "Env. Justice",
            "Unclear",
            "Unclear",
            "Unclear",
            "Unclear",
            "Unclear",
            "Unclear",
            "Unclear",
            "Unclear",
            "Unclear",
            "Unclear",
            "Unclear",
            "Unclear",
            "Env. Justice",
            "Env. Justice",
            "Env. Justice",
            "Env. Justice",
            "Unclear",
            "Unclear",
            "Env. Justice",
            "Env. Justice",
            "Unclear",
            "Dist. Justice",
            "Dist. Justice",
            "Dist. Justice",
            "Dist. Justice",
            "Dist. Justice",
            "Dist. Justice",
            "Dist. Justice",
            "Env. Justice",
            "Env. Justice",
            "Unclear",
            "Dist. Justice",
            "Dist. Justice",
            "Unclear",
            "Dist. Justice",
            "Dist. Justice",
            "Dist. Justice",
            "Dist. Justice",
            "Dist. Justice",
            "Dist. Justice",
            "Unclear",
            "Unclear",
            "Unclear",
            "Unclear",
            "Env. Justice",
            "Unclear",
            "Env. Justice",
            "Env. Justice",
            "Dist. Justice",
            "Env. Justice",
            "Env. Justice",
            "Env. Justice",
            "Env. Justice",
            "Env. Justice",
            "Unclear",
            "Env. Justice",
            "Env. Justice",
            "Env. Justice",
            "Env. Justice",
            "Unclear",
            "Unclear",
            "Unclear",
            "Unclear",
            "Unclear",
            "Unclear",
            "Unclear",
            "Env. Justice",
            "Env. Justice",
            "Env. Justice",
            "Unclear",
            "Unclear",
            "Unclear",
            "Unclear",
            "Unclear",
            "Env. Justice",
            "Unclear"
           ]
          },
          {
           "values": [
            "Exposure",
            "Adaptation Instruments",
            "Adaptation Instruments",
            "Vulnerability",
            "Adaptation Instruments",
            "Exposure",
            "Risk",
            "Risk",
            "Risk",
            "Risk",
            "Vulnerability",
            "Risk",
            "Exposure",
            "Exposure",
            "Recovery",
            "Risk",
            "Exposure",
            "Benefits",
            "Exposure",
            "Exposure",
            "Exposure",
            "Exposure",
            "Exposure",
            "Benefits",
            "Exposure",
            "Exposure",
            "Risk",
            "Benefits",
            "Benefits",
            "Benefits",
            "Benefits",
            "Benefits",
            "Benefits",
            "Benefits",
            "Exposure",
            "Exposure",
            "Benefits",
            "Exposure",
            "Recovery",
            "Vulnerability",
            "Risk",
            "Benefits",
            "Benefits",
            "Benefits",
            "Benefits",
            "Benefits",
            "Vulnerability",
            "Benefits",
            "Benefits",
            "Recovery",
            "Exposure",
            "Recovery",
            "Recovery",
            "Vulnerability",
            "Adaptation Funding",
            "Exposure",
            "Exposure",
            "Exposure",
            "Exposure",
            "Exposure",
            "Exposure",
            "Exposure",
            "Exposure",
            "Exposure",
            "Exposure",
            "Risk",
            "Benefits",
            "Recovery",
            "Recovery",
            "Exposure",
            "Exposure",
            "Exposure",
            "Adaptation Instruments",
            "Exposure",
            "Adaptation Instruments",
            "Exposure",
            "Exposure",
            "Adaptation Impact",
            "Exposure",
            "Exposure",
            "Adaptation Impact",
            "Adaptation Instruments"
           ]
          },
          {
           "values": [
            "Small Census Areas",
            "Small Census Areas",
            "Small Census Areas",
            "Small Census Areas",
            "Small Census Areas",
            "Small Census Areas",
            "Neighborhood",
            "Individuals",
            "Neighborhood",
            "Individuals",
            "Small Census Areas",
            "Small Census Areas",
            "Large Areas",
            "Small Census Areas",
            "Individuals",
            "Small Census Areas",
            "Individuals",
            "Individuals",
            "Regions",
            "Regions",
            "Large Areas",
            "Small Census Areas",
            "Small Census Areas",
            "Individuals",
            "Small Census Areas",
            "Small Census Areas",
            "Large Areas",
            "Large Areas",
            "Large Areas",
            "Large Areas",
            "Large Areas",
            "Large Areas",
            "Large Areas",
            "Large Areas",
            "Small Census Areas",
            "Small Census Areas",
            "Individuals",
            "Individuals",
            "Individuals",
            "Individuals",
            "Regions",
            "Regions",
            "Individuals",
            "Individuals",
            "Individuals",
            "Individuals",
            "Individuals",
            "Individuals",
            "Individuals",
            "Individuals",
            "Individuals",
            "Individuals",
            "Small Census Areas",
            "Small Census Areas",
            "Small Census Areas",
            "Small Census Areas",
            "Small Census Areas",
            "Small Census Areas",
            "Small Census Areas",
            "Small Census Areas",
            "Small Census Areas",
            "Large Areas",
            "Large Areas",
            "Regions",
            "Regions",
            "Small Census Areas",
            "Large Areas",
            "Small Census Areas",
            "Small Census Areas",
            "Small Census Areas",
            "Individuals",
            "Small Census Areas",
            "Small Census Areas",
            "Small Census Areas",
            "Small Census Areas",
            "Large Areas",
            "Small Census Areas",
            "Individuals",
            "Small Census Areas",
            "Small Census Areas",
            "Individuals",
            "Individuals"
           ]
          }
         ],
         "hoverinfo": "count",
         "hoveron": "color",
         "line": {
          "color": [
           0,
           0,
           0,
           0,
           0,
           0,
           0,
           0,
           0,
           0,
           0,
           0,
           0,
           0,
           0,
           1,
           0,
           1,
           0,
           0,
           0,
           0,
           0,
           1,
           0,
           0,
           1,
           1,
           1,
           1,
           1,
           1,
           1,
           1,
           0,
           0,
           1,
           1,
           1,
           1,
           1,
           1,
           1,
           1,
           1,
           1,
           0,
           1,
           1,
           0,
           0,
           1,
           0,
           0,
           1,
           0,
           0,
           0,
           0,
           0,
           1,
           0,
           0,
           0,
           0,
           0,
           0,
           0,
           0,
           0,
           0,
           0,
           0,
           0,
           0,
           0,
           0,
           0,
           0,
           0,
           1,
           0
          ],
          "colorscale": [
           [
            0,
            "#D3D3D3"
           ],
           [
            1,
            "salmon"
           ]
          ]
         },
         "tickfont": {
          "family": "Times",
          "size": 16
         },
         "type": "parcats"
        }
       ],
       "layout": {
        "autosize": true,
        "template": {
         "data": {
          "bar": [
           {
            "error_x": {
             "color": "#2a3f5f"
            },
            "error_y": {
             "color": "#2a3f5f"
            },
            "marker": {
             "line": {
              "color": "#E5ECF6",
              "width": 0.5
             },
             "pattern": {
              "fillmode": "overlay",
              "size": 10,
              "solidity": 0.2
             }
            },
            "type": "bar"
           }
          ],
          "barpolar": [
           {
            "marker": {
             "line": {
              "color": "#E5ECF6",
              "width": 0.5
             },
             "pattern": {
              "fillmode": "overlay",
              "size": 10,
              "solidity": 0.2
             }
            },
            "type": "barpolar"
           }
          ],
          "carpet": [
           {
            "aaxis": {
             "endlinecolor": "#2a3f5f",
             "gridcolor": "white",
             "linecolor": "white",
             "minorgridcolor": "white",
             "startlinecolor": "#2a3f5f"
            },
            "baxis": {
             "endlinecolor": "#2a3f5f",
             "gridcolor": "white",
             "linecolor": "white",
             "minorgridcolor": "white",
             "startlinecolor": "#2a3f5f"
            },
            "type": "carpet"
           }
          ],
          "choropleth": [
           {
            "colorbar": {
             "outlinewidth": 0,
             "ticks": ""
            },
            "type": "choropleth"
           }
          ],
          "contour": [
           {
            "colorbar": {
             "outlinewidth": 0,
             "ticks": ""
            },
            "colorscale": [
             [
              0,
              "#0d0887"
             ],
             [
              0.1111111111111111,
              "#46039f"
             ],
             [
              0.2222222222222222,
              "#7201a8"
             ],
             [
              0.3333333333333333,
              "#9c179e"
             ],
             [
              0.4444444444444444,
              "#bd3786"
             ],
             [
              0.5555555555555556,
              "#d8576b"
             ],
             [
              0.6666666666666666,
              "#ed7953"
             ],
             [
              0.7777777777777778,
              "#fb9f3a"
             ],
             [
              0.8888888888888888,
              "#fdca26"
             ],
             [
              1,
              "#f0f921"
             ]
            ],
            "type": "contour"
           }
          ],
          "contourcarpet": [
           {
            "colorbar": {
             "outlinewidth": 0,
             "ticks": ""
            },
            "type": "contourcarpet"
           }
          ],
          "heatmap": [
           {
            "colorbar": {
             "outlinewidth": 0,
             "ticks": ""
            },
            "colorscale": [
             [
              0,
              "#0d0887"
             ],
             [
              0.1111111111111111,
              "#46039f"
             ],
             [
              0.2222222222222222,
              "#7201a8"
             ],
             [
              0.3333333333333333,
              "#9c179e"
             ],
             [
              0.4444444444444444,
              "#bd3786"
             ],
             [
              0.5555555555555556,
              "#d8576b"
             ],
             [
              0.6666666666666666,
              "#ed7953"
             ],
             [
              0.7777777777777778,
              "#fb9f3a"
             ],
             [
              0.8888888888888888,
              "#fdca26"
             ],
             [
              1,
              "#f0f921"
             ]
            ],
            "type": "heatmap"
           }
          ],
          "heatmapgl": [
           {
            "colorbar": {
             "outlinewidth": 0,
             "ticks": ""
            },
            "colorscale": [
             [
              0,
              "#0d0887"
             ],
             [
              0.1111111111111111,
              "#46039f"
             ],
             [
              0.2222222222222222,
              "#7201a8"
             ],
             [
              0.3333333333333333,
              "#9c179e"
             ],
             [
              0.4444444444444444,
              "#bd3786"
             ],
             [
              0.5555555555555556,
              "#d8576b"
             ],
             [
              0.6666666666666666,
              "#ed7953"
             ],
             [
              0.7777777777777778,
              "#fb9f3a"
             ],
             [
              0.8888888888888888,
              "#fdca26"
             ],
             [
              1,
              "#f0f921"
             ]
            ],
            "type": "heatmapgl"
           }
          ],
          "histogram": [
           {
            "marker": {
             "pattern": {
              "fillmode": "overlay",
              "size": 10,
              "solidity": 0.2
             }
            },
            "type": "histogram"
           }
          ],
          "histogram2d": [
           {
            "colorbar": {
             "outlinewidth": 0,
             "ticks": ""
            },
            "colorscale": [
             [
              0,
              "#0d0887"
             ],
             [
              0.1111111111111111,
              "#46039f"
             ],
             [
              0.2222222222222222,
              "#7201a8"
             ],
             [
              0.3333333333333333,
              "#9c179e"
             ],
             [
              0.4444444444444444,
              "#bd3786"
             ],
             [
              0.5555555555555556,
              "#d8576b"
             ],
             [
              0.6666666666666666,
              "#ed7953"
             ],
             [
              0.7777777777777778,
              "#fb9f3a"
             ],
             [
              0.8888888888888888,
              "#fdca26"
             ],
             [
              1,
              "#f0f921"
             ]
            ],
            "type": "histogram2d"
           }
          ],
          "histogram2dcontour": [
           {
            "colorbar": {
             "outlinewidth": 0,
             "ticks": ""
            },
            "colorscale": [
             [
              0,
              "#0d0887"
             ],
             [
              0.1111111111111111,
              "#46039f"
             ],
             [
              0.2222222222222222,
              "#7201a8"
             ],
             [
              0.3333333333333333,
              "#9c179e"
             ],
             [
              0.4444444444444444,
              "#bd3786"
             ],
             [
              0.5555555555555556,
              "#d8576b"
             ],
             [
              0.6666666666666666,
              "#ed7953"
             ],
             [
              0.7777777777777778,
              "#fb9f3a"
             ],
             [
              0.8888888888888888,
              "#fdca26"
             ],
             [
              1,
              "#f0f921"
             ]
            ],
            "type": "histogram2dcontour"
           }
          ],
          "mesh3d": [
           {
            "colorbar": {
             "outlinewidth": 0,
             "ticks": ""
            },
            "type": "mesh3d"
           }
          ],
          "parcoords": [
           {
            "line": {
             "colorbar": {
              "outlinewidth": 0,
              "ticks": ""
             }
            },
            "type": "parcoords"
           }
          ],
          "pie": [
           {
            "automargin": true,
            "type": "pie"
           }
          ],
          "scatter": [
           {
            "fillpattern": {
             "fillmode": "overlay",
             "size": 10,
             "solidity": 0.2
            },
            "type": "scatter"
           }
          ],
          "scatter3d": [
           {
            "line": {
             "colorbar": {
              "outlinewidth": 0,
              "ticks": ""
             }
            },
            "marker": {
             "colorbar": {
              "outlinewidth": 0,
              "ticks": ""
             }
            },
            "type": "scatter3d"
           }
          ],
          "scattercarpet": [
           {
            "marker": {
             "colorbar": {
              "outlinewidth": 0,
              "ticks": ""
             }
            },
            "type": "scattercarpet"
           }
          ],
          "scattergeo": [
           {
            "marker": {
             "colorbar": {
              "outlinewidth": 0,
              "ticks": ""
             }
            },
            "type": "scattergeo"
           }
          ],
          "scattergl": [
           {
            "marker": {
             "colorbar": {
              "outlinewidth": 0,
              "ticks": ""
             }
            },
            "type": "scattergl"
           }
          ],
          "scattermapbox": [
           {
            "marker": {
             "colorbar": {
              "outlinewidth": 0,
              "ticks": ""
             }
            },
            "type": "scattermapbox"
           }
          ],
          "scatterpolar": [
           {
            "marker": {
             "colorbar": {
              "outlinewidth": 0,
              "ticks": ""
             }
            },
            "type": "scatterpolar"
           }
          ],
          "scatterpolargl": [
           {
            "marker": {
             "colorbar": {
              "outlinewidth": 0,
              "ticks": ""
             }
            },
            "type": "scatterpolargl"
           }
          ],
          "scatterternary": [
           {
            "marker": {
             "colorbar": {
              "outlinewidth": 0,
              "ticks": ""
             }
            },
            "type": "scatterternary"
           }
          ],
          "surface": [
           {
            "colorbar": {
             "outlinewidth": 0,
             "ticks": ""
            },
            "colorscale": [
             [
              0,
              "#0d0887"
             ],
             [
              0.1111111111111111,
              "#46039f"
             ],
             [
              0.2222222222222222,
              "#7201a8"
             ],
             [
              0.3333333333333333,
              "#9c179e"
             ],
             [
              0.4444444444444444,
              "#bd3786"
             ],
             [
              0.5555555555555556,
              "#d8576b"
             ],
             [
              0.6666666666666666,
              "#ed7953"
             ],
             [
              0.7777777777777778,
              "#fb9f3a"
             ],
             [
              0.8888888888888888,
              "#fdca26"
             ],
             [
              1,
              "#f0f921"
             ]
            ],
            "type": "surface"
           }
          ],
          "table": [
           {
            "cells": {
             "fill": {
              "color": "#EBF0F8"
             },
             "line": {
              "color": "white"
             }
            },
            "header": {
             "fill": {
              "color": "#C8D4E3"
             },
             "line": {
              "color": "white"
             }
            },
            "type": "table"
           }
          ]
         },
         "layout": {
          "annotationdefaults": {
           "arrowcolor": "#2a3f5f",
           "arrowhead": 0,
           "arrowwidth": 1
          },
          "autotypenumbers": "strict",
          "coloraxis": {
           "colorbar": {
            "outlinewidth": 0,
            "ticks": ""
           }
          },
          "colorscale": {
           "diverging": [
            [
             0,
             "#8e0152"
            ],
            [
             0.1,
             "#c51b7d"
            ],
            [
             0.2,
             "#de77ae"
            ],
            [
             0.3,
             "#f1b6da"
            ],
            [
             0.4,
             "#fde0ef"
            ],
            [
             0.5,
             "#f7f7f7"
            ],
            [
             0.6,
             "#e6f5d0"
            ],
            [
             0.7,
             "#b8e186"
            ],
            [
             0.8,
             "#7fbc41"
            ],
            [
             0.9,
             "#4d9221"
            ],
            [
             1,
             "#276419"
            ]
           ],
           "sequential": [
            [
             0,
             "#0d0887"
            ],
            [
             0.1111111111111111,
             "#46039f"
            ],
            [
             0.2222222222222222,
             "#7201a8"
            ],
            [
             0.3333333333333333,
             "#9c179e"
            ],
            [
             0.4444444444444444,
             "#bd3786"
            ],
            [
             0.5555555555555556,
             "#d8576b"
            ],
            [
             0.6666666666666666,
             "#ed7953"
            ],
            [
             0.7777777777777778,
             "#fb9f3a"
            ],
            [
             0.8888888888888888,
             "#fdca26"
            ],
            [
             1,
             "#f0f921"
            ]
           ],
           "sequentialminus": [
            [
             0,
             "#0d0887"
            ],
            [
             0.1111111111111111,
             "#46039f"
            ],
            [
             0.2222222222222222,
             "#7201a8"
            ],
            [
             0.3333333333333333,
             "#9c179e"
            ],
            [
             0.4444444444444444,
             "#bd3786"
            ],
            [
             0.5555555555555556,
             "#d8576b"
            ],
            [
             0.6666666666666666,
             "#ed7953"
            ],
            [
             0.7777777777777778,
             "#fb9f3a"
            ],
            [
             0.8888888888888888,
             "#fdca26"
            ],
            [
             1,
             "#f0f921"
            ]
           ]
          },
          "colorway": [
           "#636efa",
           "#EF553B",
           "#00cc96",
           "#ab63fa",
           "#FFA15A",
           "#19d3f3",
           "#FF6692",
           "#B6E880",
           "#FF97FF",
           "#FECB52"
          ],
          "font": {
           "color": "#2a3f5f"
          },
          "geo": {
           "bgcolor": "white",
           "lakecolor": "white",
           "landcolor": "#E5ECF6",
           "showlakes": true,
           "showland": true,
           "subunitcolor": "white"
          },
          "hoverlabel": {
           "align": "left"
          },
          "hovermode": "closest",
          "mapbox": {
           "style": "light"
          },
          "paper_bgcolor": "white",
          "plot_bgcolor": "#E5ECF6",
          "polar": {
           "angularaxis": {
            "gridcolor": "white",
            "linecolor": "white",
            "ticks": ""
           },
           "bgcolor": "#E5ECF6",
           "radialaxis": {
            "gridcolor": "white",
            "linecolor": "white",
            "ticks": ""
           }
          },
          "scene": {
           "xaxis": {
            "backgroundcolor": "#E5ECF6",
            "gridcolor": "white",
            "gridwidth": 2,
            "linecolor": "white",
            "showbackground": true,
            "ticks": "",
            "zerolinecolor": "white"
           },
           "yaxis": {
            "backgroundcolor": "#E5ECF6",
            "gridcolor": "white",
            "gridwidth": 2,
            "linecolor": "white",
            "showbackground": true,
            "ticks": "",
            "zerolinecolor": "white"
           },
           "zaxis": {
            "backgroundcolor": "#E5ECF6",
            "gridcolor": "white",
            "gridwidth": 2,
            "linecolor": "white",
            "showbackground": true,
            "ticks": "",
            "zerolinecolor": "white"
           }
          },
          "shapedefaults": {
           "line": {
            "color": "#2a3f5f"
           }
          },
          "ternary": {
           "aaxis": {
            "gridcolor": "white",
            "linecolor": "white",
            "ticks": ""
           },
           "baxis": {
            "gridcolor": "white",
            "linecolor": "white",
            "ticks": ""
           },
           "bgcolor": "#E5ECF6",
           "caxis": {
            "gridcolor": "white",
            "linecolor": "white",
            "ticks": ""
           }
          },
          "title": {
           "x": 0.05
          },
          "xaxis": {
           "automargin": true,
           "gridcolor": "white",
           "linecolor": "white",
           "ticks": "",
           "title": {
            "standoff": 15
           },
           "zerolinecolor": "white",
           "zerolinewidth": 2
          },
          "yaxis": {
           "automargin": true,
           "gridcolor": "white",
           "linecolor": "white",
           "ticks": "",
           "title": {
            "standoff": 15
           },
           "zerolinecolor": "white",
           "zerolinewidth": 2
          }
         }
        }
       }
      },
      "text/html": [
       "<div>                            <div id=\"c790191d-0194-47a0-8210-2f8c57588696\" class=\"plotly-graph-div\" style=\"height:525px; width:100%;\"></div>            <script type=\"text/javascript\">                require([\"plotly\"], function(Plotly) {                    window.PLOTLYENV=window.PLOTLYENV || {};                                    if (document.getElementById(\"c790191d-0194-47a0-8210-2f8c57588696\")) {                    Plotly.newPlot(                        \"c790191d-0194-47a0-8210-2f8c57588696\",                        [{\"arrangement\":\"freeform\",\"dimensions\":[{\"values\":[\"Env. Justice\",\"Env. Justice\",\"Env. Justice\",\"Env. Justice\",\"Env. Justice\",\"Env. Justice\",\"Unclear\",\"Unclear\",\"Unclear\",\"Unclear\",\"Unclear\",\"Unclear\",\"Unclear\",\"Unclear\",\"Unclear\",\"Unclear\",\"Unclear\",\"Unclear\",\"Env. Justice\",\"Env. Justice\",\"Env. Justice\",\"Env. Justice\",\"Unclear\",\"Unclear\",\"Env. Justice\",\"Env. Justice\",\"Unclear\",\"Dist. Justice\",\"Dist. Justice\",\"Dist. Justice\",\"Dist. Justice\",\"Dist. Justice\",\"Dist. Justice\",\"Dist. Justice\",\"Env. Justice\",\"Env. Justice\",\"Unclear\",\"Dist. Justice\",\"Dist. Justice\",\"Unclear\",\"Dist. Justice\",\"Dist. Justice\",\"Dist. Justice\",\"Dist. Justice\",\"Dist. Justice\",\"Dist. Justice\",\"Unclear\",\"Unclear\",\"Unclear\",\"Unclear\",\"Env. Justice\",\"Unclear\",\"Env. Justice\",\"Env. Justice\",\"Dist. Justice\",\"Env. Justice\",\"Env. Justice\",\"Env. Justice\",\"Env. Justice\",\"Env. Justice\",\"Unclear\",\"Env. Justice\",\"Env. Justice\",\"Env. Justice\",\"Env. Justice\",\"Unclear\",\"Unclear\",\"Unclear\",\"Unclear\",\"Unclear\",\"Unclear\",\"Unclear\",\"Env. Justice\",\"Env. Justice\",\"Env. Justice\",\"Unclear\",\"Unclear\",\"Unclear\",\"Unclear\",\"Unclear\",\"Env. Justice\",\"Unclear\"]},{\"values\":[\"Exposure\",\"Adaptation Instruments\",\"Adaptation Instruments\",\"Vulnerability\",\"Adaptation Instruments\",\"Exposure\",\"Risk\",\"Risk\",\"Risk\",\"Risk\",\"Vulnerability\",\"Risk\",\"Exposure\",\"Exposure\",\"Recovery\",\"Risk\",\"Exposure\",\"Benefits\",\"Exposure\",\"Exposure\",\"Exposure\",\"Exposure\",\"Exposure\",\"Benefits\",\"Exposure\",\"Exposure\",\"Risk\",\"Benefits\",\"Benefits\",\"Benefits\",\"Benefits\",\"Benefits\",\"Benefits\",\"Benefits\",\"Exposure\",\"Exposure\",\"Benefits\",\"Exposure\",\"Recovery\",\"Vulnerability\",\"Risk\",\"Benefits\",\"Benefits\",\"Benefits\",\"Benefits\",\"Benefits\",\"Vulnerability\",\"Benefits\",\"Benefits\",\"Recovery\",\"Exposure\",\"Recovery\",\"Recovery\",\"Vulnerability\",\"Adaptation Funding\",\"Exposure\",\"Exposure\",\"Exposure\",\"Exposure\",\"Exposure\",\"Exposure\",\"Exposure\",\"Exposure\",\"Exposure\",\"Exposure\",\"Risk\",\"Benefits\",\"Recovery\",\"Recovery\",\"Exposure\",\"Exposure\",\"Exposure\",\"Adaptation Instruments\",\"Exposure\",\"Adaptation Instruments\",\"Exposure\",\"Exposure\",\"Adaptation Impact\",\"Exposure\",\"Exposure\",\"Adaptation Impact\",\"Adaptation Instruments\"]},{\"values\":[\"Small Census Areas\",\"Small Census Areas\",\"Small Census Areas\",\"Small Census Areas\",\"Small Census Areas\",\"Small Census Areas\",\"Neighborhood\",\"Individuals\",\"Neighborhood\",\"Individuals\",\"Small Census Areas\",\"Small Census Areas\",\"Large Areas\",\"Small Census Areas\",\"Individuals\",\"Small Census Areas\",\"Individuals\",\"Individuals\",\"Regions\",\"Regions\",\"Large Areas\",\"Small Census Areas\",\"Small Census Areas\",\"Individuals\",\"Small Census Areas\",\"Small Census Areas\",\"Large Areas\",\"Large Areas\",\"Large Areas\",\"Large Areas\",\"Large Areas\",\"Large Areas\",\"Large Areas\",\"Large Areas\",\"Small Census Areas\",\"Small Census Areas\",\"Individuals\",\"Individuals\",\"Individuals\",\"Individuals\",\"Regions\",\"Regions\",\"Individuals\",\"Individuals\",\"Individuals\",\"Individuals\",\"Individuals\",\"Individuals\",\"Individuals\",\"Individuals\",\"Individuals\",\"Individuals\",\"Small Census Areas\",\"Small Census Areas\",\"Small Census Areas\",\"Small Census Areas\",\"Small Census Areas\",\"Small Census Areas\",\"Small Census Areas\",\"Small Census Areas\",\"Small Census Areas\",\"Large Areas\",\"Large Areas\",\"Regions\",\"Regions\",\"Small Census Areas\",\"Large Areas\",\"Small Census Areas\",\"Small Census Areas\",\"Small Census Areas\",\"Individuals\",\"Small Census Areas\",\"Small Census Areas\",\"Small Census Areas\",\"Small Census Areas\",\"Large Areas\",\"Small Census Areas\",\"Individuals\",\"Small Census Areas\",\"Small Census Areas\",\"Individuals\",\"Individuals\"]}],\"hoverinfo\":\"count\",\"hoveron\":\"color\",\"line\":{\"color\":[0,0,0,0,0,0,0,0,0,0,0,0,0,0,0,1,0,1,0,0,0,0,0,1,0,0,1,1,1,1,1,1,1,1,0,0,1,1,1,1,1,1,1,1,1,1,0,1,1,0,0,1,0,0,1,0,0,0,0,0,1,0,0,0,0,0,0,0,0,0,0,0,0,0,0,0,0,0,0,0,1,0],\"colorscale\":[[0,\"#D3D3D3\"],[1,\"salmon\"]]},\"tickfont\":{\"family\":\"Times\",\"size\":16},\"type\":\"parcats\"}],                        {\"template\":{\"data\":{\"histogram2dcontour\":[{\"type\":\"histogram2dcontour\",\"colorbar\":{\"outlinewidth\":0,\"ticks\":\"\"},\"colorscale\":[[0.0,\"#0d0887\"],[0.1111111111111111,\"#46039f\"],[0.2222222222222222,\"#7201a8\"],[0.3333333333333333,\"#9c179e\"],[0.4444444444444444,\"#bd3786\"],[0.5555555555555556,\"#d8576b\"],[0.6666666666666666,\"#ed7953\"],[0.7777777777777778,\"#fb9f3a\"],[0.8888888888888888,\"#fdca26\"],[1.0,\"#f0f921\"]]}],\"choropleth\":[{\"type\":\"choropleth\",\"colorbar\":{\"outlinewidth\":0,\"ticks\":\"\"}}],\"histogram2d\":[{\"type\":\"histogram2d\",\"colorbar\":{\"outlinewidth\":0,\"ticks\":\"\"},\"colorscale\":[[0.0,\"#0d0887\"],[0.1111111111111111,\"#46039f\"],[0.2222222222222222,\"#7201a8\"],[0.3333333333333333,\"#9c179e\"],[0.4444444444444444,\"#bd3786\"],[0.5555555555555556,\"#d8576b\"],[0.6666666666666666,\"#ed7953\"],[0.7777777777777778,\"#fb9f3a\"],[0.8888888888888888,\"#fdca26\"],[1.0,\"#f0f921\"]]}],\"heatmap\":[{\"type\":\"heatmap\",\"colorbar\":{\"outlinewidth\":0,\"ticks\":\"\"},\"colorscale\":[[0.0,\"#0d0887\"],[0.1111111111111111,\"#46039f\"],[0.2222222222222222,\"#7201a8\"],[0.3333333333333333,\"#9c179e\"],[0.4444444444444444,\"#bd3786\"],[0.5555555555555556,\"#d8576b\"],[0.6666666666666666,\"#ed7953\"],[0.7777777777777778,\"#fb9f3a\"],[0.8888888888888888,\"#fdca26\"],[1.0,\"#f0f921\"]]}],\"heatmapgl\":[{\"type\":\"heatmapgl\",\"colorbar\":{\"outlinewidth\":0,\"ticks\":\"\"},\"colorscale\":[[0.0,\"#0d0887\"],[0.1111111111111111,\"#46039f\"],[0.2222222222222222,\"#7201a8\"],[0.3333333333333333,\"#9c179e\"],[0.4444444444444444,\"#bd3786\"],[0.5555555555555556,\"#d8576b\"],[0.6666666666666666,\"#ed7953\"],[0.7777777777777778,\"#fb9f3a\"],[0.8888888888888888,\"#fdca26\"],[1.0,\"#f0f921\"]]}],\"contourcarpet\":[{\"type\":\"contourcarpet\",\"colorbar\":{\"outlinewidth\":0,\"ticks\":\"\"}}],\"contour\":[{\"type\":\"contour\",\"colorbar\":{\"outlinewidth\":0,\"ticks\":\"\"},\"colorscale\":[[0.0,\"#0d0887\"],[0.1111111111111111,\"#46039f\"],[0.2222222222222222,\"#7201a8\"],[0.3333333333333333,\"#9c179e\"],[0.4444444444444444,\"#bd3786\"],[0.5555555555555556,\"#d8576b\"],[0.6666666666666666,\"#ed7953\"],[0.7777777777777778,\"#fb9f3a\"],[0.8888888888888888,\"#fdca26\"],[1.0,\"#f0f921\"]]}],\"surface\":[{\"type\":\"surface\",\"colorbar\":{\"outlinewidth\":0,\"ticks\":\"\"},\"colorscale\":[[0.0,\"#0d0887\"],[0.1111111111111111,\"#46039f\"],[0.2222222222222222,\"#7201a8\"],[0.3333333333333333,\"#9c179e\"],[0.4444444444444444,\"#bd3786\"],[0.5555555555555556,\"#d8576b\"],[0.6666666666666666,\"#ed7953\"],[0.7777777777777778,\"#fb9f3a\"],[0.8888888888888888,\"#fdca26\"],[1.0,\"#f0f921\"]]}],\"mesh3d\":[{\"type\":\"mesh3d\",\"colorbar\":{\"outlinewidth\":0,\"ticks\":\"\"}}],\"scatter\":[{\"fillpattern\":{\"fillmode\":\"overlay\",\"size\":10,\"solidity\":0.2},\"type\":\"scatter\"}],\"parcoords\":[{\"type\":\"parcoords\",\"line\":{\"colorbar\":{\"outlinewidth\":0,\"ticks\":\"\"}}}],\"scatterpolargl\":[{\"type\":\"scatterpolargl\",\"marker\":{\"colorbar\":{\"outlinewidth\":0,\"ticks\":\"\"}}}],\"bar\":[{\"error_x\":{\"color\":\"#2a3f5f\"},\"error_y\":{\"color\":\"#2a3f5f\"},\"marker\":{\"line\":{\"color\":\"#E5ECF6\",\"width\":0.5},\"pattern\":{\"fillmode\":\"overlay\",\"size\":10,\"solidity\":0.2}},\"type\":\"bar\"}],\"scattergeo\":[{\"type\":\"scattergeo\",\"marker\":{\"colorbar\":{\"outlinewidth\":0,\"ticks\":\"\"}}}],\"scatterpolar\":[{\"type\":\"scatterpolar\",\"marker\":{\"colorbar\":{\"outlinewidth\":0,\"ticks\":\"\"}}}],\"histogram\":[{\"marker\":{\"pattern\":{\"fillmode\":\"overlay\",\"size\":10,\"solidity\":0.2}},\"type\":\"histogram\"}],\"scattergl\":[{\"type\":\"scattergl\",\"marker\":{\"colorbar\":{\"outlinewidth\":0,\"ticks\":\"\"}}}],\"scatter3d\":[{\"type\":\"scatter3d\",\"line\":{\"colorbar\":{\"outlinewidth\":0,\"ticks\":\"\"}},\"marker\":{\"colorbar\":{\"outlinewidth\":0,\"ticks\":\"\"}}}],\"scattermapbox\":[{\"type\":\"scattermapbox\",\"marker\":{\"colorbar\":{\"outlinewidth\":0,\"ticks\":\"\"}}}],\"scatterternary\":[{\"type\":\"scatterternary\",\"marker\":{\"colorbar\":{\"outlinewidth\":0,\"ticks\":\"\"}}}],\"scattercarpet\":[{\"type\":\"scattercarpet\",\"marker\":{\"colorbar\":{\"outlinewidth\":0,\"ticks\":\"\"}}}],\"carpet\":[{\"aaxis\":{\"endlinecolor\":\"#2a3f5f\",\"gridcolor\":\"white\",\"linecolor\":\"white\",\"minorgridcolor\":\"white\",\"startlinecolor\":\"#2a3f5f\"},\"baxis\":{\"endlinecolor\":\"#2a3f5f\",\"gridcolor\":\"white\",\"linecolor\":\"white\",\"minorgridcolor\":\"white\",\"startlinecolor\":\"#2a3f5f\"},\"type\":\"carpet\"}],\"table\":[{\"cells\":{\"fill\":{\"color\":\"#EBF0F8\"},\"line\":{\"color\":\"white\"}},\"header\":{\"fill\":{\"color\":\"#C8D4E3\"},\"line\":{\"color\":\"white\"}},\"type\":\"table\"}],\"barpolar\":[{\"marker\":{\"line\":{\"color\":\"#E5ECF6\",\"width\":0.5},\"pattern\":{\"fillmode\":\"overlay\",\"size\":10,\"solidity\":0.2}},\"type\":\"barpolar\"}],\"pie\":[{\"automargin\":true,\"type\":\"pie\"}]},\"layout\":{\"autotypenumbers\":\"strict\",\"colorway\":[\"#636efa\",\"#EF553B\",\"#00cc96\",\"#ab63fa\",\"#FFA15A\",\"#19d3f3\",\"#FF6692\",\"#B6E880\",\"#FF97FF\",\"#FECB52\"],\"font\":{\"color\":\"#2a3f5f\"},\"hovermode\":\"closest\",\"hoverlabel\":{\"align\":\"left\"},\"paper_bgcolor\":\"white\",\"plot_bgcolor\":\"#E5ECF6\",\"polar\":{\"bgcolor\":\"#E5ECF6\",\"angularaxis\":{\"gridcolor\":\"white\",\"linecolor\":\"white\",\"ticks\":\"\"},\"radialaxis\":{\"gridcolor\":\"white\",\"linecolor\":\"white\",\"ticks\":\"\"}},\"ternary\":{\"bgcolor\":\"#E5ECF6\",\"aaxis\":{\"gridcolor\":\"white\",\"linecolor\":\"white\",\"ticks\":\"\"},\"baxis\":{\"gridcolor\":\"white\",\"linecolor\":\"white\",\"ticks\":\"\"},\"caxis\":{\"gridcolor\":\"white\",\"linecolor\":\"white\",\"ticks\":\"\"}},\"coloraxis\":{\"colorbar\":{\"outlinewidth\":0,\"ticks\":\"\"}},\"colorscale\":{\"sequential\":[[0.0,\"#0d0887\"],[0.1111111111111111,\"#46039f\"],[0.2222222222222222,\"#7201a8\"],[0.3333333333333333,\"#9c179e\"],[0.4444444444444444,\"#bd3786\"],[0.5555555555555556,\"#d8576b\"],[0.6666666666666666,\"#ed7953\"],[0.7777777777777778,\"#fb9f3a\"],[0.8888888888888888,\"#fdca26\"],[1.0,\"#f0f921\"]],\"sequentialminus\":[[0.0,\"#0d0887\"],[0.1111111111111111,\"#46039f\"],[0.2222222222222222,\"#7201a8\"],[0.3333333333333333,\"#9c179e\"],[0.4444444444444444,\"#bd3786\"],[0.5555555555555556,\"#d8576b\"],[0.6666666666666666,\"#ed7953\"],[0.7777777777777778,\"#fb9f3a\"],[0.8888888888888888,\"#fdca26\"],[1.0,\"#f0f921\"]],\"diverging\":[[0,\"#8e0152\"],[0.1,\"#c51b7d\"],[0.2,\"#de77ae\"],[0.3,\"#f1b6da\"],[0.4,\"#fde0ef\"],[0.5,\"#f7f7f7\"],[0.6,\"#e6f5d0\"],[0.7,\"#b8e186\"],[0.8,\"#7fbc41\"],[0.9,\"#4d9221\"],[1,\"#276419\"]]},\"xaxis\":{\"gridcolor\":\"white\",\"linecolor\":\"white\",\"ticks\":\"\",\"title\":{\"standoff\":15},\"zerolinecolor\":\"white\",\"automargin\":true,\"zerolinewidth\":2},\"yaxis\":{\"gridcolor\":\"white\",\"linecolor\":\"white\",\"ticks\":\"\",\"title\":{\"standoff\":15},\"zerolinecolor\":\"white\",\"automargin\":true,\"zerolinewidth\":2},\"scene\":{\"xaxis\":{\"backgroundcolor\":\"#E5ECF6\",\"gridcolor\":\"white\",\"linecolor\":\"white\",\"showbackground\":true,\"ticks\":\"\",\"zerolinecolor\":\"white\",\"gridwidth\":2},\"yaxis\":{\"backgroundcolor\":\"#E5ECF6\",\"gridcolor\":\"white\",\"linecolor\":\"white\",\"showbackground\":true,\"ticks\":\"\",\"zerolinecolor\":\"white\",\"gridwidth\":2},\"zaxis\":{\"backgroundcolor\":\"#E5ECF6\",\"gridcolor\":\"white\",\"linecolor\":\"white\",\"showbackground\":true,\"ticks\":\"\",\"zerolinecolor\":\"white\",\"gridwidth\":2}},\"shapedefaults\":{\"line\":{\"color\":\"#2a3f5f\"}},\"annotationdefaults\":{\"arrowcolor\":\"#2a3f5f\",\"arrowhead\":0,\"arrowwidth\":1},\"geo\":{\"bgcolor\":\"white\",\"landcolor\":\"#E5ECF6\",\"subunitcolor\":\"white\",\"showland\":true,\"showlakes\":true,\"lakecolor\":\"white\"},\"title\":{\"x\":0.05},\"mapbox\":{\"style\":\"light\"}}},\"autosize\":true},                        {\"responsive\": true}                    ).then(function(){\n",
       "                            \n",
       "var gd = document.getElementById('c790191d-0194-47a0-8210-2f8c57588696');\n",
       "var x = new MutationObserver(function (mutations, observer) {{\n",
       "        var display = window.getComputedStyle(gd).display;\n",
       "        if (!display || display === 'none') {{\n",
       "            console.log([gd, 'removed!']);\n",
       "            Plotly.purge(gd);\n",
       "            observer.disconnect();\n",
       "        }}\n",
       "}});\n",
       "\n",
       "// Listen for the removal of the full notebook cells\n",
       "var notebookContainer = gd.closest('#notebook-container');\n",
       "if (notebookContainer) {{\n",
       "    x.observe(notebookContainer, {childList: true});\n",
       "}}\n",
       "\n",
       "// Listen for the clearing of the current output cell\n",
       "var outputEl = gd.closest('.output');\n",
       "if (outputEl) {{\n",
       "    x.observe(outputEl, {childList: true});\n",
       "}}\n",
       "\n",
       "                        })                };                });            </script>        </div>"
      ]
     },
     "metadata": {},
     "output_type": "display_data"
    }
   ],
   "source": [
    "# Link eqm dataframe with whether a study defined equity or not\n",
    "# All studies with equity metrics do this\n",
    "# Not always the case for non-equity metrics even\n",
    "# if they say results have equity implications\n",
    "eq_defs = dict(zip(sub_papers['doi'],\n",
    "                   sub_papers['equity_defined_cat']))\n",
    "eqm['eq_d'] = eqm['doi'].map(eq_defs)\n",
    "\n",
    "eqm['eq_fair'] = 'Unclear'\n",
    "eqm.loc[eqm['eq_d'] == 2,\n",
    "        'eq_fair'] = 'Env. Justice'\n",
    "eqm.loc[eqm['eq_d'] == 3,\n",
    "        'eq_fair'] = 'Dist. Justice'\n",
    "\n",
    "eqm['whom_dist_p'] = eqm['whom_dist'].copy()\n",
    "eqm.loc[eqm['whom_dist'] == 'Zip Codes',\n",
    "        'whom_dist_p'] = 'Small Census Areas'\n",
    "eqm.loc[eqm['whom_dist'] == 'County',\n",
    "        'whom_dist_p'] = 'Large Areas'\n",
    "\n",
    "# 1) Equity in what\n",
    "# 2) Equity for whom\n",
    "# 3) Equity why\n",
    "# Color by ethically grounded\n",
    "import plotly.graph_objects as go\n",
    "\n",
    "\n",
    "# Create dimensions\n",
    "def_dim = go.parcats.Dimension(\n",
    "    values=eqm['eq_fair'],\n",
    ")\n",
    "\n",
    "what_dim = go.parcats.Dimension(\n",
    "    values=eqm['what_dist'],\n",
    ")\n",
    "\n",
    "whom_dim = go.parcats.Dimension(\n",
    "    values=eqm['whom_dist_p'],\n",
    ")\n",
    "\n",
    "\n",
    "# Create parcats trace\n",
    "color = np.where(eqm['meas_scale'] != 'Yes',\n",
    "                  0, 1)\n",
    "colorscale = [[0, '#D3D3D3'], [1, 'salmon']]\n",
    "\n",
    "fig = go.Figure(data = [go.Parcats(dimensions=[def_dim,\n",
    "                                               what_dim,\n",
    "                                               whom_dim],\n",
    "        line={'color': color,\n",
    "              'colorscale': colorscale},\n",
    "        hoveron='color', hoverinfo='count',\n",
    "        tickfont={'size': 16, 'family': 'Times'},\n",
    "        arrangement='freeform')]\n",
    "              )\n",
    "fig.update_layout(\n",
    "    autosize=True)\n",
    "\n",
    "fig.show()"
   ]
  },
  {
   "cell_type": "code",
   "execution_count": 20,
   "id": "d41b9459",
   "metadata": {},
   "outputs": [
    {
     "data": {
      "text/plain": [
       "eq_fair        meas_scale\n",
       "Dist. Justice  Yes           16\n",
       "Env. Justice   No            29\n",
       "               Yes            1\n",
       "Unclear        No            26\n",
       "               Yes           10\n",
       "dtype: int64"
      ]
     },
     "execution_count": 20,
     "metadata": {},
     "output_type": "execute_result"
    }
   ],
   "source": [
    "eqm.groupby(['eq_fair', 'meas_scale']).size()"
   ]
  },
  {
   "cell_type": "code",
   "execution_count": 22,
   "id": "339d8705",
   "metadata": {},
   "outputs": [
    {
     "data": {
      "text/plain": [
       "28"
      ]
     },
     "execution_count": 22,
     "metadata": {},
     "output_type": "execute_result"
    }
   ],
   "source": [
    "len(eqm[eqm['meas_scale'] == 'No']['doi'].unique())"
   ]
  },
  {
   "cell_type": "code",
   "execution_count": 32,
   "id": "b6123c63",
   "metadata": {},
   "outputs": [
    {
     "data": {
      "application/vnd.plotly.v1+json": {
       "config": {
        "plotlyServerURL": "https://plot.ly"
       },
       "data": [
        {
         "arrangement": "freeform",
         "dimensions": [
          {
           "values": [
            "Env. Justice",
            "Env. Justice",
            "Env. Justice",
            "Env. Justice",
            "Env. Justice",
            "Env. Justice",
            "Unclear",
            "Unclear",
            "Unclear",
            "Unclear",
            "Unclear",
            "Unclear",
            "Unclear",
            "Unclear",
            "Unclear",
            "Unclear",
            "Unclear",
            "Unclear",
            "Env. Justice",
            "Env. Justice",
            "Env. Justice",
            "Env. Justice",
            "Unclear",
            "Unclear",
            "Env. Justice",
            "Env. Justice",
            "Unclear",
            "Dist. Justice",
            "Dist. Justice",
            "Dist. Justice",
            "Dist. Justice",
            "Dist. Justice",
            "Dist. Justice",
            "Dist. Justice",
            "Env. Justice",
            "Env. Justice",
            "Unclear",
            "Dist. Justice",
            "Dist. Justice",
            "Unclear",
            "Dist. Justice",
            "Dist. Justice",
            "Dist. Justice",
            "Dist. Justice",
            "Dist. Justice",
            "Dist. Justice",
            "Unclear",
            "Unclear",
            "Unclear",
            "Unclear",
            "Env. Justice",
            "Unclear",
            "Env. Justice",
            "Env. Justice",
            "Dist. Justice",
            "Env. Justice",
            "Env. Justice",
            "Env. Justice",
            "Env. Justice",
            "Env. Justice",
            "Unclear",
            "Env. Justice",
            "Env. Justice",
            "Env. Justice",
            "Env. Justice",
            "Unclear",
            "Unclear",
            "Unclear",
            "Unclear",
            "Unclear",
            "Unclear",
            "Unclear",
            "Env. Justice",
            "Env. Justice",
            "Env. Justice",
            "Unclear",
            "Unclear",
            "Unclear",
            "Unclear",
            "Unclear",
            "Env. Justice",
            "Unclear"
           ]
          },
          {
           "values": [
            "ure",
            "nts",
            "nts",
            "ity",
            "nts",
            "ure",
            "isk",
            "isk",
            "isk",
            "isk",
            "ity",
            "isk",
            "ure",
            "ure",
            "ery",
            "isk",
            "ure",
            "its",
            "ure",
            "ure",
            "ure",
            "ure",
            "ure",
            "its",
            "ure",
            "ure",
            "isk",
            "its",
            "its",
            "its",
            "its",
            "its",
            "its",
            "its",
            "ure",
            "ure",
            "its",
            "ure",
            "ery",
            "ity",
            "isk",
            "its",
            "its",
            "its",
            "its",
            "its",
            "ity",
            "its",
            "its",
            "ery",
            "ure",
            "ery",
            "ery",
            "ity",
            "ing",
            "ure",
            "ure",
            "ure",
            "ure",
            "ure",
            "ure",
            "ure",
            "ure",
            "ure",
            "ure",
            "isk",
            "its",
            "ery",
            "ery",
            "ure",
            "ure",
            "ure",
            "nts",
            "ure",
            "nts",
            "ure",
            "ure",
            "act",
            "ure",
            "ure",
            "act",
            "nts"
           ]
          },
          {
           "values": [
            "Small Census Areas",
            "Small Census Areas",
            "Small Census Areas",
            "Small Census Areas",
            "Small Census Areas",
            "Small Census Areas",
            "Neighborhood",
            "Individuals",
            "Neighborhood",
            "Individuals",
            "Small Census Areas",
            "Small Census Areas",
            "Large Areas",
            "Small Census Areas",
            "Individuals",
            "Small Census Areas",
            "Individuals",
            "Individuals",
            "Regions",
            "Regions",
            "Large Areas",
            "Small Census Areas",
            "Small Census Areas",
            "Individuals",
            "Small Census Areas",
            "Small Census Areas",
            "Large Areas",
            "Large Areas",
            "Large Areas",
            "Large Areas",
            "Large Areas",
            "Large Areas",
            "Large Areas",
            "Large Areas",
            "Small Census Areas",
            "Small Census Areas",
            "Individuals",
            "Individuals",
            "Individuals",
            "Individuals",
            "Regions",
            "Regions",
            "Individuals",
            "Individuals",
            "Individuals",
            "Individuals",
            "Individuals",
            "Individuals",
            "Individuals",
            "Individuals",
            "Individuals",
            "Individuals",
            "Small Census Areas",
            "Small Census Areas",
            "Small Census Areas",
            "Small Census Areas",
            "Small Census Areas",
            "Small Census Areas",
            "Small Census Areas",
            "Small Census Areas",
            "Small Census Areas",
            "Large Areas",
            "Large Areas",
            "Regions",
            "Regions",
            "Small Census Areas",
            "Large Areas",
            "Small Census Areas",
            "Small Census Areas",
            "Small Census Areas",
            "Individuals",
            "Small Census Areas",
            "Small Census Areas",
            "Small Census Areas",
            "Small Census Areas",
            "Large Areas",
            "Small Census Areas",
            "Individuals",
            "Small Census Areas",
            "Small Census Areas",
            "Individuals",
            "Individuals"
           ]
          }
         ],
         "hoverinfo": "count",
         "hoveron": "color",
         "line": {
          "color": [
           0,
           0,
           0,
           0,
           0,
           0,
           0,
           0,
           0,
           0,
           0,
           0,
           0,
           0,
           0,
           1,
           0,
           1,
           0,
           0,
           0,
           0,
           0,
           1,
           0,
           0,
           1,
           1,
           1,
           1,
           1,
           1,
           1,
           1,
           0,
           0,
           1,
           1,
           1,
           1,
           1,
           1,
           1,
           1,
           1,
           1,
           0,
           1,
           1,
           0,
           0,
           1,
           0,
           0,
           1,
           0,
           0,
           0,
           0,
           0,
           1,
           0,
           0,
           0,
           0,
           0,
           0,
           0,
           0,
           0,
           0,
           0,
           0,
           0,
           0,
           0,
           0,
           0,
           0,
           0,
           1,
           0
          ],
          "colorscale": [
           [
            0,
            "#D3D3D3"
           ],
           [
            1,
            "salmon"
           ]
          ]
         },
         "tickfont": {
          "family": "Times",
          "size": 1
         },
         "type": "parcats"
        }
       ],
       "layout": {
        "autosize": true,
        "template": {
         "data": {
          "bar": [
           {
            "error_x": {
             "color": "#2a3f5f"
            },
            "error_y": {
             "color": "#2a3f5f"
            },
            "marker": {
             "line": {
              "color": "#E5ECF6",
              "width": 0.5
             },
             "pattern": {
              "fillmode": "overlay",
              "size": 10,
              "solidity": 0.2
             }
            },
            "type": "bar"
           }
          ],
          "barpolar": [
           {
            "marker": {
             "line": {
              "color": "#E5ECF6",
              "width": 0.5
             },
             "pattern": {
              "fillmode": "overlay",
              "size": 10,
              "solidity": 0.2
             }
            },
            "type": "barpolar"
           }
          ],
          "carpet": [
           {
            "aaxis": {
             "endlinecolor": "#2a3f5f",
             "gridcolor": "white",
             "linecolor": "white",
             "minorgridcolor": "white",
             "startlinecolor": "#2a3f5f"
            },
            "baxis": {
             "endlinecolor": "#2a3f5f",
             "gridcolor": "white",
             "linecolor": "white",
             "minorgridcolor": "white",
             "startlinecolor": "#2a3f5f"
            },
            "type": "carpet"
           }
          ],
          "choropleth": [
           {
            "colorbar": {
             "outlinewidth": 0,
             "ticks": ""
            },
            "type": "choropleth"
           }
          ],
          "contour": [
           {
            "colorbar": {
             "outlinewidth": 0,
             "ticks": ""
            },
            "colorscale": [
             [
              0,
              "#0d0887"
             ],
             [
              0.1111111111111111,
              "#46039f"
             ],
             [
              0.2222222222222222,
              "#7201a8"
             ],
             [
              0.3333333333333333,
              "#9c179e"
             ],
             [
              0.4444444444444444,
              "#bd3786"
             ],
             [
              0.5555555555555556,
              "#d8576b"
             ],
             [
              0.6666666666666666,
              "#ed7953"
             ],
             [
              0.7777777777777778,
              "#fb9f3a"
             ],
             [
              0.8888888888888888,
              "#fdca26"
             ],
             [
              1,
              "#f0f921"
             ]
            ],
            "type": "contour"
           }
          ],
          "contourcarpet": [
           {
            "colorbar": {
             "outlinewidth": 0,
             "ticks": ""
            },
            "type": "contourcarpet"
           }
          ],
          "heatmap": [
           {
            "colorbar": {
             "outlinewidth": 0,
             "ticks": ""
            },
            "colorscale": [
             [
              0,
              "#0d0887"
             ],
             [
              0.1111111111111111,
              "#46039f"
             ],
             [
              0.2222222222222222,
              "#7201a8"
             ],
             [
              0.3333333333333333,
              "#9c179e"
             ],
             [
              0.4444444444444444,
              "#bd3786"
             ],
             [
              0.5555555555555556,
              "#d8576b"
             ],
             [
              0.6666666666666666,
              "#ed7953"
             ],
             [
              0.7777777777777778,
              "#fb9f3a"
             ],
             [
              0.8888888888888888,
              "#fdca26"
             ],
             [
              1,
              "#f0f921"
             ]
            ],
            "type": "heatmap"
           }
          ],
          "heatmapgl": [
           {
            "colorbar": {
             "outlinewidth": 0,
             "ticks": ""
            },
            "colorscale": [
             [
              0,
              "#0d0887"
             ],
             [
              0.1111111111111111,
              "#46039f"
             ],
             [
              0.2222222222222222,
              "#7201a8"
             ],
             [
              0.3333333333333333,
              "#9c179e"
             ],
             [
              0.4444444444444444,
              "#bd3786"
             ],
             [
              0.5555555555555556,
              "#d8576b"
             ],
             [
              0.6666666666666666,
              "#ed7953"
             ],
             [
              0.7777777777777778,
              "#fb9f3a"
             ],
             [
              0.8888888888888888,
              "#fdca26"
             ],
             [
              1,
              "#f0f921"
             ]
            ],
            "type": "heatmapgl"
           }
          ],
          "histogram": [
           {
            "marker": {
             "pattern": {
              "fillmode": "overlay",
              "size": 10,
              "solidity": 0.2
             }
            },
            "type": "histogram"
           }
          ],
          "histogram2d": [
           {
            "colorbar": {
             "outlinewidth": 0,
             "ticks": ""
            },
            "colorscale": [
             [
              0,
              "#0d0887"
             ],
             [
              0.1111111111111111,
              "#46039f"
             ],
             [
              0.2222222222222222,
              "#7201a8"
             ],
             [
              0.3333333333333333,
              "#9c179e"
             ],
             [
              0.4444444444444444,
              "#bd3786"
             ],
             [
              0.5555555555555556,
              "#d8576b"
             ],
             [
              0.6666666666666666,
              "#ed7953"
             ],
             [
              0.7777777777777778,
              "#fb9f3a"
             ],
             [
              0.8888888888888888,
              "#fdca26"
             ],
             [
              1,
              "#f0f921"
             ]
            ],
            "type": "histogram2d"
           }
          ],
          "histogram2dcontour": [
           {
            "colorbar": {
             "outlinewidth": 0,
             "ticks": ""
            },
            "colorscale": [
             [
              0,
              "#0d0887"
             ],
             [
              0.1111111111111111,
              "#46039f"
             ],
             [
              0.2222222222222222,
              "#7201a8"
             ],
             [
              0.3333333333333333,
              "#9c179e"
             ],
             [
              0.4444444444444444,
              "#bd3786"
             ],
             [
              0.5555555555555556,
              "#d8576b"
             ],
             [
              0.6666666666666666,
              "#ed7953"
             ],
             [
              0.7777777777777778,
              "#fb9f3a"
             ],
             [
              0.8888888888888888,
              "#fdca26"
             ],
             [
              1,
              "#f0f921"
             ]
            ],
            "type": "histogram2dcontour"
           }
          ],
          "mesh3d": [
           {
            "colorbar": {
             "outlinewidth": 0,
             "ticks": ""
            },
            "type": "mesh3d"
           }
          ],
          "parcoords": [
           {
            "line": {
             "colorbar": {
              "outlinewidth": 0,
              "ticks": ""
             }
            },
            "type": "parcoords"
           }
          ],
          "pie": [
           {
            "automargin": true,
            "type": "pie"
           }
          ],
          "scatter": [
           {
            "fillpattern": {
             "fillmode": "overlay",
             "size": 10,
             "solidity": 0.2
            },
            "type": "scatter"
           }
          ],
          "scatter3d": [
           {
            "line": {
             "colorbar": {
              "outlinewidth": 0,
              "ticks": ""
             }
            },
            "marker": {
             "colorbar": {
              "outlinewidth": 0,
              "ticks": ""
             }
            },
            "type": "scatter3d"
           }
          ],
          "scattercarpet": [
           {
            "marker": {
             "colorbar": {
              "outlinewidth": 0,
              "ticks": ""
             }
            },
            "type": "scattercarpet"
           }
          ],
          "scattergeo": [
           {
            "marker": {
             "colorbar": {
              "outlinewidth": 0,
              "ticks": ""
             }
            },
            "type": "scattergeo"
           }
          ],
          "scattergl": [
           {
            "marker": {
             "colorbar": {
              "outlinewidth": 0,
              "ticks": ""
             }
            },
            "type": "scattergl"
           }
          ],
          "scattermapbox": [
           {
            "marker": {
             "colorbar": {
              "outlinewidth": 0,
              "ticks": ""
             }
            },
            "type": "scattermapbox"
           }
          ],
          "scatterpolar": [
           {
            "marker": {
             "colorbar": {
              "outlinewidth": 0,
              "ticks": ""
             }
            },
            "type": "scatterpolar"
           }
          ],
          "scatterpolargl": [
           {
            "marker": {
             "colorbar": {
              "outlinewidth": 0,
              "ticks": ""
             }
            },
            "type": "scatterpolargl"
           }
          ],
          "scatterternary": [
           {
            "marker": {
             "colorbar": {
              "outlinewidth": 0,
              "ticks": ""
             }
            },
            "type": "scatterternary"
           }
          ],
          "surface": [
           {
            "colorbar": {
             "outlinewidth": 0,
             "ticks": ""
            },
            "colorscale": [
             [
              0,
              "#0d0887"
             ],
             [
              0.1111111111111111,
              "#46039f"
             ],
             [
              0.2222222222222222,
              "#7201a8"
             ],
             [
              0.3333333333333333,
              "#9c179e"
             ],
             [
              0.4444444444444444,
              "#bd3786"
             ],
             [
              0.5555555555555556,
              "#d8576b"
             ],
             [
              0.6666666666666666,
              "#ed7953"
             ],
             [
              0.7777777777777778,
              "#fb9f3a"
             ],
             [
              0.8888888888888888,
              "#fdca26"
             ],
             [
              1,
              "#f0f921"
             ]
            ],
            "type": "surface"
           }
          ],
          "table": [
           {
            "cells": {
             "fill": {
              "color": "#EBF0F8"
             },
             "line": {
              "color": "white"
             }
            },
            "header": {
             "fill": {
              "color": "#C8D4E3"
             },
             "line": {
              "color": "white"
             }
            },
            "type": "table"
           }
          ]
         },
         "layout": {
          "annotationdefaults": {
           "arrowcolor": "#2a3f5f",
           "arrowhead": 0,
           "arrowwidth": 1
          },
          "autotypenumbers": "strict",
          "coloraxis": {
           "colorbar": {
            "outlinewidth": 0,
            "ticks": ""
           }
          },
          "colorscale": {
           "diverging": [
            [
             0,
             "#8e0152"
            ],
            [
             0.1,
             "#c51b7d"
            ],
            [
             0.2,
             "#de77ae"
            ],
            [
             0.3,
             "#f1b6da"
            ],
            [
             0.4,
             "#fde0ef"
            ],
            [
             0.5,
             "#f7f7f7"
            ],
            [
             0.6,
             "#e6f5d0"
            ],
            [
             0.7,
             "#b8e186"
            ],
            [
             0.8,
             "#7fbc41"
            ],
            [
             0.9,
             "#4d9221"
            ],
            [
             1,
             "#276419"
            ]
           ],
           "sequential": [
            [
             0,
             "#0d0887"
            ],
            [
             0.1111111111111111,
             "#46039f"
            ],
            [
             0.2222222222222222,
             "#7201a8"
            ],
            [
             0.3333333333333333,
             "#9c179e"
            ],
            [
             0.4444444444444444,
             "#bd3786"
            ],
            [
             0.5555555555555556,
             "#d8576b"
            ],
            [
             0.6666666666666666,
             "#ed7953"
            ],
            [
             0.7777777777777778,
             "#fb9f3a"
            ],
            [
             0.8888888888888888,
             "#fdca26"
            ],
            [
             1,
             "#f0f921"
            ]
           ],
           "sequentialminus": [
            [
             0,
             "#0d0887"
            ],
            [
             0.1111111111111111,
             "#46039f"
            ],
            [
             0.2222222222222222,
             "#7201a8"
            ],
            [
             0.3333333333333333,
             "#9c179e"
            ],
            [
             0.4444444444444444,
             "#bd3786"
            ],
            [
             0.5555555555555556,
             "#d8576b"
            ],
            [
             0.6666666666666666,
             "#ed7953"
            ],
            [
             0.7777777777777778,
             "#fb9f3a"
            ],
            [
             0.8888888888888888,
             "#fdca26"
            ],
            [
             1,
             "#f0f921"
            ]
           ]
          },
          "colorway": [
           "#636efa",
           "#EF553B",
           "#00cc96",
           "#ab63fa",
           "#FFA15A",
           "#19d3f3",
           "#FF6692",
           "#B6E880",
           "#FF97FF",
           "#FECB52"
          ],
          "font": {
           "color": "#2a3f5f"
          },
          "geo": {
           "bgcolor": "white",
           "lakecolor": "white",
           "landcolor": "#E5ECF6",
           "showlakes": true,
           "showland": true,
           "subunitcolor": "white"
          },
          "hoverlabel": {
           "align": "left"
          },
          "hovermode": "closest",
          "mapbox": {
           "style": "light"
          },
          "paper_bgcolor": "white",
          "plot_bgcolor": "#E5ECF6",
          "polar": {
           "angularaxis": {
            "gridcolor": "white",
            "linecolor": "white",
            "ticks": ""
           },
           "bgcolor": "#E5ECF6",
           "radialaxis": {
            "gridcolor": "white",
            "linecolor": "white",
            "ticks": ""
           }
          },
          "scene": {
           "xaxis": {
            "backgroundcolor": "#E5ECF6",
            "gridcolor": "white",
            "gridwidth": 2,
            "linecolor": "white",
            "showbackground": true,
            "ticks": "",
            "zerolinecolor": "white"
           },
           "yaxis": {
            "backgroundcolor": "#E5ECF6",
            "gridcolor": "white",
            "gridwidth": 2,
            "linecolor": "white",
            "showbackground": true,
            "ticks": "",
            "zerolinecolor": "white"
           },
           "zaxis": {
            "backgroundcolor": "#E5ECF6",
            "gridcolor": "white",
            "gridwidth": 2,
            "linecolor": "white",
            "showbackground": true,
            "ticks": "",
            "zerolinecolor": "white"
           }
          },
          "shapedefaults": {
           "line": {
            "color": "#2a3f5f"
           }
          },
          "ternary": {
           "aaxis": {
            "gridcolor": "white",
            "linecolor": "white",
            "ticks": ""
           },
           "baxis": {
            "gridcolor": "white",
            "linecolor": "white",
            "ticks": ""
           },
           "bgcolor": "#E5ECF6",
           "caxis": {
            "gridcolor": "white",
            "linecolor": "white",
            "ticks": ""
           }
          },
          "title": {
           "x": 0.05
          },
          "xaxis": {
           "automargin": true,
           "gridcolor": "white",
           "linecolor": "white",
           "ticks": "",
           "title": {
            "standoff": 15
           },
           "zerolinecolor": "white",
           "zerolinewidth": 2
          },
          "yaxis": {
           "automargin": true,
           "gridcolor": "white",
           "linecolor": "white",
           "ticks": "",
           "title": {
            "standoff": 15
           },
           "zerolinecolor": "white",
           "zerolinewidth": 2
          }
         }
        }
       }
      },
      "text/html": [
       "<div>                            <div id=\"3829d2b6-dac4-4544-9fa2-9eb303c8d801\" class=\"plotly-graph-div\" style=\"height:525px; width:100%;\"></div>            <script type=\"text/javascript\">                require([\"plotly\"], function(Plotly) {                    window.PLOTLYENV=window.PLOTLYENV || {};                                    if (document.getElementById(\"3829d2b6-dac4-4544-9fa2-9eb303c8d801\")) {                    Plotly.newPlot(                        \"3829d2b6-dac4-4544-9fa2-9eb303c8d801\",                        [{\"arrangement\":\"freeform\",\"dimensions\":[{\"values\":[\"Env. Justice\",\"Env. Justice\",\"Env. Justice\",\"Env. Justice\",\"Env. Justice\",\"Env. Justice\",\"Unclear\",\"Unclear\",\"Unclear\",\"Unclear\",\"Unclear\",\"Unclear\",\"Unclear\",\"Unclear\",\"Unclear\",\"Unclear\",\"Unclear\",\"Unclear\",\"Env. Justice\",\"Env. Justice\",\"Env. Justice\",\"Env. Justice\",\"Unclear\",\"Unclear\",\"Env. Justice\",\"Env. Justice\",\"Unclear\",\"Dist. Justice\",\"Dist. Justice\",\"Dist. Justice\",\"Dist. Justice\",\"Dist. Justice\",\"Dist. Justice\",\"Dist. Justice\",\"Env. Justice\",\"Env. Justice\",\"Unclear\",\"Dist. Justice\",\"Dist. Justice\",\"Unclear\",\"Dist. Justice\",\"Dist. Justice\",\"Dist. Justice\",\"Dist. Justice\",\"Dist. Justice\",\"Dist. Justice\",\"Unclear\",\"Unclear\",\"Unclear\",\"Unclear\",\"Env. Justice\",\"Unclear\",\"Env. Justice\",\"Env. Justice\",\"Dist. Justice\",\"Env. Justice\",\"Env. Justice\",\"Env. Justice\",\"Env. Justice\",\"Env. Justice\",\"Unclear\",\"Env. Justice\",\"Env. Justice\",\"Env. Justice\",\"Env. Justice\",\"Unclear\",\"Unclear\",\"Unclear\",\"Unclear\",\"Unclear\",\"Unclear\",\"Unclear\",\"Env. Justice\",\"Env. Justice\",\"Env. Justice\",\"Unclear\",\"Unclear\",\"Unclear\",\"Unclear\",\"Unclear\",\"Env. Justice\",\"Unclear\"]},{\"values\":[\"ure\",\"nts\",\"nts\",\"ity\",\"nts\",\"ure\",\"isk\",\"isk\",\"isk\",\"isk\",\"ity\",\"isk\",\"ure\",\"ure\",\"ery\",\"isk\",\"ure\",\"its\",\"ure\",\"ure\",\"ure\",\"ure\",\"ure\",\"its\",\"ure\",\"ure\",\"isk\",\"its\",\"its\",\"its\",\"its\",\"its\",\"its\",\"its\",\"ure\",\"ure\",\"its\",\"ure\",\"ery\",\"ity\",\"isk\",\"its\",\"its\",\"its\",\"its\",\"its\",\"ity\",\"its\",\"its\",\"ery\",\"ure\",\"ery\",\"ery\",\"ity\",\"ing\",\"ure\",\"ure\",\"ure\",\"ure\",\"ure\",\"ure\",\"ure\",\"ure\",\"ure\",\"ure\",\"isk\",\"its\",\"ery\",\"ery\",\"ure\",\"ure\",\"ure\",\"nts\",\"ure\",\"nts\",\"ure\",\"ure\",\"act\",\"ure\",\"ure\",\"act\",\"nts\"]},{\"values\":[\"Small Census Areas\",\"Small Census Areas\",\"Small Census Areas\",\"Small Census Areas\",\"Small Census Areas\",\"Small Census Areas\",\"Neighborhood\",\"Individuals\",\"Neighborhood\",\"Individuals\",\"Small Census Areas\",\"Small Census Areas\",\"Large Areas\",\"Small Census Areas\",\"Individuals\",\"Small Census Areas\",\"Individuals\",\"Individuals\",\"Regions\",\"Regions\",\"Large Areas\",\"Small Census Areas\",\"Small Census Areas\",\"Individuals\",\"Small Census Areas\",\"Small Census Areas\",\"Large Areas\",\"Large Areas\",\"Large Areas\",\"Large Areas\",\"Large Areas\",\"Large Areas\",\"Large Areas\",\"Large Areas\",\"Small Census Areas\",\"Small Census Areas\",\"Individuals\",\"Individuals\",\"Individuals\",\"Individuals\",\"Regions\",\"Regions\",\"Individuals\",\"Individuals\",\"Individuals\",\"Individuals\",\"Individuals\",\"Individuals\",\"Individuals\",\"Individuals\",\"Individuals\",\"Individuals\",\"Small Census Areas\",\"Small Census Areas\",\"Small Census Areas\",\"Small Census Areas\",\"Small Census Areas\",\"Small Census Areas\",\"Small Census Areas\",\"Small Census Areas\",\"Small Census Areas\",\"Large Areas\",\"Large Areas\",\"Regions\",\"Regions\",\"Small Census Areas\",\"Large Areas\",\"Small Census Areas\",\"Small Census Areas\",\"Small Census Areas\",\"Individuals\",\"Small Census Areas\",\"Small Census Areas\",\"Small Census Areas\",\"Small Census Areas\",\"Large Areas\",\"Small Census Areas\",\"Individuals\",\"Small Census Areas\",\"Small Census Areas\",\"Individuals\",\"Individuals\"]}],\"hoverinfo\":\"count\",\"hoveron\":\"color\",\"line\":{\"color\":[0,0,0,0,0,0,0,0,0,0,0,0,0,0,0,1,0,1,0,0,0,0,0,1,0,0,1,1,1,1,1,1,1,1,0,0,1,1,1,1,1,1,1,1,1,1,0,1,1,0,0,1,0,0,1,0,0,0,0,0,1,0,0,0,0,0,0,0,0,0,0,0,0,0,0,0,0,0,0,0,1,0],\"colorscale\":[[0,\"#D3D3D3\"],[1,\"salmon\"]]},\"tickfont\":{\"family\":\"Times\",\"size\":1},\"type\":\"parcats\"}],                        {\"template\":{\"data\":{\"histogram2dcontour\":[{\"type\":\"histogram2dcontour\",\"colorbar\":{\"outlinewidth\":0,\"ticks\":\"\"},\"colorscale\":[[0.0,\"#0d0887\"],[0.1111111111111111,\"#46039f\"],[0.2222222222222222,\"#7201a8\"],[0.3333333333333333,\"#9c179e\"],[0.4444444444444444,\"#bd3786\"],[0.5555555555555556,\"#d8576b\"],[0.6666666666666666,\"#ed7953\"],[0.7777777777777778,\"#fb9f3a\"],[0.8888888888888888,\"#fdca26\"],[1.0,\"#f0f921\"]]}],\"choropleth\":[{\"type\":\"choropleth\",\"colorbar\":{\"outlinewidth\":0,\"ticks\":\"\"}}],\"histogram2d\":[{\"type\":\"histogram2d\",\"colorbar\":{\"outlinewidth\":0,\"ticks\":\"\"},\"colorscale\":[[0.0,\"#0d0887\"],[0.1111111111111111,\"#46039f\"],[0.2222222222222222,\"#7201a8\"],[0.3333333333333333,\"#9c179e\"],[0.4444444444444444,\"#bd3786\"],[0.5555555555555556,\"#d8576b\"],[0.6666666666666666,\"#ed7953\"],[0.7777777777777778,\"#fb9f3a\"],[0.8888888888888888,\"#fdca26\"],[1.0,\"#f0f921\"]]}],\"heatmap\":[{\"type\":\"heatmap\",\"colorbar\":{\"outlinewidth\":0,\"ticks\":\"\"},\"colorscale\":[[0.0,\"#0d0887\"],[0.1111111111111111,\"#46039f\"],[0.2222222222222222,\"#7201a8\"],[0.3333333333333333,\"#9c179e\"],[0.4444444444444444,\"#bd3786\"],[0.5555555555555556,\"#d8576b\"],[0.6666666666666666,\"#ed7953\"],[0.7777777777777778,\"#fb9f3a\"],[0.8888888888888888,\"#fdca26\"],[1.0,\"#f0f921\"]]}],\"heatmapgl\":[{\"type\":\"heatmapgl\",\"colorbar\":{\"outlinewidth\":0,\"ticks\":\"\"},\"colorscale\":[[0.0,\"#0d0887\"],[0.1111111111111111,\"#46039f\"],[0.2222222222222222,\"#7201a8\"],[0.3333333333333333,\"#9c179e\"],[0.4444444444444444,\"#bd3786\"],[0.5555555555555556,\"#d8576b\"],[0.6666666666666666,\"#ed7953\"],[0.7777777777777778,\"#fb9f3a\"],[0.8888888888888888,\"#fdca26\"],[1.0,\"#f0f921\"]]}],\"contourcarpet\":[{\"type\":\"contourcarpet\",\"colorbar\":{\"outlinewidth\":0,\"ticks\":\"\"}}],\"contour\":[{\"type\":\"contour\",\"colorbar\":{\"outlinewidth\":0,\"ticks\":\"\"},\"colorscale\":[[0.0,\"#0d0887\"],[0.1111111111111111,\"#46039f\"],[0.2222222222222222,\"#7201a8\"],[0.3333333333333333,\"#9c179e\"],[0.4444444444444444,\"#bd3786\"],[0.5555555555555556,\"#d8576b\"],[0.6666666666666666,\"#ed7953\"],[0.7777777777777778,\"#fb9f3a\"],[0.8888888888888888,\"#fdca26\"],[1.0,\"#f0f921\"]]}],\"surface\":[{\"type\":\"surface\",\"colorbar\":{\"outlinewidth\":0,\"ticks\":\"\"},\"colorscale\":[[0.0,\"#0d0887\"],[0.1111111111111111,\"#46039f\"],[0.2222222222222222,\"#7201a8\"],[0.3333333333333333,\"#9c179e\"],[0.4444444444444444,\"#bd3786\"],[0.5555555555555556,\"#d8576b\"],[0.6666666666666666,\"#ed7953\"],[0.7777777777777778,\"#fb9f3a\"],[0.8888888888888888,\"#fdca26\"],[1.0,\"#f0f921\"]]}],\"mesh3d\":[{\"type\":\"mesh3d\",\"colorbar\":{\"outlinewidth\":0,\"ticks\":\"\"}}],\"scatter\":[{\"fillpattern\":{\"fillmode\":\"overlay\",\"size\":10,\"solidity\":0.2},\"type\":\"scatter\"}],\"parcoords\":[{\"type\":\"parcoords\",\"line\":{\"colorbar\":{\"outlinewidth\":0,\"ticks\":\"\"}}}],\"scatterpolargl\":[{\"type\":\"scatterpolargl\",\"marker\":{\"colorbar\":{\"outlinewidth\":0,\"ticks\":\"\"}}}],\"bar\":[{\"error_x\":{\"color\":\"#2a3f5f\"},\"error_y\":{\"color\":\"#2a3f5f\"},\"marker\":{\"line\":{\"color\":\"#E5ECF6\",\"width\":0.5},\"pattern\":{\"fillmode\":\"overlay\",\"size\":10,\"solidity\":0.2}},\"type\":\"bar\"}],\"scattergeo\":[{\"type\":\"scattergeo\",\"marker\":{\"colorbar\":{\"outlinewidth\":0,\"ticks\":\"\"}}}],\"scatterpolar\":[{\"type\":\"scatterpolar\",\"marker\":{\"colorbar\":{\"outlinewidth\":0,\"ticks\":\"\"}}}],\"histogram\":[{\"marker\":{\"pattern\":{\"fillmode\":\"overlay\",\"size\":10,\"solidity\":0.2}},\"type\":\"histogram\"}],\"scattergl\":[{\"type\":\"scattergl\",\"marker\":{\"colorbar\":{\"outlinewidth\":0,\"ticks\":\"\"}}}],\"scatter3d\":[{\"type\":\"scatter3d\",\"line\":{\"colorbar\":{\"outlinewidth\":0,\"ticks\":\"\"}},\"marker\":{\"colorbar\":{\"outlinewidth\":0,\"ticks\":\"\"}}}],\"scattermapbox\":[{\"type\":\"scattermapbox\",\"marker\":{\"colorbar\":{\"outlinewidth\":0,\"ticks\":\"\"}}}],\"scatterternary\":[{\"type\":\"scatterternary\",\"marker\":{\"colorbar\":{\"outlinewidth\":0,\"ticks\":\"\"}}}],\"scattercarpet\":[{\"type\":\"scattercarpet\",\"marker\":{\"colorbar\":{\"outlinewidth\":0,\"ticks\":\"\"}}}],\"carpet\":[{\"aaxis\":{\"endlinecolor\":\"#2a3f5f\",\"gridcolor\":\"white\",\"linecolor\":\"white\",\"minorgridcolor\":\"white\",\"startlinecolor\":\"#2a3f5f\"},\"baxis\":{\"endlinecolor\":\"#2a3f5f\",\"gridcolor\":\"white\",\"linecolor\":\"white\",\"minorgridcolor\":\"white\",\"startlinecolor\":\"#2a3f5f\"},\"type\":\"carpet\"}],\"table\":[{\"cells\":{\"fill\":{\"color\":\"#EBF0F8\"},\"line\":{\"color\":\"white\"}},\"header\":{\"fill\":{\"color\":\"#C8D4E3\"},\"line\":{\"color\":\"white\"}},\"type\":\"table\"}],\"barpolar\":[{\"marker\":{\"line\":{\"color\":\"#E5ECF6\",\"width\":0.5},\"pattern\":{\"fillmode\":\"overlay\",\"size\":10,\"solidity\":0.2}},\"type\":\"barpolar\"}],\"pie\":[{\"automargin\":true,\"type\":\"pie\"}]},\"layout\":{\"autotypenumbers\":\"strict\",\"colorway\":[\"#636efa\",\"#EF553B\",\"#00cc96\",\"#ab63fa\",\"#FFA15A\",\"#19d3f3\",\"#FF6692\",\"#B6E880\",\"#FF97FF\",\"#FECB52\"],\"font\":{\"color\":\"#2a3f5f\"},\"hovermode\":\"closest\",\"hoverlabel\":{\"align\":\"left\"},\"paper_bgcolor\":\"white\",\"plot_bgcolor\":\"#E5ECF6\",\"polar\":{\"bgcolor\":\"#E5ECF6\",\"angularaxis\":{\"gridcolor\":\"white\",\"linecolor\":\"white\",\"ticks\":\"\"},\"radialaxis\":{\"gridcolor\":\"white\",\"linecolor\":\"white\",\"ticks\":\"\"}},\"ternary\":{\"bgcolor\":\"#E5ECF6\",\"aaxis\":{\"gridcolor\":\"white\",\"linecolor\":\"white\",\"ticks\":\"\"},\"baxis\":{\"gridcolor\":\"white\",\"linecolor\":\"white\",\"ticks\":\"\"},\"caxis\":{\"gridcolor\":\"white\",\"linecolor\":\"white\",\"ticks\":\"\"}},\"coloraxis\":{\"colorbar\":{\"outlinewidth\":0,\"ticks\":\"\"}},\"colorscale\":{\"sequential\":[[0.0,\"#0d0887\"],[0.1111111111111111,\"#46039f\"],[0.2222222222222222,\"#7201a8\"],[0.3333333333333333,\"#9c179e\"],[0.4444444444444444,\"#bd3786\"],[0.5555555555555556,\"#d8576b\"],[0.6666666666666666,\"#ed7953\"],[0.7777777777777778,\"#fb9f3a\"],[0.8888888888888888,\"#fdca26\"],[1.0,\"#f0f921\"]],\"sequentialminus\":[[0.0,\"#0d0887\"],[0.1111111111111111,\"#46039f\"],[0.2222222222222222,\"#7201a8\"],[0.3333333333333333,\"#9c179e\"],[0.4444444444444444,\"#bd3786\"],[0.5555555555555556,\"#d8576b\"],[0.6666666666666666,\"#ed7953\"],[0.7777777777777778,\"#fb9f3a\"],[0.8888888888888888,\"#fdca26\"],[1.0,\"#f0f921\"]],\"diverging\":[[0,\"#8e0152\"],[0.1,\"#c51b7d\"],[0.2,\"#de77ae\"],[0.3,\"#f1b6da\"],[0.4,\"#fde0ef\"],[0.5,\"#f7f7f7\"],[0.6,\"#e6f5d0\"],[0.7,\"#b8e186\"],[0.8,\"#7fbc41\"],[0.9,\"#4d9221\"],[1,\"#276419\"]]},\"xaxis\":{\"gridcolor\":\"white\",\"linecolor\":\"white\",\"ticks\":\"\",\"title\":{\"standoff\":15},\"zerolinecolor\":\"white\",\"automargin\":true,\"zerolinewidth\":2},\"yaxis\":{\"gridcolor\":\"white\",\"linecolor\":\"white\",\"ticks\":\"\",\"title\":{\"standoff\":15},\"zerolinecolor\":\"white\",\"automargin\":true,\"zerolinewidth\":2},\"scene\":{\"xaxis\":{\"backgroundcolor\":\"#E5ECF6\",\"gridcolor\":\"white\",\"linecolor\":\"white\",\"showbackground\":true,\"ticks\":\"\",\"zerolinecolor\":\"white\",\"gridwidth\":2},\"yaxis\":{\"backgroundcolor\":\"#E5ECF6\",\"gridcolor\":\"white\",\"linecolor\":\"white\",\"showbackground\":true,\"ticks\":\"\",\"zerolinecolor\":\"white\",\"gridwidth\":2},\"zaxis\":{\"backgroundcolor\":\"#E5ECF6\",\"gridcolor\":\"white\",\"linecolor\":\"white\",\"showbackground\":true,\"ticks\":\"\",\"zerolinecolor\":\"white\",\"gridwidth\":2}},\"shapedefaults\":{\"line\":{\"color\":\"#2a3f5f\"}},\"annotationdefaults\":{\"arrowcolor\":\"#2a3f5f\",\"arrowhead\":0,\"arrowwidth\":1},\"geo\":{\"bgcolor\":\"white\",\"landcolor\":\"#E5ECF6\",\"subunitcolor\":\"white\",\"showland\":true,\"showlakes\":true,\"lakecolor\":\"white\"},\"title\":{\"x\":0.05},\"mapbox\":{\"style\":\"light\"}}},\"autosize\":true},                        {\"responsive\": true}                    ).then(function(){\n",
       "                            \n",
       "var gd = document.getElementById('3829d2b6-dac4-4544-9fa2-9eb303c8d801');\n",
       "var x = new MutationObserver(function (mutations, observer) {{\n",
       "        var display = window.getComputedStyle(gd).display;\n",
       "        if (!display || display === 'none') {{\n",
       "            console.log([gd, 'removed!']);\n",
       "            Plotly.purge(gd);\n",
       "            observer.disconnect();\n",
       "        }}\n",
       "}});\n",
       "\n",
       "// Listen for the removal of the full notebook cells\n",
       "var notebookContainer = gd.closest('#notebook-container');\n",
       "if (notebookContainer) {{\n",
       "    x.observe(notebookContainer, {childList: true});\n",
       "}}\n",
       "\n",
       "// Listen for the clearing of the current output cell\n",
       "var outputEl = gd.closest('.output');\n",
       "if (outputEl) {{\n",
       "    x.observe(outputEl, {childList: true});\n",
       "}}\n",
       "\n",
       "                        })                };                });            </script>        </div>"
      ]
     },
     "metadata": {},
     "output_type": "display_data"
    }
   ],
   "source": [
    "# Link eqm dataframe with whether a study defined equity or not\n",
    "# All studies with equity metrics do this\n",
    "# Not always the case for non-equity metrics even\n",
    "# if they say results have equity implications\n",
    "eq_defs = dict(zip(sub_papers['doi'],\n",
    "                   sub_papers['equity_defined_cat']))\n",
    "eqm['eq_d'] = eqm['doi'].map(eq_defs)\n",
    "\n",
    "eqm['eq_fair'] = 'Unclear'\n",
    "eqm.loc[eqm['eq_d'] == 2,\n",
    "        'eq_fair'] = 'Env. Justice'\n",
    "eqm.loc[eqm['eq_d'] == 3,\n",
    "        'eq_fair'] = 'Dist. Justice'\n",
    "\n",
    "eqm['whom_dist_p'] = eqm['whom_dist'].copy()\n",
    "eqm.loc[eqm['whom_dist'] == 'Zip Codes',\n",
    "        'whom_dist_p'] = 'Small Census Areas'\n",
    "eqm.loc[eqm['whom_dist'] == 'County',\n",
    "        'whom_dist_p'] = 'Large Areas'\n",
    "\n",
    "# 1) Equity in what\n",
    "# 2) Equity for whom\n",
    "# 3) Equity why\n",
    "# Color by ethically grounded\n",
    "import plotly.graph_objects as go\n",
    "\n",
    "\n",
    "# Create dimensions\n",
    "def_dim = go.parcats.Dimension(\n",
    "    values=eqm['eq_fair'],\n",
    ")\n",
    "\n",
    "what_dim = go.parcats.Dimension(\n",
    "    values=eqm['what_dist'].str[-3:],\n",
    ")\n",
    "\n",
    "whom_dim = go.parcats.Dimension(\n",
    "    values=eqm['whom_dist_p'],\n",
    ")\n",
    "\n",
    "\n",
    "# Create parcats trace\n",
    "color = np.where(eqm['meas_scale'] != 'Yes',\n",
    "                  0, 1)\n",
    "colorscale = [[0, '#D3D3D3'], [1, 'salmon']]\n",
    "\n",
    "fig = go.Figure(data = [go.Parcats(dimensions=[def_dim,\n",
    "                                               what_dim,\n",
    "                                               whom_dim],\n",
    "        line={'color': color,\n",
    "              'colorscale': colorscale},\n",
    "        hoveron='color', hoverinfo='count',\n",
    "        tickfont={'size': 1, 'family': 'Times'},\n",
    "        arrangement='freeform')]\n",
    "              )\n",
    "fig.update_layout(\n",
    "    autosize=True)\n",
    "\n",
    "fig.show()"
   ]
  },
  {
   "cell_type": "markdown",
   "id": "9249fbdc",
   "metadata": {},
   "source": [
    "# Summary stats of coded categories"
   ]
  },
  {
   "cell_type": "code",
   "execution_count": 38,
   "id": "a395c52a",
   "metadata": {},
   "outputs": [
    {
     "data": {
      "text/plain": [
       "Unclear          0.470588\n",
       "Env. Justice     0.294118\n",
       "Dist. Justice    0.235294\n",
       "Name: eq_fair, dtype: float64"
      ]
     },
     "execution_count": 38,
     "metadata": {},
     "output_type": "execute_result"
    }
   ],
   "source": [
    "eqm_plot['eq_fair'].value_counts()/len(eqm_plot)"
   ]
  },
  {
   "cell_type": "code",
   "execution_count": 39,
   "id": "a135d6df",
   "metadata": {},
   "outputs": [
    {
     "name": "stdout",
     "output_type": "stream",
     "text": [
      "What is Being Distributed Proportions\n",
      "Exposure                  0.367647\n",
      "Benefits                  0.264706\n",
      "Risk                      0.102941\n",
      "Recovery                  0.102941\n",
      "Vulnerability             0.073529\n",
      "Adaptation Instruments    0.044118\n",
      "Adaptation Impact         0.029412\n",
      "Adaptation Cost           0.014706\n",
      "Name: what_dist, dtype: float64\n",
      "What is Being Distributed Totals\n",
      "Exposure                  25\n",
      "Benefits                  18\n",
      "Risk                       7\n",
      "Recovery                   7\n",
      "Vulnerability              5\n",
      "Adaptation Instruments     3\n",
      "Adaptation Impact          2\n",
      "Adaptation Cost            1\n",
      "Name: what_dist, dtype: int64\n",
      "Proportions by Direct/Implicit\n",
      "meas_scale  what_dist             \n",
      "No          Adaptation Impact         0.500000\n",
      "            Adaptation Instruments    1.000000\n",
      "            Exposure                  0.920000\n",
      "            Recovery                  0.714286\n",
      "            Risk                      0.571429\n",
      "            Vulnerability             0.800000\n",
      "Yes         Adaptation Cost           1.000000\n",
      "            Adaptation Impact         0.500000\n",
      "            Benefits                  1.000000\n",
      "            Exposure                  0.080000\n",
      "            Recovery                  0.285714\n",
      "            Risk                      0.428571\n",
      "            Vulnerability             0.200000\n",
      "dtype: float64\n"
     ]
    }
   ],
   "source": [
    "print('What is Being Distributed Proportions')\n",
    "print(eqm_plot['what_dist'].value_counts()/len(eqm_plot))\n",
    "\n",
    "print('What is Being Distributed Totals')\n",
    "print(eqm_plot['what_dist'].value_counts())\n",
    "\n",
    "print('Proportions by Direct/Implicit')\n",
    "print(eqm_plot.groupby(['meas_scale', 'what_dist']).size()/eqm_plot.groupby(['what_dist']).size())"
   ]
  },
  {
   "cell_type": "code",
   "execution_count": 41,
   "id": "08367d8b",
   "metadata": {},
   "outputs": [
    {
     "name": "stdout",
     "output_type": "stream",
     "text": [
      "Census Areas    0.367647\n",
      "Individuals     0.338235\n",
      "Large Areas     0.176471\n",
      "Regions         0.058824\n",
      "Zip Codes       0.029412\n",
      "Neighborhood    0.014706\n",
      "County          0.014706\n",
      "Name: whom_dist, dtype: float64\n"
     ]
    }
   ],
   "source": [
    "print(eqm_plot['whom_dist'].value_counts()/len(eqm_plot))"
   ]
  },
  {
   "cell_type": "code",
   "execution_count": 42,
   "id": "23021937",
   "metadata": {},
   "outputs": [
    {
     "name": "stdout",
     "output_type": "stream",
     "text": [
      "How is it Distributed Proportions\n",
      "Other Considerations                 0.500000\n",
      "Distributive; Policy                 0.308824\n",
      "Distributive                         0.058824\n",
      "Other Considerations; Policy         0.058824\n",
      "Distributive; Procedural             0.029412\n",
      "Distributive; Recognition; Policy    0.014706\n",
      "Other Considerations; Procedural     0.014706\n",
      "Policy; Recognition                  0.014706\n",
      "Name: how_dist_fair, dtype: float64\n",
      "How is it Distributed Totals\n",
      "Other Considerations                 34\n",
      "Distributive; Policy                 21\n",
      "Distributive                          4\n",
      "Other Considerations; Policy          4\n",
      "Distributive; Procedural              2\n",
      "Distributive; Recognition; Policy     1\n",
      "Other Considerations; Procedural      1\n",
      "Policy; Recognition                   1\n",
      "Name: how_dist_fair, dtype: int64\n"
     ]
    }
   ],
   "source": [
    "print('How is it Distributed Proportions')\n",
    "print(eqm_plot['how_dist_fair'].value_counts()/len(eqm_plot))\n",
    "\n",
    "print('How is it Distributed Totals')\n",
    "print(eqm_plot['how_dist_fair'].value_counts())"
   ]
  },
  {
   "cell_type": "code",
   "execution_count": 45,
   "id": "ae53a928",
   "metadata": {},
   "outputs": [
    {
     "data": {
      "text/plain": [
       "Dist. Justice    0.571429\n",
       "Unclear          0.392857\n",
       "Env. Justice     0.035714\n",
       "Name: eq_fair, dtype: float64"
      ]
     },
     "execution_count": 45,
     "metadata": {},
     "output_type": "execute_result"
    }
   ],
   "source": [
    "eqm_plot[eqm_plot['meas_scale'] == 'Yes']['eq_fair'].value_counts()/len(eqm_plot[eqm_plot['meas_scale'] == 'Yes'])"
   ]
  },
  {
   "cell_type": "markdown",
   "id": "5c0ab345",
   "metadata": {},
   "source": [
    "## Subsets of review referenced in paper "
   ]
  },
  {
   "cell_type": "code",
   "execution_count": 67,
   "id": "e8f8088c",
   "metadata": {},
   "outputs": [
    {
     "data": {
      "text/plain": [
       "what_dist               whom_dist     how_dist_fair                    \n",
       "Adaptation Impact       Individuals   Distributive; Recognition; Policy    1\n",
       "Adaptation Instruments  Census Areas  Other Considerations                 2\n",
       "Exposure                Census Areas  Other Considerations                 9\n",
       "                        Individuals   Other Considerations                 1\n",
       "                        Large Areas   Other Considerations                 1\n",
       "                        Regions       Other Considerations                 1\n",
       "Recovery                Census Areas  Other Considerations                 1\n",
       "Vulnerability           Census Areas  Other Considerations                 1\n",
       "                                      Other Considerations; Policy         1\n",
       "dtype: int64"
      ]
     },
     "execution_count": 67,
     "metadata": {},
     "output_type": "execute_result"
    }
   ],
   "source": [
    "# Referencing modal EJ measurement framework\n",
    "eqm_plot[eqm_plot['eq_fair'] == 'Env. Justice'].groupby(['what_dist', 'whom_dist', 'how_dist_fair']).size()"
   ]
  },
  {
   "cell_type": "code",
   "execution_count": 20,
   "id": "436d01ee",
   "metadata": {},
   "outputs": [
    {
     "data": {
      "text/plain": [
       "12"
      ]
     },
     "execution_count": 20,
     "metadata": {},
     "output_type": "execute_result"
    }
   ],
   "source": [
    "len(eqm_plot[(eqm_plot['what_dist'] == 'Exposure') &\n",
    "         (eqm_plot['whom_dist'] == 'Census Areas') &\n",
    "         (eqm_plot['how_dist_fair'] == 'Other Considerations')])"
   ]
  },
  {
   "cell_type": "code",
   "execution_count": null,
   "id": "bec027ef",
   "metadata": {},
   "outputs": [],
   "source": []
  }
 ],
 "metadata": {
  "kernelspec": {
   "display_name": "eqmeas",
   "language": "python",
   "name": "eqmeas"
  },
  "language_info": {
   "codemirror_mode": {
    "name": "ipython",
    "version": 3
   },
   "file_extension": ".py",
   "mimetype": "text/x-python",
   "name": "python",
   "nbconvert_exporter": "python",
   "pygments_lexer": "ipython3",
   "version": "3.10.9"
  }
 },
 "nbformat": 4,
 "nbformat_minor": 5
}
